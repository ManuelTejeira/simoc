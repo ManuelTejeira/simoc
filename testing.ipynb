{
 "cells": [
  {
   "cell_type": "markdown",
   "metadata": {},
   "source": [
    "# Install additional Python libraries"
   ]
  },
  {
   "cell_type": "code",
   "execution_count": 1,
   "metadata": {},
   "outputs": [],
   "source": [
    "# !pip install quantities"
   ]
  },
  {
   "cell_type": "markdown",
   "metadata": {},
   "source": [
    "# Delete existing DB"
   ]
  },
  {
   "cell_type": "code",
   "execution_count": 2,
   "metadata": {},
   "outputs": [],
   "source": [
    "!rm simoc_server/db.sqlite"
   ]
  },
  {
   "cell_type": "markdown",
   "metadata": {},
   "source": [
    "# Import Python libraries"
   ]
  },
  {
   "cell_type": "code",
   "execution_count": 3,
   "metadata": {},
   "outputs": [],
   "source": [
    "import json\n",
    "from random import randint"
   ]
  },
  {
   "cell_type": "code",
   "execution_count": 4,
   "metadata": {},
   "outputs": [],
   "source": [
    "import pprint\n",
    "pp = pprint.PrettyPrinter()"
   ]
  },
  {
   "cell_type": "code",
   "execution_count": 5,
   "metadata": {},
   "outputs": [
    {
     "name": "stdout",
     "output_type": "stream",
     "text": [
      "Unknown DB_TYPE variable: \"None\"\n",
      "Using SQLite by default\n"
     ]
    }
   ],
   "source": [
    "from simoc_server import app, db\n",
    "from simoc_server.database.db_model import User\n",
    "from simoc_server.database.seed_data import seed\n",
    "from simoc_server.game_runner import GameRunnerManager, GameRunnerInitializationParams"
   ]
  },
  {
   "cell_type": "markdown",
   "metadata": {},
   "source": [
    "# Load Agent model"
   ]
  },
  {
   "cell_type": "code",
   "execution_count": 6,
   "metadata": {
    "scrolled": false
   },
   "outputs": [],
   "source": [
    "db.drop_all()\n",
    "db.create_all()\n",
    "seed.seed('agent_desc.json')"
   ]
  },
  {
   "cell_type": "markdown",
   "metadata": {},
   "source": [
    "# Create new user"
   ]
  },
  {
   "cell_type": "code",
   "execution_count": 7,
   "metadata": {},
   "outputs": [
    {
     "name": "stdout",
     "output_type": "stream",
     "text": [
      "Creating new user\n"
     ]
    }
   ],
   "source": [
    "username = 'user1'\n",
    "password = 'user1'\n",
    "\n",
    "user = User.query.filter_by(username=username).first()\n",
    "if not user:\n",
    "    print('Creating new user')\n",
    "    user = User(username=username)\n",
    "    user.set_password(password)\n",
    "    db.session.add(user)\n",
    "    db.session.commit()"
   ]
  },
  {
   "cell_type": "markdown",
   "metadata": {},
   "source": [
    "# Initialize the ABM"
   ]
  },
  {
   "cell_type": "code",
   "execution_count": 8,
   "metadata": {
    "scrolled": false
   },
   "outputs": [],
   "source": [
    "game_config = {\"agents\": {\n",
    "    \"human_agent\": [{\"connections\": {\"air_storage\": [1], \"water_storage\": [1, 2], \"food_storage\": [1]}, \"amount\": 10}],\n",
    "    \"cabbage\": [{\"connections\": {\"air_storage\": [1], \"water_storage\": [1, 2], \"nutrient_storage\": [1],\n",
    "                                 \"power_storage\": [1], \"food_storage\": [1]}, \"amount\": 10}],\n",
    "    \"lettuce\": [{\"connections\": {\"air_storage\": [1], \"water_storage\": [1, 2], \"nutrient_storage\": [1],\n",
    "                                 \"power_storage\": [1], \"food_storage\": [1]}, \"amount\": 10}],\n",
    "    \"greenhouse_medium\": [{\"connections\": {\"power_storage\": [1]}, \"amount\": 1}],\n",
    "    \"solar_pv_array\": [{\"connections\": {\"power_storage\": [1]}, \"amount\": 100}],\n",
    "    \"multifiltration_purifier_post_treament\": [{\"connections\": {\"water_storage\": [1, 2]}, \"amount\": 1}],\n",
    "    \"urine_recycling_processor_VCD\": [{\"connections\": {\"power_storage\": [1], \"water_storage\": [1, 2]}, \"amount\": 1}],\n",
    "    \"co2_removal_SAWD\": [{\"connections\": {\"power_storage\": [1], \"air_storage\": [1]}, \"amount\": 1}]},\n",
    "\"storages\": {\n",
    "    \"air_storage\": [{\"id\": 1, \"atmo_h2o\": 100, \"atmo_o2\": 100, \"atmo_co2\": 100}],\n",
    "    \"water_storage\": [{\"id\": 1, \"h2o_potb\": 100, \"h2o_tret\": 100}, {\"id\": 2, \"h2o_wste\": 100, \"h2o_urin\": 0}],\n",
    "    \"nutrient_storage\": [{\"id\": 1, \"sold_n\": 100, \"sold_p\": 100, \"sold_k\": 100}],\n",
    "    \"power_storage\": [{\"id\": 1, \"enrg_kwh\": 1000}],\n",
    "    \"food_storage\": [{\"id\": 1, \"food_edbl\": 1000}]},\n",
    "\"termination\": {\n",
    "    \"time\": {\"value\": 2000, \"unit\": \"hour\"}},\n",
    "    \"food_leaf\": {\"value\": 10000, \"unit\": \"kg\"},\n",
    "    \"evacuation\": {}\n",
    "}"
   ]
  },
  {
   "cell_type": "code",
   "execution_count": 9,
   "metadata": {},
   "outputs": [],
   "source": [
    "game_config = {\"agents\": {\n",
    "    \"human_agent\": [{\"connections\": {\"air_storage\": [1], \"nutrient_storage\": [1], \"power_storage\": [1], \"water_storage\": [1, 2], \"food_storage\": [1]}, \"amount\": 20}],\n",
    "    \"cabbage\": [{\"connections\": {\"air_storage\": [1], \"water_storage\": [1, 2], \"nutrient_storage\": [1],\n",
    "                                 \"power_storage\": [1], \"food_storage\": [1]}, \"amount\": 10}],\n",
    "    \"lettuce\": [{\"connections\": {\"air_storage\": [1], \"water_storage\": [1, 2], \"nutrient_storage\": [1],\n",
    "                                 \"power_storage\": [1], \"food_storage\": [1]}, \"amount\": 10}],\n",
    "    \"greenhouse_medium\": [{\"connections\": {\"power_storage\": [1]}, \"amount\": 1}],\n",
    "    \"solar_pv_array_mars\": [{\"connections\": {\"power_storage\": [1]}, \"amount\": 100}],\n",
    "    \"multifiltration_purifier_post_treament\": [{\"connections\": {\"water_storage\": [1, 2]}, \"amount\": 1}],\n",
    "    \"urine_recycling_processor_VCD\": [{\"connections\": {\"power_storage\": [1], \"water_storage\": [1, 2]}, \"amount\": 1}]},\n",
    "\"storages\": {\n",
    "    \"air_storage\": [{\"id\": 1, \"atmo_h2o\": 100, \"atmo_o2\": 100, \"atmo_co2\": 100}],\n",
    "    \"water_storage\": [{\"id\": 1, \"h2o_potb\": 100, \"h2o_tret\": 100}, {\"id\": 2, \"h2o_wste\": 100, \"h2o_urin\": 100}],\n",
    "    \"nutrient_storage\": [{\"id\": 1, \"sold_n\": 100, \"sold_p\": 100, \"sold_k\": 100, \"sold_wast\": 100}],\n",
    "    \"power_storage\": [{\"id\": 1, \"enrg_kwh\": 1000, \"heat_cal\": 1000}],\n",
    "    \"food_storage\": [{\"id\": 1, \"food_edbl\": 200}]},\n",
    "\"termination\": [\n",
    "    {\"condition\": \"time\", \"value\": 2, \"unit\": \"year\"},\n",
    "    {\"condition\": \"food_leaf\", \"value\": 10000, \"unit\": \"kg\"},\n",
    "    {\"condition\": \"evacuation\"}]\n",
    "}"
   ]
  },
  {
   "cell_type": "code",
   "execution_count": 10,
   "metadata": {},
   "outputs": [],
   "source": [
    "game_config = {\"agents\": {\n",
    "    \"solar_pv_array_mars\": [{\"connections\": {\"power_storage\": [1]}, \"amount\": 100}]\n",
    "    },\n",
    "\"storages\": {\n",
    "    \"power_storage\": [{\"id\": 1, \"enrg_kwh\": 0}]\n",
    "    },\n",
    "\"termination\": [\n",
    "    {\"condition\": \"time\", \"value\": 2, \"unit\": \"year\"},\n",
    "    {\"condition\": \"food_leaf\", \"value\": 10000, \"unit\": \"kg\"},\n",
    "    {\"condition\": \"evacuation\"}]\n",
    "}"
   ]
  },
  {
   "cell_type": "code",
   "execution_count": 11,
   "metadata": {},
   "outputs": [],
   "source": [
    "game_config = {\"agents\": {\n",
    "    \"co2_removal_SAWD\": [{\"connections\": {\"power_storage\": [1], \"air_storage\": [1]}, \"amount\": 100}],\n",
    "    \"cabbage\": [{\"connections\": {\"air_storage\": [1], \"water_storage\": [1, 2], \"nutrient_storage\": [1],\n",
    "                                 \"power_storage\": [1], \"food_storage\": [1]}, \"amount\": 10}],\n",
    "    },\n",
    "\"storages\": {\n",
    "    \"air_storage\": [{\"id\": 1, \"atmo_h2o\": 100, \"atmo_o2\": 100, \"atmo_co2\": 100}],\n",
    "    \"water_storage\": [{\"id\": 1, \"h2o_potb\": 100, \"h2o_tret\": 100}, {\"id\": 2, \"h2o_wste\": 100, \"h2o_urin\": 100}],\n",
    "    \"nutrient_storage\": [{\"id\": 1, \"sold_n\": 100, \"sold_p\": 100, \"sold_k\": 100, \"sold_wast\": 100}],\n",
    "    \"power_storage\": [{\"id\": 1, \"enrg_kwh\": 1000, \"heat_cal\": 1000}],\n",
    "    \"food_storage\": [{\"id\": 1, \"food_edbl\": 200}]\n",
    "    },\n",
    "\"termination\": [\n",
    "    {\"condition\": \"time\", \"value\": 2, \"unit\": \"year\"},\n",
    "    {\"condition\": \"food_leaf\", \"value\": 10000, \"unit\": \"kg\"},\n",
    "    {\"condition\": \"evacuation\"}]\n",
    "}"
   ]
  },
  {
   "cell_type": "code",
   "execution_count": 12,
   "metadata": {
    "scrolled": false
   },
   "outputs": [],
   "source": [
    "game_runner_manager = GameRunnerManager()\n",
    "game_runner_init_params = GameRunnerInitializationParams(game_config)\n",
    "game_runner_manager.new_game(user, game_runner_init_params)\n",
    "game_runner = game_runner_manager.get_game_runner(user)"
   ]
  },
  {
   "cell_type": "markdown",
   "metadata": {},
   "source": [
    "# Run the simiulation"
   ]
  },
  {
   "cell_type": "code",
   "execution_count": 13,
   "metadata": {
    "scrolled": false
   },
   "outputs": [
    {
     "name": "stdout",
     "output_type": "stream",
     "text": [
      "{'agents': {'total_agent_types': {'cabbage': 10, 'co2_removal_SAWD': 100},\n",
      "            'total_consumption': {'atmo_co2': {'units': 'kg',\n",
      "                                               'value': '21.1038'},\n",
      "                                  'enrg_kwh': {'units': 'kWh',\n",
      "                                               'value': '112.9761'},\n",
      "                                  'h2o_potb': {'units': 'g', 'value': '2.5529'},\n",
      "                                  'sold_k': {'units': 'g', 'value': '0.0274'},\n",
      "                                  'sold_n': {'units': 'g', 'value': '0.0983'},\n",
      "                                  'sold_p': {'units': 'g', 'value': '0.0036'}},\n",
      "            'total_production': {'atmo_o2': {'units': 'g', 'value': '2.7529'},\n",
      "                                 'food_edbl': {'units': 'g',\n",
      "                                               'value': '214.6250'}}},\n",
      " 'hours_per_step': 1.0,\n",
      " 'is_terminated': False,\n",
      " 'model_stats': {'air_storage_1': {'atmo_ch4_ratio': 0,\n",
      "                                   'atmo_co2_ratio': 0,\n",
      "                                   'atmo_h2_ratio': 0,\n",
      "                                   'atmo_h2o_ratio': 0.49925780710539236,\n",
      "                                   'atmo_n2_ratio': 0,\n",
      "                                   'atmo_o2_ratio': 0.5007421928946076},\n",
      "                 'food_storage_1': {'food_edbl_ratio': 1.0},\n",
      "                 'nutrient_storage_1': {'sold_k_ratio': 0.25000133424596716,\n",
      "                                        'sold_n_ratio': 0.2499821917984277,\n",
      "                                        'sold_p_ratio': 0.25000774659262437,\n",
      "                                        'sold_wast_ratio': 0.2500087273629808},\n",
      "                 'power_storage_1': {'enrg_kwh_ratio': 0.9999965263194328,\n",
      "                                     'heat_cal_ratio': 3.4736805672836216e-06},\n",
      "                 'water_storage_1': {'h2o_potb_ratio': 0.49965511852751887,\n",
      "                                     'h2o_treated_ratio': 0,\n",
      "                                     'h2o_tret_ratio': 0.5003448814724811,\n",
      "                                     'h2o_urin_ratio': 0,\n",
      "                                     'h2o_wste_ratio': 0},\n",
      "                 'water_storage_2': {'h2o_potb_ratio': 0,\n",
      "                                     'h2o_treated_ratio': 0,\n",
      "                                     'h2o_tret_ratio': 0,\n",
      "                                     'h2o_urin_ratio': 0.5,\n",
      "                                     'h2o_wste_ratio': 0.5}},\n",
      " 'step': 100,\n",
      " 'storages': [{'agent_id': 1,\n",
      "               'agent_type': 'water_storage',\n",
      "               'currencies': [{'capacity': 100,\n",
      "                               'name': 'h2o_treated',\n",
      "                               'units': 'kg',\n",
      "                               'value': '0.0000'},\n",
      "                              {'capacity': 400,\n",
      "                               'name': 'h2o_potb',\n",
      "                               'units': 'kg',\n",
      "                               'value': '99.8724'},\n",
      "                              {'capacity': 200,\n",
      "                               'name': 'h2o_urin',\n",
      "                               'units': 'kg',\n",
      "                               'value': '0.0000'},\n",
      "                              {'capacity': 250,\n",
      "                               'name': 'h2o_wste',\n",
      "                               'units': 'kg',\n",
      "                               'value': '0.0000'},\n",
      "                              {'capacity': 250,\n",
      "                               'name': 'h2o_tret',\n",
      "                               'units': 'kg',\n",
      "                               'value': '100.0000'}]},\n",
      "              {'agent_id': 1,\n",
      "               'agent_type': 'food_storage',\n",
      "               'currencies': [{'capacity': 1000,\n",
      "                               'name': 'food_edbl',\n",
      "                               'units': 'kg',\n",
      "                               'value': '200.0000'}]},\n",
      "              {'agent_id': 2,\n",
      "               'agent_type': 'water_storage',\n",
      "               'currencies': [{'capacity': 100,\n",
      "                               'name': 'h2o_treated',\n",
      "                               'units': 'kg',\n",
      "                               'value': '0.0000'},\n",
      "                              {'capacity': 400,\n",
      "                               'name': 'h2o_potb',\n",
      "                               'units': 'kg',\n",
      "                               'value': '0.0000'},\n",
      "                              {'capacity': 200,\n",
      "                               'name': 'h2o_urin',\n",
      "                               'units': 'kg',\n",
      "                               'value': '100.0000'},\n",
      "                              {'capacity': 250,\n",
      "                               'name': 'h2o_wste',\n",
      "                               'units': 'kg',\n",
      "                               'value': '100.0000'},\n",
      "                              {'capacity': 250,\n",
      "                               'name': 'h2o_tret',\n",
      "                               'units': 'kg',\n",
      "                               'value': '0.0000'}]},\n",
      "              {'agent_id': 1,\n",
      "               'agent_type': 'nutrient_storage',\n",
      "               'currencies': [{'capacity': 100,\n",
      "                               'name': 'sold_n',\n",
      "                               'units': 'kg',\n",
      "                               'value': '99.9902'},\n",
      "                              {'capacity': 100,\n",
      "                               'name': 'sold_p',\n",
      "                               'units': 'kg',\n",
      "                               'value': '99.9996'},\n",
      "                              {'capacity': 100,\n",
      "                               'name': 'sold_k',\n",
      "                               'units': 'kg',\n",
      "                               'value': '99.9973'},\n",
      "                              {'capacity': 100,\n",
      "                               'name': 'sold_wast',\n",
      "                               'units': 'kg',\n",
      "                               'value': '100.0000'}]},\n",
      "              {'agent_id': 1,\n",
      "               'agent_type': 'power_storage',\n",
      "               'currencies': [{'capacity': 1000,\n",
      "                               'name': 'enrg_kwh',\n",
      "                               'units': 'kWh',\n",
      "                               'value': '342.3873'},\n",
      "                              {'capacity': 1000,\n",
      "                               'name': 'heat_cal',\n",
      "                               'units': 'cal',\n",
      "                               'value': '1000.0000'}]},\n",
      "              {'agent_id': 1,\n",
      "               'agent_type': 'air_storage',\n",
      "               'currencies': [{'capacity': 400,\n",
      "                               'name': 'atmo_o2',\n",
      "                               'units': 'kg',\n",
      "                               'value': '100.2753'},\n",
      "                              {'capacity': 200,\n",
      "                               'name': 'atmo_co2',\n",
      "                               'units': 'kg',\n",
      "                               'value': '0.0000'},\n",
      "                              {'capacity': 400,\n",
      "                               'name': 'atmo_n2',\n",
      "                               'units': 'kg',\n",
      "                               'value': '0.0000'},\n",
      "                              {'capacity': 200,\n",
      "                               'name': 'atmo_ch4',\n",
      "                               'units': 'kg',\n",
      "                               'value': '0.0000'},\n",
      "                              {'capacity': 100,\n",
      "                               'name': 'atmo_h2',\n",
      "                               'units': 'kg',\n",
      "                               'value': '0.0000'},\n",
      "                              {'capacity': 200,\n",
      "                               'name': 'atmo_h2o',\n",
      "                               'units': 'kg',\n",
      "                               'value': '100.0000'}]}],\n",
      " 'time': 360000.0}\n"
     ]
    }
   ],
   "source": [
    "num_steps = 100\n",
    "for i in range(1, num_steps + 1):\n",
    "    agent_model_state = game_runner_manager.get_step(user, i)\n",
    "#     if i % 100 == 0:\n",
    "#         print(\"Step: {}\".format(i))\n",
    "#         pp.pprint(agent_model_state)\n",
    "pp.pprint(agent_model_state)"
   ]
  },
  {
   "cell_type": "code",
   "execution_count": 14,
   "metadata": {},
   "outputs": [],
   "source": [
    "game_runner_manager.save_all(allow_repeat_save=False)"
   ]
  },
  {
   "cell_type": "code",
   "execution_count": 15,
   "metadata": {},
   "outputs": [
    {
     "data": {
      "text/plain": [
       "[{'agent_type': 'water_storage',\n",
       "  'agent_id': 1,\n",
       "  'currencies': [{'name': 'h2o_treated',\n",
       "    'value': '0.0000',\n",
       "    'capacity': 100,\n",
       "    'units': 'kg'},\n",
       "   {'name': 'h2o_potb', 'value': '99.8609', 'capacity': 400, 'units': 'kg'},\n",
       "   {'name': 'h2o_urin', 'value': '0.0000', 'capacity': 200, 'units': 'kg'},\n",
       "   {'name': 'h2o_wste', 'value': '0.0000', 'capacity': 250, 'units': 'kg'},\n",
       "   {'name': 'h2o_tret', 'value': '100.0000', 'capacity': 250, 'units': 'kg'}]},\n",
       " {'agent_type': 'air_storage',\n",
       "  'agent_id': 1,\n",
       "  'currencies': [{'name': 'atmo_o2',\n",
       "    'value': '100.3001',\n",
       "    'capacity': 400,\n",
       "    'units': 'kg'},\n",
       "   {'name': 'atmo_co2', 'value': '0.0000', 'capacity': 200, 'units': 'kg'},\n",
       "   {'name': 'atmo_n2', 'value': '0.0000', 'capacity': 400, 'units': 'kg'},\n",
       "   {'name': 'atmo_ch4', 'value': '0.0000', 'capacity': 200, 'units': 'kg'},\n",
       "   {'name': 'atmo_h2', 'value': '0.0000', 'capacity': 100, 'units': 'kg'},\n",
       "   {'name': 'atmo_h2o', 'value': '100.0000', 'capacity': 200, 'units': 'kg'}]},\n",
       " {'agent_type': 'power_storage',\n",
       "  'agent_id': 1,\n",
       "  'currencies': [{'name': 'enrg_kwh',\n",
       "    'value': '333.6022',\n",
       "    'capacity': 1000,\n",
       "    'units': 'kWh'},\n",
       "   {'name': 'heat_cal',\n",
       "    'value': '1000.0000',\n",
       "    'capacity': 1000,\n",
       "    'units': 'cal'}]},\n",
       " {'agent_type': 'nutrient_storage',\n",
       "  'agent_id': 1,\n",
       "  'currencies': [{'name': 'sold_n',\n",
       "    'value': '99.9893',\n",
       "    'capacity': 100,\n",
       "    'units': 'kg'},\n",
       "   {'name': 'sold_p', 'value': '99.9996', 'capacity': 100, 'units': 'kg'},\n",
       "   {'name': 'sold_k', 'value': '99.9970', 'capacity': 100, 'units': 'kg'},\n",
       "   {'name': 'sold_wast',\n",
       "    'value': '100.0000',\n",
       "    'capacity': 100,\n",
       "    'units': 'kg'}]},\n",
       " {'agent_type': 'water_storage',\n",
       "  'agent_id': 2,\n",
       "  'currencies': [{'name': 'h2o_treated',\n",
       "    'value': '0.0000',\n",
       "    'capacity': 100,\n",
       "    'units': 'kg'},\n",
       "   {'name': 'h2o_potb', 'value': '0.0000', 'capacity': 400, 'units': 'kg'},\n",
       "   {'name': 'h2o_urin', 'value': '100.0000', 'capacity': 200, 'units': 'kg'},\n",
       "   {'name': 'h2o_wste', 'value': '100.0000', 'capacity': 250, 'units': 'kg'},\n",
       "   {'name': 'h2o_tret', 'value': '0.0000', 'capacity': 250, 'units': 'kg'}]},\n",
       " {'agent_type': 'food_storage',\n",
       "  'agent_id': 1,\n",
       "  'currencies': [{'name': 'food_edbl',\n",
       "    'value': '200.0000',\n",
       "    'capacity': 1000,\n",
       "    'units': 'kg'}]}]"
      ]
     },
     "execution_count": 15,
     "metadata": {},
     "output_type": "execute_result"
    }
   ],
   "source": [
    "game_runner.agent_model.get_total_storages()"
   ]
  },
  {
   "cell_type": "code",
   "execution_count": 16,
   "metadata": {},
   "outputs": [
    {
     "data": {
      "text/plain": [
       "{'total_production': {'atmo_o2': {'value': '2.7529', 'units': 'g'},\n",
       "  'food_edbl': {'value': '214.6250', 'units': 'g'}},\n",
       " 'total_consumption': {'atmo_co2': {'value': '21.1038', 'units': 'kg'},\n",
       "  'enrg_kwh': {'value': '112.9761', 'units': 'kWh'},\n",
       "  'h2o_potb': {'value': '2.5529', 'units': 'g'},\n",
       "  'sold_n': {'value': '0.0983', 'units': 'g'},\n",
       "  'sold_p': {'value': '0.0036', 'units': 'g'},\n",
       "  'sold_k': {'value': '0.0274', 'units': 'g'}},\n",
       " 'total_agent_types': {'co2_removal_SAWD': 100, 'cabbage': 10}}"
      ]
     },
     "execution_count": 16,
     "metadata": {},
     "output_type": "execute_result"
    }
   ],
   "source": [
    "game_runner.agent_model.get_total_agents()"
   ]
  },
  {
   "cell_type": "code",
   "execution_count": 17,
   "metadata": {
    "scrolled": false
   },
   "outputs": [
    {
     "data": {
      "text/plain": [
       "{'step': 109,\n",
       " 'hours_per_step': 1.0,\n",
       " 'is_terminated': False,\n",
       " 'time': 392400.0,\n",
       " 'agents': {'total_production': {'atmo_o2': {'value': '2.7529', 'units': 'g'},\n",
       "   'food_edbl': {'value': '214.6250', 'units': 'g'}},\n",
       "  'total_consumption': {'atmo_co2': {'value': '21.1038', 'units': 'kg'},\n",
       "   'enrg_kwh': {'value': '112.9761', 'units': 'kWh'},\n",
       "   'h2o_potb': {'value': '2.5529', 'units': 'g'},\n",
       "   'sold_n': {'value': '0.0983', 'units': 'g'},\n",
       "   'sold_p': {'value': '0.0036', 'units': 'g'},\n",
       "   'sold_k': {'value': '0.0274', 'units': 'g'}},\n",
       "  'total_agent_types': {'co2_removal_SAWD': 100, 'cabbage': 10}},\n",
       " 'storages': [{'agent_type': 'water_storage',\n",
       "   'agent_id': 1,\n",
       "   'currencies': [{'name': 'h2o_treated',\n",
       "     'value': '0.0000',\n",
       "     'capacity': 100,\n",
       "     'units': 'kg'},\n",
       "    {'name': 'h2o_potb', 'value': '99.8609', 'capacity': 400, 'units': 'kg'},\n",
       "    {'name': 'h2o_urin', 'value': '0.0000', 'capacity': 200, 'units': 'kg'},\n",
       "    {'name': 'h2o_wste', 'value': '0.0000', 'capacity': 250, 'units': 'kg'},\n",
       "    {'name': 'h2o_tret',\n",
       "     'value': '100.0000',\n",
       "     'capacity': 250,\n",
       "     'units': 'kg'}]},\n",
       "  {'agent_type': 'air_storage',\n",
       "   'agent_id': 1,\n",
       "   'currencies': [{'name': 'atmo_o2',\n",
       "     'value': '100.3001',\n",
       "     'capacity': 400,\n",
       "     'units': 'kg'},\n",
       "    {'name': 'atmo_co2', 'value': '0.0000', 'capacity': 200, 'units': 'kg'},\n",
       "    {'name': 'atmo_n2', 'value': '0.0000', 'capacity': 400, 'units': 'kg'},\n",
       "    {'name': 'atmo_ch4', 'value': '0.0000', 'capacity': 200, 'units': 'kg'},\n",
       "    {'name': 'atmo_h2', 'value': '0.0000', 'capacity': 100, 'units': 'kg'},\n",
       "    {'name': 'atmo_h2o',\n",
       "     'value': '100.0000',\n",
       "     'capacity': 200,\n",
       "     'units': 'kg'}]},\n",
       "  {'agent_type': 'power_storage',\n",
       "   'agent_id': 1,\n",
       "   'currencies': [{'name': 'enrg_kwh',\n",
       "     'value': '333.6022',\n",
       "     'capacity': 1000,\n",
       "     'units': 'kWh'},\n",
       "    {'name': 'heat_cal',\n",
       "     'value': '1000.0000',\n",
       "     'capacity': 1000,\n",
       "     'units': 'cal'}]},\n",
       "  {'agent_type': 'nutrient_storage',\n",
       "   'agent_id': 1,\n",
       "   'currencies': [{'name': 'sold_n',\n",
       "     'value': '99.9893',\n",
       "     'capacity': 100,\n",
       "     'units': 'kg'},\n",
       "    {'name': 'sold_p', 'value': '99.9996', 'capacity': 100, 'units': 'kg'},\n",
       "    {'name': 'sold_k', 'value': '99.9970', 'capacity': 100, 'units': 'kg'},\n",
       "    {'name': 'sold_wast',\n",
       "     'value': '100.0000',\n",
       "     'capacity': 100,\n",
       "     'units': 'kg'}]},\n",
       "  {'agent_type': 'water_storage',\n",
       "   'agent_id': 2,\n",
       "   'currencies': [{'name': 'h2o_treated',\n",
       "     'value': '0.0000',\n",
       "     'capacity': 100,\n",
       "     'units': 'kg'},\n",
       "    {'name': 'h2o_potb', 'value': '0.0000', 'capacity': 400, 'units': 'kg'},\n",
       "    {'name': 'h2o_urin', 'value': '100.0000', 'capacity': 200, 'units': 'kg'},\n",
       "    {'name': 'h2o_wste', 'value': '100.0000', 'capacity': 250, 'units': 'kg'},\n",
       "    {'name': 'h2o_tret', 'value': '0.0000', 'capacity': 250, 'units': 'kg'}]},\n",
       "  {'agent_type': 'food_storage',\n",
       "   'agent_id': 1,\n",
       "   'currencies': [{'name': 'food_edbl',\n",
       "     'value': '200.0000',\n",
       "     'capacity': 1000,\n",
       "     'units': 'kg'}]}],\n",
       " 'model_stats': {'air_storage_1': {'atmo_o2_ratio': 0.5007421928946076,\n",
       "   'atmo_co2_ratio': 0,\n",
       "   'atmo_n2_ratio': 0,\n",
       "   'atmo_ch4_ratio': 0,\n",
       "   'atmo_h2_ratio': 0,\n",
       "   'atmo_h2o_ratio': 0.49925780710539236},\n",
       "  'water_storage_1': {'h2o_treated_ratio': 0,\n",
       "   'h2o_potb_ratio': 0.49965511852751887,\n",
       "   'h2o_urin_ratio': 0,\n",
       "   'h2o_wste_ratio': 0,\n",
       "   'h2o_tret_ratio': 0.5003448814724811},\n",
       "  'water_storage_2': {'h2o_treated_ratio': 0,\n",
       "   'h2o_potb_ratio': 0,\n",
       "   'h2o_urin_ratio': 0.5,\n",
       "   'h2o_wste_ratio': 0.5,\n",
       "   'h2o_tret_ratio': 0},\n",
       "  'nutrient_storage_1': {'sold_n_ratio': 0.2499821917984277,\n",
       "   'sold_p_ratio': 0.25000774659262437,\n",
       "   'sold_k_ratio': 0.25000133424596716,\n",
       "   'sold_wast_ratio': 0.2500087273629808},\n",
       "  'power_storage_1': {'enrg_kwh_ratio': 0.9999965263194328,\n",
       "   'heat_cal_ratio': 3.4736805672836216e-06},\n",
       "  'food_storage_1': {'food_edbl_ratio': 1.0}}}"
      ]
     },
     "execution_count": 17,
     "metadata": {},
     "output_type": "execute_result"
    }
   ],
   "source": [
    "game_runner.agent_model.get_model_stats()"
   ]
  },
  {
   "cell_type": "code",
   "execution_count": null,
   "metadata": {},
   "outputs": [],
   "source": []
  },
  {
   "cell_type": "code",
   "execution_count": null,
   "metadata": {},
   "outputs": [],
   "source": []
  },
  {
   "cell_type": "code",
   "execution_count": null,
   "metadata": {},
   "outputs": [],
   "source": []
  },
  {
   "cell_type": "code",
   "execution_count": null,
   "metadata": {},
   "outputs": [],
   "source": []
  },
  {
   "cell_type": "code",
   "execution_count": null,
   "metadata": {},
   "outputs": [],
   "source": []
  },
  {
   "cell_type": "code",
   "execution_count": null,
   "metadata": {},
   "outputs": [],
   "source": []
  }
 ],
 "metadata": {
  "kernelspec": {
   "display_name": "Python 3",
   "language": "python",
   "name": "python3"
  },
  "language_info": {
   "codemirror_mode": {
    "name": "ipython",
    "version": 3
   },
   "file_extension": ".py",
   "mimetype": "text/x-python",
   "name": "python",
   "nbconvert_exporter": "python",
   "pygments_lexer": "ipython3",
   "version": "3.6.4"
  }
 },
 "nbformat": 4,
 "nbformat_minor": 2
}
