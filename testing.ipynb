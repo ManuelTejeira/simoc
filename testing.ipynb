{
 "cells": [
  {
   "cell_type": "markdown",
   "metadata": {},
   "source": [
    "# Install additional Python libraries"
   ]
  },
  {
   "cell_type": "code",
   "execution_count": 1,
   "metadata": {},
   "outputs": [],
   "source": [
    "# !pip install quantities"
   ]
  },
  {
   "cell_type": "markdown",
   "metadata": {},
   "source": [
    "# Delete existing DB"
   ]
  },
  {
   "cell_type": "code",
   "execution_count": 2,
   "metadata": {},
   "outputs": [],
   "source": [
    "!rm simoc_server/db.sqlite"
   ]
  },
  {
   "cell_type": "markdown",
   "metadata": {},
   "source": [
    "# Import Python libraries"
   ]
  },
  {
   "cell_type": "code",
   "execution_count": 3,
   "metadata": {},
   "outputs": [],
   "source": [
    "import json\n",
    "from random import randint"
   ]
  },
  {
   "cell_type": "code",
   "execution_count": 4,
   "metadata": {},
   "outputs": [],
   "source": [
    "import pprint\n",
    "pp = pprint.PrettyPrinter()"
   ]
  },
  {
   "cell_type": "code",
   "execution_count": 5,
   "metadata": {},
   "outputs": [
    {
     "name": "stdout",
     "output_type": "stream",
     "text": [
      "Unknown DB_TYPE variable: \"None\"\n",
      "Using SQLite by default\n"
     ]
    }
   ],
   "source": [
    "from simoc_server import app, db\n",
    "from simoc_server.database.db_model import User\n",
    "from simoc_server.database.seed_data import seed\n",
    "from simoc_server.game_runner import GameRunnerManager, GameRunnerInitializationParams\n",
    "from simoc_server.agent_model.agents.core import GeneralAgent, StorageAgent\n",
    "from simoc_server.database.db_model import AgentType"
   ]
  },
  {
   "cell_type": "code",
   "execution_count": 6,
   "metadata": {},
   "outputs": [],
   "source": [
    "from simoc_server.views import convert_configuration"
   ]
  },
  {
   "cell_type": "code",
   "execution_count": 7,
   "metadata": {},
   "outputs": [],
   "source": [
    "import matplotlib.pyplot as plt\n",
    "import numpy as np\n",
    "import pandas as pd"
   ]
  },
  {
   "cell_type": "markdown",
   "metadata": {},
   "source": [
    "# Load Agent model"
   ]
  },
  {
   "cell_type": "code",
   "execution_count": 8,
   "metadata": {
    "scrolled": false
   },
   "outputs": [],
   "source": [
    "db.drop_all()\n",
    "db.create_all()\n",
    "seed.seed('agent_desc.json')"
   ]
  },
  {
   "cell_type": "markdown",
   "metadata": {},
   "source": [
    "# Create new user"
   ]
  },
  {
   "cell_type": "code",
   "execution_count": 9,
   "metadata": {},
   "outputs": [
    {
     "name": "stdout",
     "output_type": "stream",
     "text": [
      "Creating new user\n"
     ]
    }
   ],
   "source": [
    "username = 'user1'\n",
    "password = 'user1'\n",
    "\n",
    "user = User.query.filter_by(username=username).first()\n",
    "if not user:\n",
    "    print('Creating new user')\n",
    "    user = User(username=username)\n",
    "    user.set_password(password)\n",
    "    db.session.add(user)\n",
    "    db.session.commit()"
   ]
  },
  {
   "cell_type": "markdown",
   "metadata": {},
   "source": [
    "# Initialize the ABM"
   ]
  },
  {
   "cell_type": "code",
   "execution_count": 10,
   "metadata": {
    "scrolled": false
   },
   "outputs": [],
   "source": [
    "game_config = {\"agents\": {\n",
    "    \"human_agent\": [{\"connections\": {\"air_storage\": [1], \"water_storage\": [1, 2], \"food_storage\": [1]}, \"amount\": 10}],\n",
    "    \"cabbage\": [{\"connections\": {\"air_storage\": [1], \"water_storage\": [1, 2], \"nutrient_storage\": [1],\n",
    "                                 \"power_storage\": [1], \"food_storage\": [1]}, \"amount\": 10}],\n",
    "    \"lettuce\": [{\"connections\": {\"air_storage\": [1], \"water_storage\": [1, 2], \"nutrient_storage\": [1],\n",
    "                                 \"power_storage\": [1], \"food_storage\": [1]}, \"amount\": 10}],\n",
    "    \"greenhouse_medium\": [{\"connections\": {\"power_storage\": [1]}, \"amount\": 1}],\n",
    "    \"solar_pv_array\": [{\"connections\": {\"power_storage\": [1]}, \"amount\": 100}],\n",
    "    \"multifiltration_purifier_post_treament\": [{\"connections\": {\"water_storage\": [1, 2]}, \"amount\": 1}],\n",
    "    \"urine_recycling_processor_VCD\": [{\"connections\": {\"power_storage\": [1], \"water_storage\": [1, 2]}, \"amount\": 1}],\n",
    "    \"co2_removal_SAWD\": [{\"connections\": {\"power_storage\": [1], \"air_storage\": [1]}, \"amount\": 1}]},\n",
    "\"storages\": {\n",
    "    \"air_storage\": [{\"id\": 1, \"atmo_h2o\": 100, \"atmo_o2\": 100, \"atmo_co2\": 100}],\n",
    "    \"water_storage\": [{\"id\": 1, \"h2o_potb\": 100, \"h2o_tret\": 100}, {\"id\": 2, \"h2o_wste\": 100, \"h2o_urin\": 0}],\n",
    "    \"nutrient_storage\": [{\"id\": 1, \"sold_n\": 100, \"sold_p\": 100, \"sold_k\": 100}],\n",
    "    \"power_storage\": [{\"id\": 1, \"enrg_kwh\": 1000}],\n",
    "    \"food_storage\": [{\"id\": 1, \"food_edbl\": 1000}]},\n",
    "\"termination\": {\n",
    "    \"time\": {\"value\": 2000, \"unit\": \"hour\"}},\n",
    "    \"food_leaf\": {\"value\": 10000, \"unit\": \"kg\"},\n",
    "    \"evacuation\": {}\n",
    "}"
   ]
  },
  {
   "cell_type": "code",
   "execution_count": 11,
   "metadata": {
    "scrolled": true
   },
   "outputs": [
    {
     "name": "stdout",
     "output_type": "stream",
     "text": [
      "{'game_config': {'duration': {'type': 'day', 'value': 30},\n",
      "                 'food_storage': {'amount': 1000},\n",
      "                 'greenhouse': 'greenhouse_small',\n",
      "                 'habitat': 'crew_habitat_small',\n",
      "                 'human_agent': {'amount': 4},\n",
      "                 'logging': {'columns': ['agent_id',\n",
      "                                         'agent_type',\n",
      "                                         'value',\n",
      "                                         'unit'],\n",
      "                             'filters': [('currency', ['enrg_kwh']),\n",
      "                                         ('direction', ['in'])]},\n",
      "                 'plants': [{'amount': 100, 'species': 'rice'},\n",
      "                            {'amount': 30, 'species': 'wheat'},\n",
      "                            {'amount': 4, 'species': 'cabbage'},\n",
      "                            {'amount': 100, 'species': 'rice'},\n",
      "                            {'amount': 30, 'species': 'wheat'},\n",
      "                            {'amount': 3, 'species': 'cabbage'}],\n",
      "                 'power_storage': {'amount': 1},\n",
      "                 'priorities': ['inhabitants', 'eclss', 'plants', 'storage'],\n",
      "                 'solar_arrays': {'amount': 60}}}\n"
     ]
    }
   ],
   "source": [
    "# start_data = {\"game_config\": {'logging': {}, 'duration': {'value': 30, 'type': 'day'}, 'human_agent': {'amount': 4}, 'habitat': 'crew_habitat_small', 'greenhouse': 'greenhouse_small', 'food_storage': {'amount': 1000}, 'solar_arrays': {'amount': 60}, 'power_storage': {'amount': 1}, 'plants': [{'species': 'rice', 'amount': 100}, {'species': 'wheat', 'amount': 30}, {'species': 'cabbage', 'amount': 4}, {'species': 'rice', 'amount': 100}, {'species': 'wheat', 'amount': 30}, {'species': 'cabbage', 'amount': 3}]}}\n",
    "start_data = {\"game_config\": {\"priorities\": [\"inhabitants\", \"eclss\", \"plants\", \"storage\"], 'logging': {'columns': ['agent_id', 'agent_type', 'value', 'unit'], 'filters': [('currency', ['enrg_kwh']), ('direction', ['in'])]}, 'duration': {'value': 30, 'type': 'day'}, 'human_agent': {'amount': 4}, 'habitat': 'crew_habitat_small', 'greenhouse': 'greenhouse_small', 'food_storage': {'amount': 1000}, 'solar_arrays': {'amount': 60}, 'power_storage': {'amount': 1}, 'plants': [{'species': 'rice', 'amount': 100}, {'species': 'wheat', 'amount': 30}, {'species': 'cabbage', 'amount': 4}, {'species': 'rice', 'amount': 100}, {'species': 'wheat', 'amount': 30}, {'species': 'cabbage', 'amount': 3}]}}\n",
    "# start_data = {\"game_config\": {'logging': {'columns': ['agent_id', 'agent_type', 'value', 'unit'], 'filters': [('currency', ['enrg_kwh']), ('direction', ['in'])]}, 'duration': {'value': 30, 'type': 'day'}, 'human_agent': {'amount': 4}, 'habitat': 'crew_habitat_small', 'greenhouse': 'greenhouse_small', 'food_storage': {'amount': 1000}, 'solar_arrays': {'amount': 60}, 'power_storage': {'amount': 1}, 'plants': [{'species': 'rice', 'amount': 100}, {'species': 'wheat', 'amount': 30}, {'species': 'cabbage', 'amount': 4}, {'species': 'rice', 'amount': 100}, {'species': 'wheat', 'amount': 30}, {'species': 'cabbage', 'amount': 3}]}}\n",
    "# start_data = {\"game_config\": {'duration': {'value': 30, 'type': 'day'}, 'human_agent': {'amount': 4}, 'habitat': 'crew_habitat_small', 'greenhouse': 'greenhouse_small', 'food_storage': {'amount': 1000}, 'solar_arrays': {'amount': 60}, 'power_storage': {'amount': 1}, 'plants': [{'species': 'rice', 'amount': 100}, {'species': 'wheat', 'amount': 30}, {'species': 'cabbage', 'amount': 4}, {'species': 'rice', 'amount': 100}, {'species': 'wheat', 'amount': 30}, {'species': 'cabbage', 'amount': 3}]}}\n",
    "pp.pprint(start_data)"
   ]
  },
  {
   "cell_type": "code",
   "execution_count": 12,
   "metadata": {
    "scrolled": true
   },
   "outputs": [
    {
     "name": "stdout",
     "output_type": "stream",
     "text": [
      "{'agents': {'cabbage': [{'amount': 3,\n",
      "                         'connections': {'air_storage': [1],\n",
      "                                         'food_storage': [1],\n",
      "                                         'nutrient_storage': [1],\n",
      "                                         'power_storage': [1],\n",
      "                                         'water_storage': [1, 2]}}],\n",
      "            'co2_reduction_sabatier': [{'amount': 1,\n",
      "                                        'connections': {'air_storage': [1],\n",
      "                                                        'power_storage': [1],\n",
      "                                                        'water_storage': [1,\n",
      "                                                                          2]}}],\n",
      "            'co2_removal_SAWD': [{'amount': 1,\n",
      "                                  'connections': {'air_storage': [1],\n",
      "                                                  'power_storage': [1]}}],\n",
      "            'crew_habitat_small': [{'amount': 1,\n",
      "                                    'connections': {'power_storage': [1]}}],\n",
      "            'greenhouse_small': [{'amount': 1,\n",
      "                                  'connections': {'power_storage': [1]}}],\n",
      "            'human_agent': [{'amount': 4,\n",
      "                             'connections': {'air_storage': [1],\n",
      "                                             'food_storage': [1],\n",
      "                                             'water_storage': [1, 2]}}],\n",
      "            'multifiltration_purifier_post_treament': [{'amount': 1,\n",
      "                                                        'connections': {'power_storage': [1],\n",
      "                                                                        'water_storage': [1,\n",
      "                                                                                          2]}}],\n",
      "            'oxygen_generation_SFWE': [{'amount': 1,\n",
      "                                        'connections': {'air_storage': [1],\n",
      "                                                        'power_storage': [1],\n",
      "                                                        'water_storage': [1,\n",
      "                                                                          2]}}],\n",
      "            'rice': [{'amount': 100,\n",
      "                      'connections': {'air_storage': [1],\n",
      "                                      'food_storage': [1],\n",
      "                                      'nutrient_storage': [1],\n",
      "                                      'power_storage': [1],\n",
      "                                      'water_storage': [1, 2]}}],\n",
      "            'solar_pv_array_mars': [{'amount': 60,\n",
      "                                     'connections': {'power_storage': [1]}}],\n",
      "            'solid_waste_aerobic_bioreactor': [{'amount': 1,\n",
      "                                                'connections': {'air_storage': [1],\n",
      "                                                                'nutrient_storage': [1],\n",
      "                                                                'power_storage': [1],\n",
      "                                                                'water_storage': [1,\n",
      "                                                                                  2]}}],\n",
      "            'urine_recycling_processor_VCD': [{'amount': 1,\n",
      "                                               'connections': {'power_storage': [1],\n",
      "                                                               'water_storage': [1,\n",
      "                                                                                 2]}}],\n",
      "            'wheat': [{'amount': 30,\n",
      "                       'connections': {'air_storage': [1],\n",
      "                                       'food_storage': [1],\n",
      "                                       'nutrient_storage': [1],\n",
      "                                       'power_storage': [1],\n",
      "                                       'water_storage': [1, 2]}}]},\n",
      " 'logging': {'columns': ['agent_id', 'agent_type', 'value', 'unit'],\n",
      "             'filters': [('currency', ['enrg_kwh']), ('direction', ['in'])]},\n",
      " 'priorities': ['inhabitants', 'eclss', 'plants', 'storage'],\n",
      " 'storages': {'air_storage': [{'atmo_ch4': 0.009531,\n",
      "                               'atmo_co2': 3.5,\n",
      "                               'atmo_h2': 0.005295,\n",
      "                               'atmo_h2o': 10,\n",
      "                               'atmo_n2': 7886,\n",
      "                               'atmo_o2': 2100,\n",
      "                               'id': 1}],\n",
      "              'food_storage': [{'food_edbl': 1000, 'id': 1}],\n",
      "              'nutrient_storage': [{'id': 1,\n",
      "                                    'sold_k': 100,\n",
      "                                    'sold_n': 100,\n",
      "                                    'sold_p': 100}],\n",
      "              'power_storage': [{'enrg_kwh': 0, 'id': 1}],\n",
      "              'water_storage': [{'h2o_potb': 5000, 'h2o_tret': 1000, 'id': 1},\n",
      "                                {'h2o_potb': 4000,\n",
      "                                 'h2o_urin': 100,\n",
      "                                 'h2o_wste': 100,\n",
      "                                 'id': 2}]},\n",
      " 'termination': [{'condition': 'evacuation'},\n",
      "                 {'condition': 'time', 'unit': 'day', 'value': 30}]}\n"
     ]
    }
   ],
   "source": [
    "game_config = convert_configuration(start_data[\"game_config\"])\n",
    "pp.pprint(game_config)"
   ]
  },
  {
   "cell_type": "code",
   "execution_count": 13,
   "metadata": {
    "scrolled": false
   },
   "outputs": [],
   "source": [
    "game_runner_manager = GameRunnerManager()\n",
    "game_runner_init_params = GameRunnerInitializationParams(game_config)\n",
    "game_runner_manager.new_game(user, game_runner_init_params)\n",
    "game_runner = game_runner_manager.get_game_runner(user)"
   ]
  },
  {
   "cell_type": "markdown",
   "metadata": {},
   "source": [
    "# Run the simiulation"
   ]
  },
  {
   "cell_type": "code",
   "execution_count": 14,
   "metadata": {},
   "outputs": [],
   "source": [
    "def run_sim(game_runner_manager, user, num_steps):\n",
    "    for i in range(1, num_steps + 1):\n",
    "        agent_model_state = game_runner_manager.get_step(user, i)\n",
    "    pp.pprint(agent_model_state)"
   ]
  },
  {
   "cell_type": "code",
   "execution_count": 15,
   "metadata": {
    "scrolled": true
   },
   "outputs": [
    {
     "name": "stdout",
     "output_type": "stream",
     "text": [
      "{'agents': {'total_agent_types': {'cabbage': 3,\n",
      "                                  'co2_reduction_sabatier': 1,\n",
      "                                  'co2_removal_SAWD': 1,\n",
      "                                  'crew_habitat_small': 1,\n",
      "                                  'greenhouse_small': 1,\n",
      "                                  'human_agent': 4,\n",
      "                                  'multifiltration_purifier_post_treament': 1,\n",
      "                                  'oxygen_generation_SFWE': 1,\n",
      "                                  'rice': 100,\n",
      "                                  'solar_pv_array_mars': 60,\n",
      "                                  'solid_waste_aerobic_bioreactor': 1,\n",
      "                                  'urine_recycling_processor_VCD': 1,\n",
      "                                  'wheat': 30},\n",
      "            'total_consumption': {'atmo_co2': {'units': 'kg',\n",
      "                                               'value': '0.0848'},\n",
      "                                  'atmo_h2': {'units': 'kg', 'value': '0.0016'},\n",
      "                                  'atmo_o2': {'units': 'kg', 'value': '0.1973'},\n",
      "                                  'enrg_kwh': {'units': 'kWh',\n",
      "                                               'value': '40.9992'},\n",
      "                                  'food_edbl': {'units': 'kg',\n",
      "                                                'value': '0.3990'},\n",
      "                                  'h2o_potb': {'units': 'kg',\n",
      "                                               'value': '2.4560'},\n",
      "                                  'h2o_tret': {'units': 'kg',\n",
      "                                               'value': '4.7500'},\n",
      "                                  'h2o_urin': {'units': 'kg',\n",
      "                                               'value': '1.3600'},\n",
      "                                  'h2o_wste': {'units': 'kg',\n",
      "                                               'value': '1.5000'},\n",
      "                                  'sold_k': {'units': 'kg', 'value': '0.0004'},\n",
      "                                  'sold_n': {'units': 'kg', 'value': '0.0011'},\n",
      "                                  'sold_p': {'units': 'kg', 'value': '0.0001'}},\n",
      "            'total_production': {'atmo_ch4': {'units': 'kg', 'value': '0.0033'},\n",
      "                                 'atmo_co2': {'units': 'kg', 'value': '0.2575'},\n",
      "                                 'atmo_h2': {'units': 'kg', 'value': '0.0454'},\n",
      "                                 'atmo_h2o': {'units': 'kg', 'value': '0.4440'},\n",
      "                                 'atmo_o2': {'units': 'kg', 'value': '0.5354'},\n",
      "                                 'enrg_kwh': {'units': 'kWh',\n",
      "                                              'value': '318.0000'},\n",
      "                                 'food_edbl': {'units': 'kg',\n",
      "                                               'value': '0.0000'},\n",
      "                                 'h2o_potb': {'units': 'kg', 'value': '4.7500'},\n",
      "                                 'h2o_tret': {'units': 'kg', 'value': '1.3600'},\n",
      "                                 'h2o_urin': {'units': 'kg', 'value': '1.7450'},\n",
      "                                 'h2o_wste': {'units': 'kg', 'value': '0.2697'},\n",
      "                                 'sold_k': {'units': 'kg', 'value': '0.0006'},\n",
      "                                 'sold_n': {'units': 'kg', 'value': '0.0022'},\n",
      "                                 'sold_p': {'units': 'kg', 'value': '0.0003'}}},\n",
      " 'hours_per_step': 1.0,\n",
      " 'is_terminated': False,\n",
      " 'model_stats': {'air_storage_1': {'atmo_ch4_ratio': 3.199853415879846e-06,\n",
      "                                   'atmo_co2_ratio': 0.0006634232632644031,\n",
      "                                   'atmo_h2_ratio': 0,\n",
      "                                   'atmo_h2o_ratio': 0.0017973763747154428,\n",
      "                                   'atmo_n2_ratio': 0.7878006942533318,\n",
      "                                   'atmo_o2_ratio': 0.20973530625527245},\n",
      "                 'food_storage_1': {'food_edbl_ratio': 1.0},\n",
      "                 'nutrient_storage_1': {'sold_k_ratio': 0.33334035074410634,\n",
      "                                        'sold_n_ratio': 0.33329966101357095,\n",
      "                                        'sold_p_ratio': 0.33335998824232266,\n",
      "                                        'sold_wast_ratio': 0},\n",
      "                 'power_storage_1': {'enrg_kwh_ratio': 0},\n",
      "                 'water_storage_1': {'h2o_potb_ratio': 0.8060424309666105,\n",
      "                                     'h2o_totl_ratio': 0,\n",
      "                                     'h2o_tret_ratio': 0.19395756903338957,\n",
      "                                     'h2o_urin_ratio': 0,\n",
      "                                     'h2o_wste_ratio': 0},\n",
      "                 'water_storage_2': {'h2o_potb_ratio': 0.9569593908750718,\n",
      "                                     'h2o_totl_ratio': 0,\n",
      "                                     'h2o_tret_ratio': 0,\n",
      "                                     'h2o_urin_ratio': 0.021653638265456448,\n",
      "                                     'h2o_wste_ratio': 0.02138697085947179}},\n",
      " 'step': 10,\n",
      " 'step_logs': [['GeneralAgent_bc058acd', 'co2_removal_SAWD', 0.0, '1.0 kWh'],\n",
      "               ['GeneralAgent_bf33fd70', 'rice', 0.11504350735, '1.0 kWh'],\n",
      "               ['GeneralAgent_7559bf52',\n",
      "                'wheat',\n",
      "                0.7350001858833333,\n",
      "                '1.0 kWh'],\n",
      "               ['GeneralAgent_565825fe', 'rice', 0.11504350735, '1.0 kWh'],\n",
      "               ['GeneralAgent_7491872c',\n",
      "                'wheat',\n",
      "                0.7350001858833333,\n",
      "                '1.0 kWh'],\n",
      "               ['GeneralAgent_30a1af98', 'rice', 0.11504350735, '1.0 kWh'],\n",
      "               ['GeneralAgent_1310dc5c',\n",
      "                'wheat',\n",
      "                0.7350001858833333,\n",
      "                '1.0 kWh'],\n",
      "               ['GeneralAgent_56849586', 'rice', 0.11504350735, '1.0 kWh'],\n",
      "               ['GeneralAgent_66833248', 'rice', 0.11504350735, '1.0 kWh'],\n",
      "               ['GeneralAgent_0bb529c3', 'rice', 0.11504350735, '1.0 kWh'],\n",
      "               ['GeneralAgent_9298b86e', 'rice', 0.11504350735, '1.0 kWh'],\n",
      "               ['GeneralAgent_e8bcd1b8', 'rice', 0.11504350735, '1.0 kWh'],\n",
      "               ['GeneralAgent_d3819a2b', 'rice', 0.11504350735, '1.0 kWh'],\n",
      "               ['GeneralAgent_9e89be33',\n",
      "                'wheat',\n",
      "                0.7350001858833333,\n",
      "                '1.0 kWh'],\n",
      "               ['GeneralAgent_e3e12b78',\n",
      "                'wheat',\n",
      "                0.7350001858833333,\n",
      "                '1.0 kWh'],\n",
      "               ['GeneralAgent_dde06b72', 'rice', 0.11504350735, '1.0 kWh'],\n",
      "               ['GeneralAgent_977f9c73', 'rice', 0.11504350735, '1.0 kWh'],\n",
      "               ['GeneralAgent_43ffdfbe', 'rice', 0.11504350735, '1.0 kWh'],\n",
      "               ['GeneralAgent_60560787', 'rice', 0.11504350735, '1.0 kWh'],\n",
      "               ['GeneralAgent_d38d3348', 'rice', 0.11504350735, '1.0 kWh'],\n",
      "               ['GeneralAgent_fc1e4d79', 'rice', 0.11504350735, '1.0 kWh'],\n",
      "               ['GeneralAgent_df2ad23f', 'rice', 0.11504350735, '1.0 kWh'],\n",
      "               ['GeneralAgent_47be9e7c', 'rice', 0.11504350735, '1.0 kWh'],\n",
      "               ['GeneralAgent_07f1b2f7', 'rice', 0.11504350735, '1.0 kWh'],\n",
      "               ['GeneralAgent_083fb6c8', 'rice', 0.11504350735, '1.0 kWh'],\n",
      "               ['GeneralAgent_79f0ddc9', 'rice', 0.11504350735, '1.0 kWh'],\n",
      "               ['GeneralAgent_23516dfa', 'rice', 0.11504350735, '1.0 kWh'],\n",
      "               ['GeneralAgent_4cc0bae9', 'rice', 0.11504350735, '1.0 kWh'],\n",
      "               ['GeneralAgent_a2a5de7b',\n",
      "                'wheat',\n",
      "                0.7350001858833333,\n",
      "                '1.0 kWh'],\n",
      "               ['GeneralAgent_df911ebc', 'rice', 0.11504350735, '1.0 kWh'],\n",
      "               ['GeneralAgent_05aac1b6', 'rice', 0.11504350735, '1.0 kWh'],\n",
      "               ['GeneralAgent_44a2d72d', 'rice', 0.11504350735, '1.0 kWh'],\n",
      "               ['GeneralAgent_eed71ebb', 'rice', 0.11504350735, '1.0 kWh'],\n",
      "               ['GeneralAgent_3bfa41f2', 'rice', 0.11504350735, '1.0 kWh'],\n",
      "               ['GeneralAgent_216ba735',\n",
      "                'wheat',\n",
      "                0.7350001858833333,\n",
      "                '1.0 kWh'],\n",
      "               ['GeneralAgent_62f4b8d1',\n",
      "                'wheat',\n",
      "                0.7350001858833333,\n",
      "                '1.0 kWh'],\n",
      "               ['GeneralAgent_da9365c6', 'rice', 0.11504350735, '1.0 kWh'],\n",
      "               ['GeneralAgent_c505462f', 'rice', 0.11504350735, '1.0 kWh'],\n",
      "               ['GeneralAgent_a7d816fe', 'rice', 0.11504350735, '1.0 kWh'],\n",
      "               ['GeneralAgent_e53fbfb1', 'rice', 0.11504350735, '1.0 kWh'],\n",
      "               ['GeneralAgent_74d51bff', 'rice', 0.11504350735, '1.0 kWh'],\n",
      "               ['GeneralAgent_f5d4f532', 'rice', 0.11504350735, '1.0 kWh'],\n",
      "               ['GeneralAgent_5999b186', 'rice', 0.11504350735, '1.0 kWh'],\n",
      "               ['GeneralAgent_01fc1a8c', 'rice', 0.11504350735, '1.0 kWh'],\n",
      "               ['GeneralAgent_a65cbc1f',\n",
      "                'wheat',\n",
      "                0.7350001858833333,\n",
      "                '1.0 kWh'],\n",
      "               ['GeneralAgent_54b12ad0',\n",
      "                'wheat',\n",
      "                0.7350001858833333,\n",
      "                '1.0 kWh'],\n",
      "               ['GeneralAgent_96e9e1e1',\n",
      "                'wheat',\n",
      "                0.7350001858833333,\n",
      "                '1.0 kWh'],\n",
      "               ['GeneralAgent_4118c9d6', 'rice', 0.11504350735, '1.0 kWh'],\n",
      "               ['GeneralAgent_9bb05fc3', 'rice', 0.11504350735, '1.0 kWh'],\n",
      "               ['GeneralAgent_574a5f12',\n",
      "                'wheat',\n",
      "                0.7350001858833333,\n",
      "                '1.0 kWh'],\n",
      "               ['GeneralAgent_111eb7fe', 'rice', 0.11504350735, '1.0 kWh'],\n",
      "               ['GeneralAgent_cb130000', 'rice', 0.11504350735, '1.0 kWh'],\n",
      "               ['GeneralAgent_9ae68552',\n",
      "                'wheat',\n",
      "                0.7350001858833333,\n",
      "                '1.0 kWh'],\n",
      "               ['GeneralAgent_9c922326', 'rice', 0.11504350735, '1.0 kWh'],\n",
      "               ['GeneralAgent_29edc955', 'rice', 0.11504350735, '1.0 kWh'],\n",
      "               ['GeneralAgent_f4115a42', 'rice', 0.11504350735, '1.0 kWh'],\n",
      "               ['GeneralAgent_00ca17e7', 'rice', 0.11504350735, '1.0 kWh'],\n",
      "               ['GeneralAgent_353c66fa', 'rice', 0.11504350735, '1.0 kWh'],\n",
      "               ['GeneralAgent_0a65bac9', 'rice', 0.11504350735, '1.0 kWh'],\n",
      "               ['GeneralAgent_1b3f049e', 'rice', 0.11504350735, '1.0 kWh'],\n",
      "               ['GeneralAgent_b43bf8f4', 'rice', 0.11504350735, '1.0 kWh'],\n",
      "               ['GeneralAgent_60f49e1a', 'rice', 0.11504350735, '1.0 kWh'],\n",
      "               ['GeneralAgent_fdf11d03', 'rice', 0.11504350735, '1.0 kWh'],\n",
      "               ['GeneralAgent_872e9a63', 'rice', 0.11504350735, '1.0 kWh'],\n",
      "               ['GeneralAgent_dc80f2b4', 'rice', 0.11504350735, '1.0 kWh'],\n",
      "               ['GeneralAgent_13f1b22d', 'rice', 0.11504350735, '1.0 kWh'],\n",
      "               ['GeneralAgent_0ec28763', 'rice', 0.11504350735, '1.0 kWh'],\n",
      "               ['GeneralAgent_86e5f225', 'rice', 0.11504350735, '1.0 kWh'],\n",
      "               ['GeneralAgent_8fee78e4', 'cabbage', 0.0976126729, '1.0 kWh'],\n",
      "               ['GeneralAgent_8d4410a2', 'rice', 0.11504350735, '1.0 kWh'],\n",
      "               ['GeneralAgent_9adad1cc',\n",
      "                'wheat',\n",
      "                0.7350001858833333,\n",
      "                '1.0 kWh'],\n",
      "               ['GeneralAgent_8fadd9e9', 'rice', 0.11504350735, '1.0 kWh'],\n",
      "               ['GeneralAgent_91fef74d', 'rice', 0.11504350735, '1.0 kWh'],\n",
      "               ['GeneralAgent_bb6dd5ad', 'rice', 0.11504350735, '1.0 kWh'],\n",
      "               ['GeneralAgent_63bd2c93', 'rice', 0.11504350735, '1.0 kWh'],\n",
      "               ['GeneralAgent_294a304e', 'rice', 0.11504350735, '1.0 kWh'],\n",
      "               ['GeneralAgent_fc905681',\n",
      "                'wheat',\n",
      "                0.7350001858833333,\n",
      "                '1.0 kWh'],\n",
      "               ['GeneralAgent_1372fc8a', 'rice', 0.11504350735, '1.0 kWh'],\n",
      "               ['GeneralAgent_ce312c90', 'rice', 0.11504350735, '1.0 kWh'],\n",
      "               ['GeneralAgent_ed1771ac', 'rice', 0.11504350735, '1.0 kWh'],\n",
      "               ['GeneralAgent_325587ec',\n",
      "                'wheat',\n",
      "                0.7350001858833333,\n",
      "                '1.0 kWh'],\n",
      "               ['GeneralAgent_1b9f82c8',\n",
      "                'wheat',\n",
      "                0.7350001858833333,\n",
      "                '1.0 kWh'],\n",
      "               ['GeneralAgent_1352ecae',\n",
      "                'wheat',\n",
      "                0.7350001858833333,\n",
      "                '1.0 kWh'],\n",
      "               ['GeneralAgent_d7826184', 'rice', 0.11504350735, '1.0 kWh'],\n",
      "               ['GeneralAgent_014d9caa', 'rice', 0.11504350735, '1.0 kWh'],\n",
      "               ['GeneralAgent_40c3ffc6',\n",
      "                'wheat',\n",
      "                0.7350001858833333,\n",
      "                '1.0 kWh'],\n",
      "               ['GeneralAgent_12805e24', 'rice', 0.11504350735, '1.0 kWh'],\n",
      "               ['GeneralAgent_a800690d', 'rice', 0.11504350735, '1.0 kWh'],\n",
      "               ['GeneralAgent_28af8a15', 'rice', 0.11504350735, '1.0 kWh'],\n",
      "               ['GeneralAgent_3d986e0d', 'rice', 0.11504350735, '1.0 kWh'],\n",
      "               ['GeneralAgent_a3401a3e', 'rice', 0.11504350735, '1.0 kWh'],\n",
      "               ['GeneralAgent_fb0dd294',\n",
      "                'wheat',\n",
      "                0.7350001858833333,\n",
      "                '1.0 kWh'],\n",
      "               ['GeneralAgent_24e6f3ba', 'rice', 0.11504350735, '1.0 kWh'],\n",
      "               ['GeneralAgent_bfea2df8', 'rice', 0.11504350735, '1.0 kWh'],\n",
      "               ['GeneralAgent_6646eef8', 'rice', 0.11504350735, '1.0 kWh'],\n",
      "               ['GeneralAgent_01c9e4fd', 'rice', 0.11504350735, '1.0 kWh'],\n",
      "               ['GeneralAgent_4dd06b7e', 'rice', 0.11504350735, '1.0 kWh'],\n",
      "               ['GeneralAgent_ea4ba0b5', 'rice', 0.11504350735, '1.0 kWh'],\n",
      "               ['GeneralAgent_61a7e17a',\n",
      "                'wheat',\n",
      "                0.7350001858833333,\n",
      "                '1.0 kWh'],\n",
      "               ['GeneralAgent_2282da89',\n",
      "                'wheat',\n",
      "                0.7350001858833333,\n",
      "                '1.0 kWh'],\n",
      "               ['GeneralAgent_ce83a9ad', 'rice', 0.11504350735, '1.0 kWh'],\n",
      "               ['GeneralAgent_af2095c6', 'rice', 0.11504350735, '1.0 kWh'],\n",
      "               ['GeneralAgent_d89be2e8', 'rice', 0.11504350735, '1.0 kWh'],\n",
      "               ['GeneralAgent_a5af0ae4', 'cabbage', 0.0976126729, '1.0 kWh'],\n",
      "               ['GeneralAgent_5e3c0b85', 'rice', 0.11504350735, '1.0 kWh'],\n",
      "               ['GeneralAgent_6924ca0d', 'rice', 0.11504350735, '1.0 kWh'],\n",
      "               ['GeneralAgent_edf51c0e', 'cabbage', 0.0976126729, '1.0 kWh'],\n",
      "               ['GeneralAgent_084aca4c',\n",
      "                'wheat',\n",
      "                0.7350001858833333,\n",
      "                '1.0 kWh'],\n",
      "               ['GeneralAgent_f17d0722', 'rice', 0.11504350735, '1.0 kWh'],\n",
      "               ['GeneralAgent_62a49e1e', 'rice', 0.11504350735, '1.0 kWh'],\n",
      "               ['GeneralAgent_2426dc70', 'rice', 0.11504350735, '1.0 kWh'],\n",
      "               ['GeneralAgent_5de9e0ae',\n",
      "                'wheat',\n",
      "                0.7350001858833333,\n",
      "                '1.0 kWh'],\n",
      "               ['GeneralAgent_a8eb4486', 'rice', 0.11504350735, '1.0 kWh'],\n",
      "               ['GeneralAgent_be935cf0', 'rice', 0.11504350735, '1.0 kWh'],\n",
      "               ['GeneralAgent_9459531a',\n",
      "                'wheat',\n",
      "                0.7350001858833333,\n",
      "                '1.0 kWh'],\n",
      "               ['GeneralAgent_ece2ee32', 'rice', 0.11504350735, '1.0 kWh'],\n",
      "               ['GeneralAgent_e8476630', 'rice', 0.11504350735, '1.0 kWh'],\n",
      "               ['GeneralAgent_feefd69e',\n",
      "                'wheat',\n",
      "                0.7350001858833333,\n",
      "                '1.0 kWh'],\n",
      "               ['GeneralAgent_14b8fd90', 'rice', 0.11504350735, '1.0 kWh'],\n",
      "               ['GeneralAgent_61a00e4d', 'rice', 0.11504350735, '1.0 kWh'],\n",
      "               ['GeneralAgent_a819c735',\n",
      "                'wheat',\n",
      "                0.7350001858833333,\n",
      "                '1.0 kWh'],\n",
      "               ['GeneralAgent_0ba47305', 'rice', 0.11504350735, '1.0 kWh'],\n",
      "               ['GeneralAgent_0e414779',\n",
      "                'wheat',\n",
      "                0.7350001858833333,\n",
      "                '1.0 kWh'],\n",
      "               ['GeneralAgent_a2db505c', 'rice', 0.11504350735, '1.0 kWh'],\n",
      "               ['GeneralAgent_10e4f36e', 'rice', 0.11504350735, '1.0 kWh'],\n",
      "               ['GeneralAgent_3a57fa6e', 'rice', 0.11504350735, '1.0 kWh'],\n",
      "               ['GeneralAgent_8e1a1b3b', 'rice', 0.11504350735, '1.0 kWh'],\n",
      "               ['GeneralAgent_d5e085a4', 'rice', 0.11504350735, '1.0 kWh'],\n",
      "               ['GeneralAgent_06c3f9c3',\n",
      "                'wheat',\n",
      "                0.7350001858833333,\n",
      "                '1.0 kWh'],\n",
      "               ['GeneralAgent_8a5d69c4', 'rice', 0.11504350735, '1.0 kWh'],\n",
      "               ['GeneralAgent_8cb00483', 'rice', 0.11504350735, '1.0 kWh'],\n",
      "               ['GeneralAgent_a60ecee1', 'rice', 0.11504350735, '1.0 kWh'],\n",
      "               ['GeneralAgent_e10d54bb',\n",
      "                'wheat',\n",
      "                0.7350001858833333,\n",
      "                '1.0 kWh'],\n",
      "               ['GeneralAgent_22a4c705', 'rice', 0.11504350735, '1.0 kWh']],\n",
      " 'storages': [{'agent_id': 1,\n",
      "               'agent_type': 'air_storage',\n",
      "               'currencies': [{'capacity': 10000,\n",
      "                               'name': 'atmo_o2',\n",
      "                               'units': 'kg',\n",
      "                               'value': '2099.7117'},\n",
      "                              {'capacity': 10000,\n",
      "                               'name': 'atmo_co2',\n",
      "                               'units': 'kg',\n",
      "                               'value': '5.2740'},\n",
      "                              {'capacity': 10000,\n",
      "                               'name': 'atmo_n2',\n",
      "                               'units': 'kg',\n",
      "                               'value': '7886.0000'},\n",
      "                              {'capacity': 10000,\n",
      "                               'name': 'atmo_ch4',\n",
      "                               'units': 'kg',\n",
      "                               'value': '0.0320'},\n",
      "                              {'capacity': 1000,\n",
      "                               'name': 'atmo_h2',\n",
      "                               'units': 'kg',\n",
      "                               'value': '0.0037'},\n",
      "                              {'capacity': 1000,\n",
      "                               'name': 'atmo_h2o',\n",
      "                               'units': 'kg',\n",
      "                               'value': '14.4400'}]},\n",
      "              {'agent_id': 1,\n",
      "               'agent_type': 'water_storage',\n",
      "               'currencies': [{'capacity': 4000,\n",
      "                               'name': 'h2o_totl',\n",
      "                               'units': 'kg',\n",
      "                               'value': '0.0000'},\n",
      "                              {'capacity': 4000,\n",
      "                               'name': 'h2o_potb',\n",
      "                               'units': 'kg',\n",
      "                               'value': '3987.9323'},\n",
      "                              {'capacity': 4000,\n",
      "                               'name': 'h2o_urin',\n",
      "                               'units': 'kg',\n",
      "                               'value': '0.0000'},\n",
      "                              {'capacity': 4000,\n",
      "                               'name': 'h2o_wste',\n",
      "                               'units': 'kg',\n",
      "                               'value': '0.0000'},\n",
      "                              {'capacity': 4000,\n",
      "                               'name': 'h2o_tret',\n",
      "                               'units': 'kg',\n",
      "                               'value': '976.2500'}]},\n",
      "              {'agent_id': 2,\n",
      "               'agent_type': 'water_storage',\n",
      "               'currencies': [{'capacity': 4000,\n",
      "                               'name': 'h2o_totl',\n",
      "                               'units': 'kg',\n",
      "                               'value': '0.0000'},\n",
      "                              {'capacity': 4000,\n",
      "                               'name': 'h2o_potb',\n",
      "                               'units': 'kg',\n",
      "                               'value': '3987.7202'},\n",
      "                              {'capacity': 4000,\n",
      "                               'name': 'h2o_urin',\n",
      "                               'units': 'kg',\n",
      "                               'value': '94.4500'},\n",
      "                              {'capacity': 4000,\n",
      "                               'name': 'h2o_wste',\n",
      "                               'units': 'kg',\n",
      "                               'value': '93.8455'},\n",
      "                              {'capacity': 4000,\n",
      "                               'name': 'h2o_tret',\n",
      "                               'units': 'kg',\n",
      "                               'value': '0.0000'}]},\n",
      "              {'agent_id': 1,\n",
      "               'agent_type': 'nutrient_storage',\n",
      "               'currencies': [{'capacity': 1000,\n",
      "                               'name': 'sold_n',\n",
      "                               'units': 'kg',\n",
      "                               'value': '99.9894'},\n",
      "                              {'capacity': 1000,\n",
      "                               'name': 'sold_p',\n",
      "                               'units': 'kg',\n",
      "                               'value': '99.9995'},\n",
      "                              {'capacity': 1000,\n",
      "                               'name': 'sold_k',\n",
      "                               'units': 'kg',\n",
      "                               'value': '99.9962'},\n",
      "                              {'capacity': 1000,\n",
      "                               'name': 'sold_wast',\n",
      "                               'units': 'kg',\n",
      "                               'value': '0.0000'}]},\n",
      "              {'agent_id': 1,\n",
      "               'agent_type': 'power_storage',\n",
      "               'currencies': [{'capacity': 10000,\n",
      "                               'name': 'enrg_kwh',\n",
      "                               'units': 'kWh',\n",
      "                               'value': '0.0000'}]},\n",
      "              {'agent_id': 1,\n",
      "               'agent_type': 'food_storage',\n",
      "               'currencies': [{'capacity': 10000,\n",
      "                               'name': 'food_edbl',\n",
      "                               'units': 'kg',\n",
      "                               'value': '996.0100'}]}],\n",
      " 'time': 36000.0}\n",
      "CPU times: user 15.6 s, sys: 229 ms, total: 15.9 s\n",
      "Wall time: 16 s\n"
     ]
    }
   ],
   "source": [
    "%%time\n",
    "run_sim(game_runner_manager, user, 10)"
   ]
  },
  {
   "cell_type": "code",
   "execution_count": null,
   "metadata": {},
   "outputs": [],
   "source": []
  },
  {
   "cell_type": "code",
   "execution_count": null,
   "metadata": {},
   "outputs": [],
   "source": []
  },
  {
   "cell_type": "code",
   "execution_count": 16,
   "metadata": {},
   "outputs": [],
   "source": [
    "storages = game_runner.agent_model.get_agents_by_class(agent_class=StorageAgent)"
   ]
  },
  {
   "cell_type": "code",
   "execution_count": 17,
   "metadata": {},
   "outputs": [],
   "source": [
    "agent_class = AgentType.query.get(storages[0]._agent_type_id).agent_class"
   ]
  },
  {
   "cell_type": "code",
   "execution_count": null,
   "metadata": {},
   "outputs": [],
   "source": []
  },
  {
   "cell_type": "code",
   "execution_count": null,
   "metadata": {
    "scrolled": true
   },
   "outputs": [],
   "source": []
  },
  {
   "cell_type": "code",
   "execution_count": 18,
   "metadata": {},
   "outputs": [],
   "source": [
    "def get_logs(logs, filters=[], columns=None, dtype='list'):\n",
    "    df = pd.DataFrame(logs)\n",
    "    for col, val in filters:\n",
    "        df = df.loc[df[col].isin(val)].drop(col, axis=1)\n",
    "    if columns:\n",
    "        df = df.loc[:, columns]\n",
    "    if dtype == 'list':\n",
    "        return df.values.tolist()\n",
    "    elif dtype == 'dict':\n",
    "        return df.to_dict(orient='records')\n",
    "    elif dtype == 'df':\n",
    "        return df\n",
    "\n",
    "def get_step_logs(logs, step_num, filters=[], columns=None, dtype='list'):\n",
    "    return get_logs(logs, filters=filters+[('step_num', [step_num])], columns=columns, dtype=dtype)"
   ]
  },
  {
   "cell_type": "code",
   "execution_count": 19,
   "metadata": {},
   "outputs": [
    {
     "name": "stdout",
     "output_type": "stream",
     "text": [
      "23786\n"
     ]
    }
   ],
   "source": [
    "logs = game_runner.agent_model.logs\n",
    "print(len(logs))"
   ]
  },
  {
   "cell_type": "code",
   "execution_count": 20,
   "metadata": {
    "scrolled": true
   },
   "outputs": [],
   "source": [
    "step_num = 0\n",
    "\n",
    "# filters = [('currency', ['enrg_kwh']), ('direction', ['in'])]\n",
    "filters = []\n",
    "\n",
    "# cols = ['agent_id', 'unit']\n",
    "cols = []\n",
    "\n",
    "# df = get_step_logs(logs, step_num, filters, columns=cols, dtype='df')\n",
    "df = game_runner.agent_model.get_step_logs(step_num, filters, columns=cols, dtype='df')"
   ]
  },
  {
   "cell_type": "code",
   "execution_count": 21,
   "metadata": {},
   "outputs": [
    {
     "data": {
      "text/html": [
       "<div>\n",
       "<style scoped>\n",
       "    .dataframe tbody tr th:only-of-type {\n",
       "        vertical-align: middle;\n",
       "    }\n",
       "\n",
       "    .dataframe tbody tr th {\n",
       "        vertical-align: top;\n",
       "    }\n",
       "\n",
       "    .dataframe thead th {\n",
       "        text-align: right;\n",
       "    }\n",
       "</style>\n",
       "<table border=\"1\" class=\"dataframe\">\n",
       "  <thead>\n",
       "    <tr style=\"text-align: right;\">\n",
       "      <th></th>\n",
       "      <th>agent_id</th>\n",
       "      <th>agent_type</th>\n",
       "      <th>currency</th>\n",
       "      <th>direction</th>\n",
       "      <th>storage_id</th>\n",
       "      <th>storage_type</th>\n",
       "      <th>unit</th>\n",
       "      <th>value</th>\n",
       "    </tr>\n",
       "  </thead>\n",
       "  <tbody>\n",
       "    <tr>\n",
       "      <th>0</th>\n",
       "      <td>GeneralAgent_2e56d7b0</td>\n",
       "      <td>human_agent</td>\n",
       "      <td>atmo_o2</td>\n",
       "      <td>in</td>\n",
       "      <td>1</td>\n",
       "      <td>air_storage</td>\n",
       "      <td>1.0 kg</td>\n",
       "      <td>0.049200</td>\n",
       "    </tr>\n",
       "    <tr>\n",
       "      <th>1</th>\n",
       "      <td>GeneralAgent_2e56d7b0</td>\n",
       "      <td>human_agent</td>\n",
       "      <td>h2o_potb</td>\n",
       "      <td>in</td>\n",
       "      <td>1</td>\n",
       "      <td>water_storage</td>\n",
       "      <td>1.0 kg</td>\n",
       "      <td>0.212083</td>\n",
       "    </tr>\n",
       "    <tr>\n",
       "      <th>2</th>\n",
       "      <td>GeneralAgent_2e56d7b0</td>\n",
       "      <td>human_agent</td>\n",
       "      <td>h2o_potb</td>\n",
       "      <td>in</td>\n",
       "      <td>2</td>\n",
       "      <td>water_storage</td>\n",
       "      <td>1.0 kg</td>\n",
       "      <td>0.212083</td>\n",
       "    </tr>\n",
       "    <tr>\n",
       "      <th>3</th>\n",
       "      <td>GeneralAgent_2e56d7b0</td>\n",
       "      <td>human_agent</td>\n",
       "      <td>food_edbl</td>\n",
       "      <td>in</td>\n",
       "      <td>1</td>\n",
       "      <td>food_storage</td>\n",
       "      <td>1.0 kg</td>\n",
       "      <td>0.099750</td>\n",
       "    </tr>\n",
       "    <tr>\n",
       "      <th>4</th>\n",
       "      <td>GeneralAgent_2e56d7b0</td>\n",
       "      <td>human_agent</td>\n",
       "      <td>atmo_co2</td>\n",
       "      <td>out</td>\n",
       "      <td>1</td>\n",
       "      <td>air_storage</td>\n",
       "      <td>1.0 kg</td>\n",
       "      <td>0.064000</td>\n",
       "    </tr>\n",
       "  </tbody>\n",
       "</table>\n",
       "</div>"
      ],
      "text/plain": [
       "                agent_id   agent_type   currency direction  storage_id  \\\n",
       "0  GeneralAgent_2e56d7b0  human_agent    atmo_o2        in           1   \n",
       "1  GeneralAgent_2e56d7b0  human_agent   h2o_potb        in           1   \n",
       "2  GeneralAgent_2e56d7b0  human_agent   h2o_potb        in           2   \n",
       "3  GeneralAgent_2e56d7b0  human_agent  food_edbl        in           1   \n",
       "4  GeneralAgent_2e56d7b0  human_agent   atmo_co2       out           1   \n",
       "\n",
       "    storage_type    unit     value  \n",
       "0    air_storage  1.0 kg  0.049200  \n",
       "1  water_storage  1.0 kg  0.212083  \n",
       "2  water_storage  1.0 kg  0.212083  \n",
       "3   food_storage  1.0 kg  0.099750  \n",
       "4    air_storage  1.0 kg  0.064000  "
      ]
     },
     "execution_count": 21,
     "metadata": {},
     "output_type": "execute_result"
    }
   ],
   "source": [
    "df.head()"
   ]
  },
  {
   "cell_type": "code",
   "execution_count": 22,
   "metadata": {},
   "outputs": [
    {
     "data": {
      "text/plain": [
       "Index(['agent_id', 'agent_type', 'currency', 'direction', 'storage_id',\n",
       "       'storage_type', 'unit', 'value'],\n",
       "      dtype='object')"
      ]
     },
     "execution_count": 22,
     "metadata": {},
     "output_type": "execute_result"
    }
   ],
   "source": [
    "df.columns"
   ]
  },
  {
   "cell_type": "code",
   "execution_count": 23,
   "metadata": {},
   "outputs": [
    {
     "data": {
      "text/plain": [
       "rice                                      900\n",
       "wheat                                     270\n",
       "human_agent                                40\n",
       "cabbage                                    27\n",
       "co2_reduction_sabatier                      6\n",
       "solid_waste_aerobic_bioreactor              3\n",
       "co2_removal_SAWD                            2\n",
       "urine_recycling_processor_VCD               2\n",
       "oxygen_generation_SFWE                      2\n",
       "multifiltration_purifier_post_treament      2\n",
       "Name: agent_type, dtype: int64"
      ]
     },
     "execution_count": 23,
     "metadata": {},
     "output_type": "execute_result"
    }
   ],
   "source": [
    "df.agent_type.value_counts()"
   ]
  },
  {
   "cell_type": "code",
   "execution_count": null,
   "metadata": {},
   "outputs": [],
   "source": []
  },
  {
   "cell_type": "code",
   "execution_count": 24,
   "metadata": {
    "scrolled": true
   },
   "outputs": [],
   "source": [
    "# filters = [('currency', ['enrg_kwh']), ('direction', ['in'])]\n",
    "filters = []\n",
    "\n",
    "# cols = ['agent_id', 'unit']\n",
    "cols = []\n",
    "\n",
    "# df = get_logs(logs, filters=filters, columns=cols, dtype='df')\n",
    "df = game_runner.agent_model.get_logs(filters=filters, columns=cols, dtype='df')"
   ]
  },
  {
   "cell_type": "code",
   "execution_count": 25,
   "metadata": {},
   "outputs": [
    {
     "data": {
      "text/html": [
       "<div>\n",
       "<style scoped>\n",
       "    .dataframe tbody tr th:only-of-type {\n",
       "        vertical-align: middle;\n",
       "    }\n",
       "\n",
       "    .dataframe tbody tr th {\n",
       "        vertical-align: top;\n",
       "    }\n",
       "\n",
       "    .dataframe thead th {\n",
       "        text-align: right;\n",
       "    }\n",
       "</style>\n",
       "<table border=\"1\" class=\"dataframe\">\n",
       "  <thead>\n",
       "    <tr style=\"text-align: right;\">\n",
       "      <th></th>\n",
       "      <th>agent_id</th>\n",
       "      <th>agent_type</th>\n",
       "      <th>currency</th>\n",
       "      <th>direction</th>\n",
       "      <th>step_num</th>\n",
       "      <th>storage_id</th>\n",
       "      <th>storage_type</th>\n",
       "      <th>unit</th>\n",
       "      <th>value</th>\n",
       "    </tr>\n",
       "  </thead>\n",
       "  <tbody>\n",
       "    <tr>\n",
       "      <th>0</th>\n",
       "      <td>GeneralAgent_2e56d7b0</td>\n",
       "      <td>human_agent</td>\n",
       "      <td>atmo_o2</td>\n",
       "      <td>in</td>\n",
       "      <td>0</td>\n",
       "      <td>1</td>\n",
       "      <td>air_storage</td>\n",
       "      <td>1.0 kg</td>\n",
       "      <td>0.049200</td>\n",
       "    </tr>\n",
       "    <tr>\n",
       "      <th>1</th>\n",
       "      <td>GeneralAgent_2e56d7b0</td>\n",
       "      <td>human_agent</td>\n",
       "      <td>h2o_potb</td>\n",
       "      <td>in</td>\n",
       "      <td>0</td>\n",
       "      <td>1</td>\n",
       "      <td>water_storage</td>\n",
       "      <td>1.0 kg</td>\n",
       "      <td>0.212083</td>\n",
       "    </tr>\n",
       "    <tr>\n",
       "      <th>2</th>\n",
       "      <td>GeneralAgent_2e56d7b0</td>\n",
       "      <td>human_agent</td>\n",
       "      <td>h2o_potb</td>\n",
       "      <td>in</td>\n",
       "      <td>0</td>\n",
       "      <td>2</td>\n",
       "      <td>water_storage</td>\n",
       "      <td>1.0 kg</td>\n",
       "      <td>0.212083</td>\n",
       "    </tr>\n",
       "    <tr>\n",
       "      <th>3</th>\n",
       "      <td>GeneralAgent_2e56d7b0</td>\n",
       "      <td>human_agent</td>\n",
       "      <td>food_edbl</td>\n",
       "      <td>in</td>\n",
       "      <td>0</td>\n",
       "      <td>1</td>\n",
       "      <td>food_storage</td>\n",
       "      <td>1.0 kg</td>\n",
       "      <td>0.099750</td>\n",
       "    </tr>\n",
       "    <tr>\n",
       "      <th>4</th>\n",
       "      <td>GeneralAgent_2e56d7b0</td>\n",
       "      <td>human_agent</td>\n",
       "      <td>atmo_co2</td>\n",
       "      <td>out</td>\n",
       "      <td>0</td>\n",
       "      <td>1</td>\n",
       "      <td>air_storage</td>\n",
       "      <td>1.0 kg</td>\n",
       "      <td>0.064000</td>\n",
       "    </tr>\n",
       "  </tbody>\n",
       "</table>\n",
       "</div>"
      ],
      "text/plain": [
       "                agent_id   agent_type   currency direction  step_num  \\\n",
       "0  GeneralAgent_2e56d7b0  human_agent    atmo_o2        in         0   \n",
       "1  GeneralAgent_2e56d7b0  human_agent   h2o_potb        in         0   \n",
       "2  GeneralAgent_2e56d7b0  human_agent   h2o_potb        in         0   \n",
       "3  GeneralAgent_2e56d7b0  human_agent  food_edbl        in         0   \n",
       "4  GeneralAgent_2e56d7b0  human_agent   atmo_co2       out         0   \n",
       "\n",
       "   storage_id   storage_type    unit     value  \n",
       "0           1    air_storage  1.0 kg  0.049200  \n",
       "1           1  water_storage  1.0 kg  0.212083  \n",
       "2           2  water_storage  1.0 kg  0.212083  \n",
       "3           1   food_storage  1.0 kg  0.099750  \n",
       "4           1    air_storage  1.0 kg  0.064000  "
      ]
     },
     "execution_count": 25,
     "metadata": {},
     "output_type": "execute_result"
    }
   ],
   "source": [
    "df.head()"
   ]
  },
  {
   "cell_type": "code",
   "execution_count": 26,
   "metadata": {},
   "outputs": [],
   "source": [
    "# game_runner.agent_model.get_logs(filters=filters, columns=cols, dtype='list')[:5]"
   ]
  },
  {
   "cell_type": "code",
   "execution_count": null,
   "metadata": {},
   "outputs": [],
   "source": []
  },
  {
   "cell_type": "code",
   "execution_count": null,
   "metadata": {},
   "outputs": [],
   "source": []
  },
  {
   "cell_type": "code",
   "execution_count": 27,
   "metadata": {},
   "outputs": [],
   "source": [
    "# import cProfile\n",
    "# cProfile.run('run_sim(game_runner_manager, user, 10)', filename='simoc.cprof' )"
   ]
  },
  {
   "cell_type": "code",
   "execution_count": 28,
   "metadata": {},
   "outputs": [],
   "source": [
    "# from profiling.tracing import TracingProfiler\n",
    "# profiler = TracingProfiler()\n",
    "# profiler.start()\n",
    "# run_sim(game_runner_manager, user, 10)\n",
    "# profiler.stop()"
   ]
  },
  {
   "cell_type": "code",
   "execution_count": 29,
   "metadata": {},
   "outputs": [],
   "source": [
    "# profiler.run_viewer()"
   ]
  },
  {
   "cell_type": "code",
   "execution_count": 30,
   "metadata": {},
   "outputs": [],
   "source": [
    "# profiler.dump('simoc.profiler')"
   ]
  },
  {
   "cell_type": "code",
   "execution_count": null,
   "metadata": {},
   "outputs": [],
   "source": []
  },
  {
   "cell_type": "code",
   "execution_count": null,
   "metadata": {},
   "outputs": [],
   "source": []
  },
  {
   "cell_type": "code",
   "execution_count": 31,
   "metadata": {},
   "outputs": [],
   "source": [
    "# game_runner_manager.save_all(allow_repeat_save=False)"
   ]
  },
  {
   "cell_type": "code",
   "execution_count": 32,
   "metadata": {},
   "outputs": [],
   "source": [
    "# game_runner.agent_model.get_total_storages()"
   ]
  },
  {
   "cell_type": "code",
   "execution_count": 33,
   "metadata": {},
   "outputs": [],
   "source": [
    "# game_runner.agent_model.get_total_agents()"
   ]
  },
  {
   "cell_type": "code",
   "execution_count": 34,
   "metadata": {
    "scrolled": false
   },
   "outputs": [],
   "source": [
    "# game_runner.agent_model.get_model_stats()"
   ]
  },
  {
   "cell_type": "code",
   "execution_count": null,
   "metadata": {},
   "outputs": [],
   "source": []
  },
  {
   "cell_type": "code",
   "execution_count": null,
   "metadata": {},
   "outputs": [],
   "source": []
  },
  {
   "cell_type": "code",
   "execution_count": 35,
   "metadata": {},
   "outputs": [],
   "source": [
    "def get_sigmoid_step(step_num, max_value, num_values, min_value=0, center=None, steepness=0.5):\n",
    "    center = center if center else int(num_values / 2)\n",
    "    y = ((max_value - min_value) / (1. + np.exp(-steepness * (step_num - center)))) + min_value\n",
    "    return y\n",
    "\n",
    "def get_log_step(step_num, max_value, num_values, min_value=0, zero_value=1e-2):\n",
    "    zero_value = zero_value if zero_value < max_value else max_value * zero_value\n",
    "    y = np.geomspace(zero_value, max_value - min_value, num_values) + min_value\n",
    "    return y[step_num]\n",
    "\n",
    "def get_linear_step(step_num, max_value, num_values, min_value=0):\n",
    "    y = np.linspace(min_value, max_value, num_values)\n",
    "    return y[step_num]"
   ]
  },
  {
   "cell_type": "code",
   "execution_count": 36,
   "metadata": {},
   "outputs": [
    {
     "data": {
      "text/plain": [
       "[<matplotlib.lines.Line2D at 0x114bd8da0>]"
      ]
     },
     "execution_count": 36,
     "metadata": {},
     "output_type": "execute_result"
    },
    {
     "data": {
      "image/png": "[encoded data removed]",
      "text/plain": [
       "<Figure size 432x288 with 1 Axes>"
      ]
     },
     "metadata": {},
     "output_type": "display_data"
    }
   ],
   "source": [
    "min_value, max_value, num_values = 0, 6, 20\n",
    "\n",
    "y = []\n",
    "for i in range(num_values):\n",
    "#     y.append(get_linear_step(i, max_value, num_values, min_value))\n",
    "    y.append(get_linear_step(i, max_value, num_values))\n",
    "\n",
    "plt.plot(y, lw=2, color='orange')"
   ]
  },
  {
   "cell_type": "code",
   "execution_count": 37,
   "metadata": {},
   "outputs": [
    {
     "data": {
      "text/plain": [
       "[<matplotlib.lines.Line2D at 0x114c72198>]"
      ]
     },
     "execution_count": 37,
     "metadata": {},
     "output_type": "execute_result"
    },
    {
     "data": {
      "image/png": "[encoded data removed]",
      "text/plain": [
       "<Figure size 432x288 with 1 Axes>"
      ]
     },
     "metadata": {},
     "output_type": "display_data"
    }
   ],
   "source": [
    "min_value, max_value, num_values = 0, 6, 20\n",
    "center, steepness = 10, 0.5\n",
    "\n",
    "y = []\n",
    "for i in range(num_values):\n",
    "#     y.append(get_sigmoid_step(i, max_value, num_values, min_value, center, steepness))\n",
    "    y.append(get_sigmoid_step(i, max_value, num_values))\n",
    "\n",
    "plt.plot(y, lw=2, color='orange')"
   ]
  },
  {
   "cell_type": "code",
   "execution_count": 38,
   "metadata": {},
   "outputs": [
    {
     "data": {
      "text/plain": [
       "[<matplotlib.lines.Line2D at 0x114c9cf28>]"
      ]
     },
     "execution_count": 38,
     "metadata": {},
     "output_type": "execute_result"
    },
    {
     "data": {
      "image/png": "[encoded data removed]",
      "text/plain": [
       "<Figure size 432x288 with 1 Axes>"
      ]
     },
     "metadata": {},
     "output_type": "display_data"
    }
   ],
   "source": [
    "min_value, max_value, num_values = 0, 6, 20\n",
    "\n",
    "y = []\n",
    "for i in range(num_values):\n",
    "#     y.append(get_log_step(i, max_value, num_values, min_value))\n",
    "    y.append(get_log_step(i, max_value, num_values))\n",
    "\n",
    "plt.plot(y, lw=2, color='orange')"
   ]
  },
  {
   "cell_type": "code",
   "execution_count": null,
   "metadata": {},
   "outputs": [],
   "source": []
  },
  {
   "cell_type": "code",
   "execution_count": null,
   "metadata": {},
   "outputs": [],
   "source": []
  }
 ],
 "metadata": {
  "kernelspec": {
   "display_name": "Python 3",
   "language": "python",
   "name": "python3"
  },
  "language_info": {
   "codemirror_mode": {
    "name": "ipython",
    "version": 3
   },
   "file_extension": ".py",
   "mimetype": "text/x-python",
   "name": "python",
   "nbconvert_exporter": "python",
   "pygments_lexer": "ipython3",
   "version": "3.6.4"
  }
 },
 "nbformat": 4,
 "nbformat_minor": 2
}
