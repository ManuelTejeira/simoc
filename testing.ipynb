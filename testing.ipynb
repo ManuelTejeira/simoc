{
 "cells": [
  {
   "cell_type": "markdown",
   "metadata": {},
   "source": [
    "# Install additional Python libraries"
   ]
  },
  {
   "cell_type": "code",
   "execution_count": 1,
   "metadata": {},
   "outputs": [],
   "source": [
    "# !pip install quantities"
   ]
  },
  {
   "cell_type": "markdown",
   "metadata": {},
   "source": [
    "# Delete existing DB"
   ]
  },
  {
   "cell_type": "code",
   "execution_count": 2,
   "metadata": {},
   "outputs": [],
   "source": [
    "!rm simoc_server/db.sqlite"
   ]
  },
  {
   "cell_type": "markdown",
   "metadata": {},
   "source": [
    "# Import Python libraries"
   ]
  },
  {
   "cell_type": "code",
   "execution_count": 3,
   "metadata": {},
   "outputs": [],
   "source": [
    "import json\n",
    "from random import randint"
   ]
  },
  {
   "cell_type": "code",
   "execution_count": 4,
   "metadata": {},
   "outputs": [],
   "source": [
    "import pprint\n",
    "pp = pprint.PrettyPrinter()"
   ]
  },
  {
   "cell_type": "code",
   "execution_count": 5,
   "metadata": {},
   "outputs": [
    {
     "name": "stdout",
     "output_type": "stream",
     "text": [
      "Unknown DB_TYPE variable: \"None\"\n",
      "Using SQLite by default\n"
     ]
    }
   ],
   "source": [
    "from simoc_server import app, db\n",
    "from simoc_server.database.db_model import User\n",
    "from simoc_server.database.seed_data import seed\n",
    "from simoc_server.game_runner import GameRunnerManager, GameRunnerInitializationParams"
   ]
  },
  {
   "cell_type": "code",
   "execution_count": 6,
   "metadata": {},
   "outputs": [],
   "source": [
    "from simoc_server.views import convert_configuration"
   ]
  },
  {
   "cell_type": "markdown",
   "metadata": {},
   "source": [
    "# Load Agent model"
   ]
  },
  {
   "cell_type": "code",
   "execution_count": 7,
   "metadata": {
    "scrolled": false
   },
   "outputs": [],
   "source": [
    "db.drop_all()\n",
    "db.create_all()\n",
    "seed.seed('agent_desc.json')"
   ]
  },
  {
   "cell_type": "markdown",
   "metadata": {},
   "source": [
    "# Create new user"
   ]
  },
  {
   "cell_type": "code",
   "execution_count": 8,
   "metadata": {},
   "outputs": [
    {
     "name": "stdout",
     "output_type": "stream",
     "text": [
      "Creating new user\n"
     ]
    }
   ],
   "source": [
    "username = 'user1'\n",
    "password = 'user1'\n",
    "\n",
    "user = User.query.filter_by(username=username).first()\n",
    "if not user:\n",
    "    print('Creating new user')\n",
    "    user = User(username=username)\n",
    "    user.set_password(password)\n",
    "    db.session.add(user)\n",
    "    db.session.commit()"
   ]
  },
  {
   "cell_type": "markdown",
   "metadata": {},
   "source": [
    "# Initialize the ABM"
   ]
  },
  {
   "cell_type": "code",
   "execution_count": 9,
   "metadata": {
    "scrolled": false
   },
   "outputs": [],
   "source": [
    "game_config = {\"agents\": {\n",
    "    \"human_agent\": [{\"connections\": {\"air_storage\": [1], \"water_storage\": [1, 2], \"food_storage\": [1]}, \"amount\": 10}],\n",
    "    \"cabbage\": [{\"connections\": {\"air_storage\": [1], \"water_storage\": [1, 2], \"nutrient_storage\": [1],\n",
    "                                 \"power_storage\": [1], \"food_storage\": [1]}, \"amount\": 10}],\n",
    "    \"lettuce\": [{\"connections\": {\"air_storage\": [1], \"water_storage\": [1, 2], \"nutrient_storage\": [1],\n",
    "                                 \"power_storage\": [1], \"food_storage\": [1]}, \"amount\": 10}],\n",
    "    \"greenhouse_medium\": [{\"connections\": {\"power_storage\": [1]}, \"amount\": 1}],\n",
    "    \"solar_pv_array\": [{\"connections\": {\"power_storage\": [1]}, \"amount\": 100}],\n",
    "    \"multifiltration_purifier_post_treament\": [{\"connections\": {\"water_storage\": [1, 2]}, \"amount\": 1}],\n",
    "    \"urine_recycling_processor_VCD\": [{\"connections\": {\"power_storage\": [1], \"water_storage\": [1, 2]}, \"amount\": 1}],\n",
    "    \"co2_removal_SAWD\": [{\"connections\": {\"power_storage\": [1], \"air_storage\": [1]}, \"amount\": 1}]},\n",
    "\"storages\": {\n",
    "    \"air_storage\": [{\"id\": 1, \"atmo_h2o\": 100, \"atmo_o2\": 100, \"atmo_co2\": 100}],\n",
    "    \"water_storage\": [{\"id\": 1, \"h2o_potb\": 100, \"h2o_tret\": 100}, {\"id\": 2, \"h2o_wste\": 100, \"h2o_urin\": 0}],\n",
    "    \"nutrient_storage\": [{\"id\": 1, \"sold_n\": 100, \"sold_p\": 100, \"sold_k\": 100}],\n",
    "    \"power_storage\": [{\"id\": 1, \"enrg_kwh\": 1000}],\n",
    "    \"food_storage\": [{\"id\": 1, \"food_edbl\": 1000}]},\n",
    "\"termination\": {\n",
    "    \"time\": {\"value\": 2000, \"unit\": \"hour\"}},\n",
    "    \"food_leaf\": {\"value\": 10000, \"unit\": \"kg\"},\n",
    "    \"evacuation\": {}\n",
    "}"
   ]
  },
  {
   "cell_type": "code",
   "execution_count": 10,
   "metadata": {},
   "outputs": [
    {
     "name": "stdout",
     "output_type": "stream",
     "text": [
      "{'agents': {'cabbage': [{'amount': 3,\n",
      "                         'connections': {'air_storage': [1],\n",
      "                                         'food_storage': [1],\n",
      "                                         'nutrient_storage': [1],\n",
      "                                         'power_storage': [1],\n",
      "                                         'water_storage': [1, 2]}}],\n",
      "            'co2_reduction_sabatier': [{'amount': 1,\n",
      "                                        'connections': {'air_storage': [1],\n",
      "                                                        'power_storage': [1],\n",
      "                                                        'water_storage': [1,\n",
      "                                                                          2]}}],\n",
      "            'co2_removal_SAWD': [{'amount': 1,\n",
      "                                  'connections': {'air_storage': [1],\n",
      "                                                  'power_storage': [1]}}],\n",
      "            'crew_habitat_small': [{'amount': 1,\n",
      "                                    'connections': {'power_storage': [1]}}],\n",
      "            'greenhouse_small': [{'amount': 1,\n",
      "                                  'connections': {'power_storage': [1]}}],\n",
      "            'human_agent': [{'amount': 4,\n",
      "                             'connections': {'air_storage': [1],\n",
      "                                             'food_storage': [1],\n",
      "                                             'water_storage': [1, 2]}}],\n",
      "            'multifiltration_purifier_post_treament': [{'amount': 1,\n",
      "                                                        'connections': {'power_storage': [1],\n",
      "                                                                        'water_storage': [1,\n",
      "                                                                                          2]}}],\n",
      "            'oxygen_generation_SFWE': [{'amount': 1,\n",
      "                                        'connections': {'air_storage': [1],\n",
      "                                                        'power_storage': [1],\n",
      "                                                        'water_storage': [1,\n",
      "                                                                          2]}}],\n",
      "            'rice': [{'amount': 100,\n",
      "                      'connections': {'air_storage': [1],\n",
      "                                      'food_storage': [1],\n",
      "                                      'nutrient_storage': [1],\n",
      "                                      'power_storage': [1],\n",
      "                                      'water_storage': [1, 2]}}],\n",
      "            'solar_pv_array_mars': [{'amount': 60,\n",
      "                                     'connections': {'power_storage': [1]}}],\n",
      "            'solid_waste_aerobic_bioreactor': [{'amount': 1,\n",
      "                                                'connections': {'air_storage': [1],\n",
      "                                                                'nutrient_storage': [1],\n",
      "                                                                'power_storage': [1],\n",
      "                                                                'water_storage': [1,\n",
      "                                                                                  2]}}],\n",
      "            'urine_recycling_processor_VCD': [{'amount': 1,\n",
      "                                               'connections': {'power_storage': [1],\n",
      "                                                               'water_storage': [1,\n",
      "                                                                                 2]}}],\n",
      "            'wheat': [{'amount': 30,\n",
      "                       'connections': {'air_storage': [1],\n",
      "                                       'food_storage': [1],\n",
      "                                       'nutrient_storage': [1],\n",
      "                                       'power_storage': [1],\n",
      "                                       'water_storage': [1, 2]}}]},\n",
      " 'storages': {'air_storage': [{'atmo_ch4': 0.009531,\n",
      "                               'atmo_co2': 3.5,\n",
      "                               'atmo_h2': 0.005295,\n",
      "                               'atmo_h2o': 10,\n",
      "                               'atmo_n2': 7886,\n",
      "                               'atmo_o2': 2100,\n",
      "                               'id': 1}],\n",
      "              'food_storage': [{'food_edbl': 1000, 'id': 1}],\n",
      "              'nutrient_storage': [{'id': 1,\n",
      "                                    'sold_k': 100,\n",
      "                                    'sold_n': 100,\n",
      "                                    'sold_p': 100}],\n",
      "              'power_storage': [{'enrg_kwh': 30, 'id': 1}],\n",
      "              'water_storage': [{'h2o_potb': 5000, 'h2o_tret': 1000, 'id': 1},\n",
      "                                {'h2o_potb': 4000,\n",
      "                                 'h2o_urin': 100,\n",
      "                                 'h2o_wste': 100,\n",
      "                                 'id': 2}]},\n",
      " 'termination': [{'condition': 'evacuation'},\n",
      "                 {'condition': 'time', 'unit': 'day', 'value': 30}]}\n"
     ]
    }
   ],
   "source": [
    "start_data = {\"game_config\": {'duration': {'value': 30, 'type': 'day'}, 'human_agent': {'amount': 4}, 'habitat': 'crew_habitat_small', 'greenhouse': 'greenhouse_small', 'food_storage': {'amount': 1000}, 'solar_arrays': {'amount': 60}, 'power_storage': {'amount': 30}, 'plants': [{'species': 'rice', 'amount': 100}, {'species': 'wheat', 'amount': 30}, {'species': 'cabbage', 'amount': 4}, {'species': 'rice', 'amount': 100}, {'species': 'wheat', 'amount': 30}, {'species': 'cabbage', 'amount': 3}]}}\n",
    "game_config = convert_configuration(start_data[\"game_config\"])\n",
    "pp.pprint(game_config)"
   ]
  },
  {
   "cell_type": "code",
   "execution_count": 11,
   "metadata": {
    "scrolled": false
   },
   "outputs": [],
   "source": [
    "game_runner_manager = GameRunnerManager()\n",
    "game_runner_init_params = GameRunnerInitializationParams(game_config)\n",
    "game_runner_manager.new_game(user, game_runner_init_params)\n",
    "game_runner = game_runner_manager.get_game_runner(user)"
   ]
  },
  {
   "cell_type": "markdown",
   "metadata": {},
   "source": [
    "# Run the simiulation"
   ]
  },
  {
   "cell_type": "code",
   "execution_count": 12,
   "metadata": {
    "scrolled": false
   },
   "outputs": [
    {
     "name": "stdout",
     "output_type": "stream",
     "text": [
      "{'agents': {'total_agent_types': {'cabbage': 3,\n",
      "                                  'co2_reduction_sabatier': 1,\n",
      "                                  'co2_removal_SAWD': 1,\n",
      "                                  'crew_habitat_small': 1,\n",
      "                                  'greenhouse_small': 1,\n",
      "                                  'human_agent': 4,\n",
      "                                  'multifiltration_purifier_post_treament': 1,\n",
      "                                  'oxygen_generation_SFWE': 1,\n",
      "                                  'rice': 100,\n",
      "                                  'solar_pv_array_mars': 60,\n",
      "                                  'solid_waste_aerobic_bioreactor': 1,\n",
      "                                  'urine_recycling_processor_VCD': 1,\n",
      "                                  'wheat': 30},\n",
      "            'total_consumption': {'atmo_co2': {'units': 'kg',\n",
      "                                               'value': '0.2381'},\n",
      "                                  'atmo_h2': {'units': 'kg', 'value': '0.0016'},\n",
      "                                  'atmo_o2': {'units': 'g',\n",
      "                                              'value': '197.2500'},\n",
      "                                  'enrg_kwh': {'units': 'kWh',\n",
      "                                               'value': '40.9992'},\n",
      "                                  'food_edbl': {'units': 'g',\n",
      "                                                'value': '399.0000'},\n",
      "                                  'h2o_potb': {'units': 'kg',\n",
      "                                               'value': '3.2413'},\n",
      "                                  'h2o_tret': {'units': 'kg',\n",
      "                                               'value': '4.7500'},\n",
      "                                  'h2o_urin': {'units': 'kg',\n",
      "                                               'value': '1.3600'},\n",
      "                                  'h2o_wste': {'units': 'kg',\n",
      "                                               'value': '1.5000'},\n",
      "                                  'sold_k': {'units': 'kg', 'value': '0.0004'},\n",
      "                                  'sold_n': {'units': 'kg', 'value': '0.0031'},\n",
      "                                  'sold_p': {'units': 'kg', 'value': '0.0001'}},\n",
      "            'total_production': {'atmo_ch4': {'units': 'kg', 'value': '0.0033'},\n",
      "                                 'atmo_co2': {'units': 'kg', 'value': '0.2575'},\n",
      "                                 'atmo_h2': {'units': 'kg', 'value': '0.0454'},\n",
      "                                 'atmo_h2o': {'units': 'kg', 'value': '0.4440'},\n",
      "                                 'atmo_o2': {'units': 'g', 'value': '535.4192'},\n",
      "                                 'enrg_kwh': {'units': 'kWh',\n",
      "                                              'value': '31.8000'},\n",
      "                                 'food_edbl': {'units': 'g', 'value': '0.0000'},\n",
      "                                 'h2o_potb': {'units': 'kg', 'value': '4.7500'},\n",
      "                                 'h2o_tret': {'units': 'kg', 'value': '1.3600'},\n",
      "                                 'h2o_urin': {'units': 'kg', 'value': '1.7450'},\n",
      "                                 'h2o_wste': {'units': 'kg', 'value': '0.2697'},\n",
      "                                 'sold_k': {'units': 'kg', 'value': '0.0006'},\n",
      "                                 'sold_n': {'units': 'kg', 'value': '0.0022'},\n",
      "                                 'sold_p': {'units': 'kg', 'value': '0.0003'}}},\n",
      " 'hours_per_step': 1.0,\n",
      " 'is_terminated': False,\n",
      " 'model_stats': {'air_storage_1': {'atmo_ch4_ratio': 3.169411026006893e-05,\n",
      "                                   'atmo_co2_ratio': 0.0005893397138260764,\n",
      "                                   'atmo_h2_ratio': 0.00028569627539547514,\n",
      "                                   'atmo_h2o_ratio': 0.005752729031140275,\n",
      "                                   'atmo_n2_ratio': 0.7828206298242104,\n",
      "                                   'atmo_o2_ratio': 0.21051991104516787},\n",
      "                 'food_storage_1': {'food_edbl_ratio': 1.0},\n",
      "                 'nutrient_storage_1': {'sold_k_ratio': 0.3335258232406312,\n",
      "                                        'sold_n_ratio': 0.33291666203483095,\n",
      "                                        'sold_p_ratio': 0.33355751472453793,\n",
      "                                        'sold_wast_ratio': 0},\n",
      "                 'power_storage_1': {'enrg_kwh_ratio': 1.0},\n",
      "                 'water_storage_1': {'h2o_potb_ratio': 0.8358309914266645,\n",
      "                                     'h2o_treated_ratio': 0,\n",
      "                                     'h2o_tret_ratio': 0.16408633621738494,\n",
      "                                     'h2o_urin_ratio': 7.577428326683766e-05,\n",
      "                                     'h2o_wste_ratio': 6.898072683601779e-06},\n",
      "                 'water_storage_2': {'h2o_potb_ratio': 0.9689409548306182,\n",
      "                                     'h2o_treated_ratio': 0,\n",
      "                                     'h2o_tret_ratio': 0,\n",
      "                                     'h2o_urin_ratio': 0.022930315774538086,\n",
      "                                     'h2o_wste_ratio': 0.008128729394843808}},\n",
      " 'step': 100,\n",
      " 'storages': [{'agent_id': 2,\n",
      "               'agent_type': 'water_storage',\n",
      "               'currencies': [{'capacity': 4000,\n",
      "                               'name': 'h2o_treated',\n",
      "                               'units': 'kg',\n",
      "                               'value': '0.0000'},\n",
      "                              {'capacity': 4000,\n",
      "                               'name': 'h2o_potb',\n",
      "                               'units': 'kg',\n",
      "                               'value': '3999.4852'},\n",
      "                              {'capacity': 4000,\n",
      "                               'name': 'h2o_urin',\n",
      "                               'units': 'kg',\n",
      "                               'value': '95.3300'},\n",
      "                              {'capacity': 4000,\n",
      "                               'name': 'h2o_wste',\n",
      "                               'units': 'kg',\n",
      "                               'value': '38.4665'},\n",
      "                              {'capacity': 4000,\n",
      "                               'name': 'h2o_tret',\n",
      "                               'units': 'kg',\n",
      "                               'value': '0.0000'}]},\n",
      "              {'agent_id': 1,\n",
      "               'agent_type': 'air_storage',\n",
      "               'currencies': [{'capacity': 10000,\n",
      "                               'name': 'atmo_o2',\n",
      "                               'units': 'kg',\n",
      "                               'value': '2119.1369'},\n",
      "                              {'capacity': 10000,\n",
      "                               'name': 'atmo_co2',\n",
      "                               'units': 'kg',\n",
      "                               'value': '5.7860'},\n",
      "                              {'capacity': 10000,\n",
      "                               'name': 'atmo_n2',\n",
      "                               'units': 'kg',\n",
      "                               'value': '7886.0000'},\n",
      "                              {'capacity': 10000,\n",
      "                               'name': 'atmo_ch4',\n",
      "                               'units': 'kg',\n",
      "                               'value': '0.2955'},\n",
      "                              {'capacity': 1000,\n",
      "                               'name': 'atmo_h2',\n",
      "                               'units': 'kg',\n",
      "                               'value': '2.6641'},\n",
      "                              {'capacity': 1000,\n",
      "                               'name': 'atmo_h2o',\n",
      "                               'units': 'kg',\n",
      "                               'value': '54.4000'}]},\n",
      "              {'agent_id': 1,\n",
      "               'agent_type': 'water_storage',\n",
      "               'currencies': [{'capacity': 4000,\n",
      "                               'name': 'h2o_treated',\n",
      "                               'units': 'kg',\n",
      "                               'value': '0.0000'},\n",
      "                              {'capacity': 4000,\n",
      "                               'name': 'h2o_potb',\n",
      "                               'units': 'kg',\n",
      "                               'value': '3999.4852'},\n",
      "                              {'capacity': 4000,\n",
      "                               'name': 'h2o_urin',\n",
      "                               'units': 'kg',\n",
      "                               'value': '1.0650'},\n",
      "                              {'capacity': 4000,\n",
      "                               'name': 'h2o_wste',\n",
      "                               'units': 'kg',\n",
      "                               'value': '0.0028'},\n",
      "                              {'capacity': 4000,\n",
      "                               'name': 'h2o_tret',\n",
      "                               'units': 'kg',\n",
      "                               'value': '802.6200'}]},\n",
      "              {'agent_id': 1,\n",
      "               'agent_type': 'food_storage',\n",
      "               'currencies': [{'capacity': 10000,\n",
      "                               'name': 'food_edbl',\n",
      "                               'units': 'kg',\n",
      "                               'value': '960.1000'}]},\n",
      "              {'agent_id': 1,\n",
      "               'agent_type': 'power_storage',\n",
      "               'currencies': [{'capacity': 160,\n",
      "                               'name': 'enrg_kwh',\n",
      "                               'units': 'kWh',\n",
      "                               'value': '0.5300'}]},\n",
      "              {'agent_id': 1,\n",
      "               'agent_type': 'nutrient_storage',\n",
      "               'currencies': [{'capacity': 1000,\n",
      "                               'name': 'sold_n',\n",
      "                               'units': 'kg',\n",
      "                               'value': '99.8356'},\n",
      "                              {'capacity': 1000,\n",
      "                               'name': 'sold_p',\n",
      "                               'units': 'kg',\n",
      "                               'value': '100.0127'},\n",
      "                              {'capacity': 1000,\n",
      "                               'name': 'sold_k',\n",
      "                               'units': 'kg',\n",
      "                               'value': '100.0041'},\n",
      "                              {'capacity': 1000,\n",
      "                               'name': 'sold_wast',\n",
      "                               'units': 'kg',\n",
      "                               'value': '0.0000'}]}],\n",
      " 'time': 360000.0}\n"
     ]
    }
   ],
   "source": [
    "num_steps = 100\n",
    "for i in range(1, num_steps + 1):\n",
    "    agent_model_state = game_runner_manager.get_step(user, i)\n",
    "#     if i % 100 == 0:\n",
    "#         print(\"Step: {}\".format(i))\n",
    "#         pp.pprint(agent_model_state)\n",
    "pp.pprint(agent_model_state)"
   ]
  },
  {
   "cell_type": "code",
   "execution_count": 13,
   "metadata": {},
   "outputs": [],
   "source": [
    "game_runner_manager.save_all(allow_repeat_save=False)"
   ]
  },
  {
   "cell_type": "code",
   "execution_count": 14,
   "metadata": {},
   "outputs": [
    {
     "data": {
      "text/plain": [
       "[{'agent_type': 'water_storage',\n",
       "  'agent_id': 1,\n",
       "  'currencies': [{'name': 'h2o_treated',\n",
       "    'value': '0.0000',\n",
       "    'capacity': 4000,\n",
       "    'units': 'kg'},\n",
       "   {'name': 'h2o_potb', 'value': '3998.8471', 'capacity': 4000, 'units': 'kg'},\n",
       "   {'name': 'h2o_urin', 'value': '0.8413', 'capacity': 4000, 'units': 'kg'},\n",
       "   {'name': 'h2o_wste', 'value': '0.0990', 'capacity': 4000, 'units': 'kg'},\n",
       "   {'name': 'h2o_tret',\n",
       "    'value': '783.2850',\n",
       "    'capacity': 4000,\n",
       "    'units': 'kg'}]},\n",
       " {'agent_type': 'food_storage',\n",
       "  'agent_id': 1,\n",
       "  'currencies': [{'name': 'food_edbl',\n",
       "    'value': '956.5090',\n",
       "    'capacity': 10000,\n",
       "    'units': 'kg'}]},\n",
       " {'agent_type': 'water_storage',\n",
       "  'agent_id': 2,\n",
       "  'currencies': [{'name': 'h2o_treated',\n",
       "    'value': '0.0000',\n",
       "    'capacity': 4000,\n",
       "    'units': 'kg'},\n",
       "   {'name': 'h2o_potb', 'value': '3998.8471', 'capacity': 4000, 'units': 'kg'},\n",
       "   {'name': 'h2o_urin', 'value': '94.8200', 'capacity': 4000, 'units': 'kg'},\n",
       "   {'name': 'h2o_wste', 'value': '32.9300', 'capacity': 4000, 'units': 'kg'},\n",
       "   {'name': 'h2o_tret', 'value': '0.6800', 'capacity': 4000, 'units': 'kg'}]},\n",
       " {'agent_type': 'air_storage',\n",
       "  'agent_id': 1,\n",
       "  'currencies': [{'name': 'atmo_o2',\n",
       "    'value': '2121.0794',\n",
       "    'capacity': 10000,\n",
       "    'units': 'kg'},\n",
       "   {'name': 'atmo_co2', 'value': '5.9563', 'capacity': 10000, 'units': 'kg'},\n",
       "   {'name': 'atmo_n2', 'value': '7886.0000', 'capacity': 10000, 'units': 'kg'},\n",
       "   {'name': 'atmo_ch4', 'value': '0.3225', 'capacity': 10000, 'units': 'kg'},\n",
       "   {'name': 'atmo_h2', 'value': '2.9218', 'capacity': 1000, 'units': 'kg'},\n",
       "   {'name': 'atmo_h2o', 'value': '58.3960', 'capacity': 1000, 'units': 'kg'}]},\n",
       " {'agent_type': 'nutrient_storage',\n",
       "  'agent_id': 1,\n",
       "  'currencies': [{'name': 'sold_n',\n",
       "    'value': '99.8205',\n",
       "    'capacity': 1000,\n",
       "    'units': 'kg'},\n",
       "   {'name': 'sold_p', 'value': '100.0139', 'capacity': 1000, 'units': 'kg'},\n",
       "   {'name': 'sold_k', 'value': '100.0044', 'capacity': 1000, 'units': 'kg'},\n",
       "   {'name': 'sold_wast', 'value': '0.0000', 'capacity': 1000, 'units': 'kg'}]},\n",
       " {'agent_type': 'power_storage',\n",
       "  'agent_id': 1,\n",
       "  'currencies': [{'name': 'enrg_kwh',\n",
       "    'value': '0.0000',\n",
       "    'capacity': 160,\n",
       "    'units': 'kWh'}]}]"
      ]
     },
     "execution_count": 14,
     "metadata": {},
     "output_type": "execute_result"
    }
   ],
   "source": [
    "game_runner.agent_model.get_total_storages()"
   ]
  },
  {
   "cell_type": "code",
   "execution_count": 15,
   "metadata": {},
   "outputs": [
    {
     "data": {
      "text/plain": [
       "{'total_production': {'atmo_o2': {'value': '535.4192', 'units': 'g'},\n",
       "  'food_edbl': {'value': '0.0000', 'units': 'g'},\n",
       "  'enrg_kwh': {'value': '31.8000', 'units': 'kWh'},\n",
       "  'atmo_co2': {'value': '0.2575', 'units': 'kg'},\n",
       "  'atmo_h2o': {'value': '0.4440', 'units': 'kg'},\n",
       "  'h2o_wste': {'value': '0.2697', 'units': 'kg'},\n",
       "  'h2o_urin': {'value': '1.7450', 'units': 'kg'},\n",
       "  'atmo_ch4': {'value': '0.0033', 'units': 'kg'},\n",
       "  'h2o_potb': {'value': '4.7500', 'units': 'kg'},\n",
       "  'h2o_tret': {'value': '1.3600', 'units': 'kg'},\n",
       "  'sold_n': {'value': '0.0022', 'units': 'kg'},\n",
       "  'sold_p': {'value': '0.0003', 'units': 'kg'},\n",
       "  'sold_k': {'value': '0.0006', 'units': 'kg'},\n",
       "  'atmo_h2': {'value': '0.0454', 'units': 'kg'}},\n",
       " 'total_consumption': {'atmo_co2': {'value': '0.2381', 'units': 'kg'},\n",
       "  'h2o_potb': {'value': '3.2413', 'units': 'kg'},\n",
       "  'sold_n': {'value': '0.0031', 'units': 'kg'},\n",
       "  'sold_p': {'value': '0.0001', 'units': 'kg'},\n",
       "  'sold_k': {'value': '0.0004', 'units': 'kg'},\n",
       "  'enrg_kwh': {'value': '40.9992', 'units': 'kWh'},\n",
       "  'atmo_o2': {'value': '197.2500', 'units': 'g'},\n",
       "  'food_edbl': {'value': '399.0000', 'units': 'g'},\n",
       "  'atmo_h2': {'value': '0.0016', 'units': 'kg'},\n",
       "  'h2o_tret': {'value': '4.7500', 'units': 'kg'},\n",
       "  'h2o_urin': {'value': '1.3600', 'units': 'kg'},\n",
       "  'h2o_wste': {'value': '1.5000', 'units': 'kg'}},\n",
       " 'total_agent_types': {'rice': 100,\n",
       "  'wheat': 30,\n",
       "  'solar_pv_array_mars': 60,\n",
       "  'human_agent': 4,\n",
       "  'greenhouse_small': 1,\n",
       "  'cabbage': 3,\n",
       "  'co2_reduction_sabatier': 1,\n",
       "  'multifiltration_purifier_post_treament': 1,\n",
       "  'urine_recycling_processor_VCD': 1,\n",
       "  'co2_removal_SAWD': 1,\n",
       "  'solid_waste_aerobic_bioreactor': 1,\n",
       "  'crew_habitat_small': 1,\n",
       "  'oxygen_generation_SFWE': 1}}"
      ]
     },
     "execution_count": 15,
     "metadata": {},
     "output_type": "execute_result"
    }
   ],
   "source": [
    "game_runner.agent_model.get_total_agents()"
   ]
  },
  {
   "cell_type": "code",
   "execution_count": 16,
   "metadata": {
    "scrolled": false
   },
   "outputs": [
    {
     "data": {
      "text/plain": [
       "{'step': 109,\n",
       " 'hours_per_step': 1.0,\n",
       " 'is_terminated': False,\n",
       " 'time': 392400.0,\n",
       " 'agents': {'total_production': {'atmo_o2': {'value': '535.4192',\n",
       "    'units': 'g'},\n",
       "   'food_edbl': {'value': '0.0000', 'units': 'g'},\n",
       "   'enrg_kwh': {'value': '31.8000', 'units': 'kWh'},\n",
       "   'atmo_co2': {'value': '0.2575', 'units': 'kg'},\n",
       "   'atmo_h2o': {'value': '0.4440', 'units': 'kg'},\n",
       "   'h2o_wste': {'value': '0.2697', 'units': 'kg'},\n",
       "   'h2o_urin': {'value': '1.7450', 'units': 'kg'},\n",
       "   'atmo_ch4': {'value': '0.0033', 'units': 'kg'},\n",
       "   'h2o_potb': {'value': '4.7500', 'units': 'kg'},\n",
       "   'h2o_tret': {'value': '1.3600', 'units': 'kg'},\n",
       "   'sold_n': {'value': '0.0022', 'units': 'kg'},\n",
       "   'sold_p': {'value': '0.0003', 'units': 'kg'},\n",
       "   'sold_k': {'value': '0.0006', 'units': 'kg'},\n",
       "   'atmo_h2': {'value': '0.0454', 'units': 'kg'}},\n",
       "  'total_consumption': {'atmo_co2': {'value': '0.2381', 'units': 'kg'},\n",
       "   'h2o_potb': {'value': '3.2413', 'units': 'kg'},\n",
       "   'sold_n': {'value': '0.0031', 'units': 'kg'},\n",
       "   'sold_p': {'value': '0.0001', 'units': 'kg'},\n",
       "   'sold_k': {'value': '0.0004', 'units': 'kg'},\n",
       "   'enrg_kwh': {'value': '40.9992', 'units': 'kWh'},\n",
       "   'atmo_o2': {'value': '197.2500', 'units': 'g'},\n",
       "   'food_edbl': {'value': '399.0000', 'units': 'g'},\n",
       "   'atmo_h2': {'value': '0.0016', 'units': 'kg'},\n",
       "   'h2o_tret': {'value': '4.7500', 'units': 'kg'},\n",
       "   'h2o_urin': {'value': '1.3600', 'units': 'kg'},\n",
       "   'h2o_wste': {'value': '1.5000', 'units': 'kg'}},\n",
       "  'total_agent_types': {'rice': 100,\n",
       "   'wheat': 30,\n",
       "   'solar_pv_array_mars': 60,\n",
       "   'human_agent': 4,\n",
       "   'greenhouse_small': 1,\n",
       "   'cabbage': 3,\n",
       "   'co2_reduction_sabatier': 1,\n",
       "   'multifiltration_purifier_post_treament': 1,\n",
       "   'urine_recycling_processor_VCD': 1,\n",
       "   'co2_removal_SAWD': 1,\n",
       "   'solid_waste_aerobic_bioreactor': 1,\n",
       "   'crew_habitat_small': 1,\n",
       "   'oxygen_generation_SFWE': 1}},\n",
       " 'storages': [{'agent_type': 'water_storage',\n",
       "   'agent_id': 1,\n",
       "   'currencies': [{'name': 'h2o_treated',\n",
       "     'value': '0.0000',\n",
       "     'capacity': 4000,\n",
       "     'units': 'kg'},\n",
       "    {'name': 'h2o_potb',\n",
       "     'value': '3998.8471',\n",
       "     'capacity': 4000,\n",
       "     'units': 'kg'},\n",
       "    {'name': 'h2o_urin', 'value': '0.8413', 'capacity': 4000, 'units': 'kg'},\n",
       "    {'name': 'h2o_wste', 'value': '0.0990', 'capacity': 4000, 'units': 'kg'},\n",
       "    {'name': 'h2o_tret',\n",
       "     'value': '783.2850',\n",
       "     'capacity': 4000,\n",
       "     'units': 'kg'}]},\n",
       "  {'agent_type': 'food_storage',\n",
       "   'agent_id': 1,\n",
       "   'currencies': [{'name': 'food_edbl',\n",
       "     'value': '956.5090',\n",
       "     'capacity': 10000,\n",
       "     'units': 'kg'}]},\n",
       "  {'agent_type': 'water_storage',\n",
       "   'agent_id': 2,\n",
       "   'currencies': [{'name': 'h2o_treated',\n",
       "     'value': '0.0000',\n",
       "     'capacity': 4000,\n",
       "     'units': 'kg'},\n",
       "    {'name': 'h2o_potb',\n",
       "     'value': '3998.8471',\n",
       "     'capacity': 4000,\n",
       "     'units': 'kg'},\n",
       "    {'name': 'h2o_urin', 'value': '94.8200', 'capacity': 4000, 'units': 'kg'},\n",
       "    {'name': 'h2o_wste', 'value': '32.9300', 'capacity': 4000, 'units': 'kg'},\n",
       "    {'name': 'h2o_tret', 'value': '0.6800', 'capacity': 4000, 'units': 'kg'}]},\n",
       "  {'agent_type': 'air_storage',\n",
       "   'agent_id': 1,\n",
       "   'currencies': [{'name': 'atmo_o2',\n",
       "     'value': '2121.0794',\n",
       "     'capacity': 10000,\n",
       "     'units': 'kg'},\n",
       "    {'name': 'atmo_co2', 'value': '5.9563', 'capacity': 10000, 'units': 'kg'},\n",
       "    {'name': 'atmo_n2',\n",
       "     'value': '7886.0000',\n",
       "     'capacity': 10000,\n",
       "     'units': 'kg'},\n",
       "    {'name': 'atmo_ch4', 'value': '0.3225', 'capacity': 10000, 'units': 'kg'},\n",
       "    {'name': 'atmo_h2', 'value': '2.9218', 'capacity': 1000, 'units': 'kg'},\n",
       "    {'name': 'atmo_h2o',\n",
       "     'value': '58.3960',\n",
       "     'capacity': 1000,\n",
       "     'units': 'kg'}]},\n",
       "  {'agent_type': 'nutrient_storage',\n",
       "   'agent_id': 1,\n",
       "   'currencies': [{'name': 'sold_n',\n",
       "     'value': '99.8205',\n",
       "     'capacity': 1000,\n",
       "     'units': 'kg'},\n",
       "    {'name': 'sold_p', 'value': '100.0139', 'capacity': 1000, 'units': 'kg'},\n",
       "    {'name': 'sold_k', 'value': '100.0044', 'capacity': 1000, 'units': 'kg'},\n",
       "    {'name': 'sold_wast',\n",
       "     'value': '0.0000',\n",
       "     'capacity': 1000,\n",
       "     'units': 'kg'}]},\n",
       "  {'agent_type': 'power_storage',\n",
       "   'agent_id': 1,\n",
       "   'currencies': [{'name': 'enrg_kwh',\n",
       "     'value': '0.0000',\n",
       "     'capacity': 160,\n",
       "     'units': 'kWh'}]}],\n",
       " 'model_stats': {'air_storage_1': {'atmo_o2_ratio': 0.21051991104516787,\n",
       "   'atmo_co2_ratio': 0.0005893397138260764,\n",
       "   'atmo_n2_ratio': 0.7828206298242104,\n",
       "   'atmo_ch4_ratio': 3.169411026006893e-05,\n",
       "   'atmo_h2_ratio': 0.00028569627539547514,\n",
       "   'atmo_h2o_ratio': 0.005752729031140275},\n",
       "  'water_storage_1': {'h2o_treated_ratio': 0,\n",
       "   'h2o_potb_ratio': 0.8358309914266645,\n",
       "   'h2o_urin_ratio': 7.577428326683766e-05,\n",
       "   'h2o_wste_ratio': 6.898072683601779e-06,\n",
       "   'h2o_tret_ratio': 0.16408633621738494},\n",
       "  'water_storage_2': {'h2o_treated_ratio': 0,\n",
       "   'h2o_potb_ratio': 0.9689409548306182,\n",
       "   'h2o_urin_ratio': 0.022930315774538086,\n",
       "   'h2o_wste_ratio': 0.008128729394843808,\n",
       "   'h2o_tret_ratio': 0},\n",
       "  'nutrient_storage_1': {'sold_n_ratio': 0.33291666203483095,\n",
       "   'sold_p_ratio': 0.33355751472453793,\n",
       "   'sold_k_ratio': 0.3335258232406312,\n",
       "   'sold_wast_ratio': 0},\n",
       "  'power_storage_1': {'enrg_kwh_ratio': 1.0},\n",
       "  'food_storage_1': {'food_edbl_ratio': 1.0}}}"
      ]
     },
     "execution_count": 16,
     "metadata": {},
     "output_type": "execute_result"
    }
   ],
   "source": [
    "game_runner.agent_model.get_model_stats()"
   ]
  },
  {
   "cell_type": "code",
   "execution_count": null,
   "metadata": {},
   "outputs": [],
   "source": []
  },
  {
   "cell_type": "code",
   "execution_count": null,
   "metadata": {},
   "outputs": [],
   "source": []
  },
  {
   "cell_type": "code",
   "execution_count": null,
   "metadata": {},
   "outputs": [],
   "source": []
  },
  {
   "cell_type": "code",
   "execution_count": null,
   "metadata": {},
   "outputs": [],
   "source": []
  },
  {
   "cell_type": "code",
   "execution_count": null,
   "metadata": {},
   "outputs": [],
   "source": []
  },
  {
   "cell_type": "code",
   "execution_count": null,
   "metadata": {},
   "outputs": [],
   "source": []
  }
 ],
 "metadata": {
  "kernelspec": {
   "display_name": "Python 3",
   "language": "python",
   "name": "python3"
  },
  "language_info": {
   "codemirror_mode": {
    "name": "ipython",
    "version": 3
   },
   "file_extension": ".py",
   "mimetype": "text/x-python",
   "name": "python",
   "nbconvert_exporter": "python",
   "pygments_lexer": "ipython3",
   "version": "3.6.4"
  }
 },
 "nbformat": 4,
 "nbformat_minor": 2
}
