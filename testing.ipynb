{
 "cells": [
  {
   "cell_type": "markdown",
   "metadata": {},
   "source": [
    "# Install additional Python libraries"
   ]
  },
  {
   "cell_type": "code",
   "execution_count": 1,
   "metadata": {},
   "outputs": [
    {
     "name": "stdout",
     "output_type": "stream",
     "text": [
      "Requirement already satisfied: quantities in /anaconda3/envs/python36/lib/python3.6/site-packages (0.12.2)\n",
      "\u001b[33mYou are using pip version 18.0, however version 18.1 is available.\n",
      "You should consider upgrading via the 'pip install --upgrade pip' command.\u001b[0m\n"
     ]
    }
   ],
   "source": [
    "!pip install quantities"
   ]
  },
  {
   "cell_type": "markdown",
   "metadata": {},
   "source": [
    "# Delete existing DB"
   ]
  },
  {
   "cell_type": "code",
   "execution_count": 2,
   "metadata": {},
   "outputs": [],
   "source": [
    "!rm simoc_server/db.sqlite"
   ]
  },
  {
   "cell_type": "markdown",
   "metadata": {},
   "source": [
    "# Import Python libraries"
   ]
  },
  {
   "cell_type": "code",
   "execution_count": 3,
   "metadata": {},
   "outputs": [],
   "source": [
    "import json\n",
    "from random import randint"
   ]
  },
  {
   "cell_type": "code",
   "execution_count": 4,
   "metadata": {},
   "outputs": [],
   "source": [
    "import pprint\n",
    "pp = pprint.PrettyPrinter()"
   ]
  },
  {
   "cell_type": "code",
   "execution_count": 5,
   "metadata": {},
   "outputs": [
    {
     "name": "stdout",
     "output_type": "stream",
     "text": [
      "Unknown DB_TYPE variable: \"None\"\n",
      "Using SQLite by default\n"
     ]
    }
   ],
   "source": [
    "from simoc_server import app, db\n",
    "from simoc_server.database.db_model import User\n",
    "from simoc_server.database.seed_data import seed\n",
    "from simoc_server.game_runner import GameRunnerManager, GameRunnerInitializationParams"
   ]
  },
  {
   "cell_type": "markdown",
   "metadata": {},
   "source": [
    "# Load Agent model"
   ]
  },
  {
   "cell_type": "code",
   "execution_count": 6,
   "metadata": {
    "scrolled": false
   },
   "outputs": [],
   "source": [
    "db.drop_all()\n",
    "db.create_all()\n",
    "seed.seed('agent_desc.json')"
   ]
  },
  {
   "cell_type": "markdown",
   "metadata": {},
   "source": [
    "# Create new user"
   ]
  },
  {
   "cell_type": "code",
   "execution_count": 7,
   "metadata": {},
   "outputs": [
    {
     "name": "stdout",
     "output_type": "stream",
     "text": [
      "Creating new user\n"
     ]
    }
   ],
   "source": [
    "username = 'user1'\n",
    "password = 'user1'\n",
    "\n",
    "user = User.query.filter_by(username=username).first()\n",
    "if not user:\n",
    "    print('Creating new user')\n",
    "    user = User(username=username)\n",
    "    user.set_password(password)\n",
    "    db.session.add(user)\n",
    "    db.session.commit()"
   ]
  },
  {
   "cell_type": "markdown",
   "metadata": {},
   "source": [
    "# Initialize the ABM"
   ]
  },
  {
   "cell_type": "code",
   "execution_count": 8,
   "metadata": {
    "scrolled": false
   },
   "outputs": [],
   "source": [
    "game_config = {\"agents\": {\n",
    "    \"human_agent\": [{\"connections\": {\"air_storage\": [1], \"water_storage\": [1, 2], \"nutrient_storage\": [1],\n",
    "                                     \"power_storage\": [1], \"food_storage\": [1]}, \"amount\": 2}],\n",
    "    \"cabbage\": [{\"connections\": {\"air_storage\": [1], \"water_storage\": [1, 2], \"nutrient_storage\": [1],\n",
    "                                 \"power_storage\": [1], \"food_storage\": [1]}, \"amount\": 10}],\n",
    "    \"lettuce\": [{\"connections\": {\"air_storage\": [1], \"water_storage\": [1, 2], \"nutrient_storage\": [1],\n",
    "                                 \"power_storage\": [1], \"food_storage\": [1]}, \"amount\": 10}],\n",
    "    \"greenhouse_medium\": [{\"connections\": {\"power_storage\": [1]}, \"amount\": 1}],\n",
    "    \"solar_pv_array\": [{\"connections\": {\"power_storage\": [1]}, \"amount\": 100}],\n",
    "    \"multifiltration_purifier_post_treament\": [{\"connections\": {\"water_storage\": [1, 2]}, \"amount\": 1}],\n",
    "    \"urine_recycling_processor_VCD\": [{\"connections\": {\"power_storage\": [1], \"water_storage\": [1, 2]}, \"amount\": 1}]},\n",
    "\"storages\": {\n",
    "    \"air_storage\": [{\"id\": 1, \"atmo_h2o\": 100, \"atmo_o2\": 100, \"atmo_co2\": 100}],\n",
    "    \"water_storage\": [{\"id\": 1, \"h2o_potb\": 100, \"h2o_tret\": 100}, {\"id\": 2, \"h2o_wste\": 100, \"h2o_urin\": 100}],\n",
    "    \"nutrient_storage\": [{\"id\": 1, \"sold_n\": 100, \"sold_p\": 100, \"sold_k\": 100, \"sold_wast\": 0}],\n",
    "    \"power_storage\": [{\"id\": 1, \"enrg_kwh\": 1000, \"heat_cal\": 1000}],\n",
    "    \"food_storage\": [{\"id\": 1, \"food_edbl\": 200}]},\n",
    "\"termination\": {\n",
    "    \"time\": {\"value\": 5, \"unit\": \"hour\"}},\n",
    "    \"food_leaf\": {\"value\": 10000, \"unit\": \"kg\"},\n",
    "    \"evacuation\": {}\n",
    "}\n",
    "\n",
    "game_runner_manager = GameRunnerManager()\n",
    "game_runner_init_params = GameRunnerInitializationParams(game_config)\n",
    "game_runner_manager.new_game(user, game_runner_init_params)\n",
    "game_runner = game_runner_manager.get_game_runner(user)"
   ]
  },
  {
   "cell_type": "code",
   "execution_count": 9,
   "metadata": {},
   "outputs": [
    {
     "data": {
      "text/plain": [
       "{'total_currencies': {'atmo_o2': {'value': 100,\n",
       "   'capacity': 400,\n",
       "   'units': 'kg'},\n",
       "  'atmo_co2': {'value': 100, 'capacity': 200, 'units': 'kg'},\n",
       "  'atmo_n2': {'value': 0, 'capacity': 400, 'units': 'kg'},\n",
       "  'atmo_ch4': {'value': 0, 'capacity': 200, 'units': 'kg'},\n",
       "  'atmo_h2': {'value': 0, 'capacity': 100, 'units': 'kg'},\n",
       "  'atmo_h2o': {'value': 100, 'capacity': 200, 'units': 'kg'},\n",
       "  'h2o_treated': {'value': 0, 'capacity': 200, 'units': 'kg'},\n",
       "  'h2o_potb': {'value': 100, 'capacity': 800, 'units': 'kg'},\n",
       "  'h2o_urin': {'value': 100, 'capacity': 400, 'units': 'kg'},\n",
       "  'h2o_wste': {'value': 100, 'capacity': 500, 'units': 'kg'},\n",
       "  'h2o_tret': {'value': 100, 'capacity': 500, 'units': 'kg'},\n",
       "  'sold_n': {'value': 100, 'capacity': 100, 'units': 'kg'},\n",
       "  'sold_p': {'value': 100, 'capacity': 100, 'units': 'kg'},\n",
       "  'sold_k': {'value': 100, 'capacity': 100, 'units': 'kg'},\n",
       "  'sold_wast': {'value': 0, 'capacity': 100, 'units': 'kg'},\n",
       "  'enrg_kwh': {'value': 1000, 'capacity': 1000, 'units': 'kWh'},\n",
       "  'heat_cal': {'value': 1000, 'capacity': 1000, 'units': 'cal'},\n",
       "  'food_edbl': {'value': 200, 'capacity': 1000, 'units': 'kg'}},\n",
       " 'total_storages': {'air_storage': 1,\n",
       "  'water_storage': 2,\n",
       "  'nutrient_storage': 1,\n",
       "  'power_storage': 1,\n",
       "  'food_storage': 1}}"
      ]
     },
     "execution_count": 9,
     "metadata": {},
     "output_type": "execute_result"
    }
   ],
   "source": [
    "game_runner.agent_model.get_total_storages()"
   ]
  },
  {
   "cell_type": "code",
   "execution_count": 10,
   "metadata": {
    "scrolled": false
   },
   "outputs": [
    {
     "data": {
      "text/plain": [
       "{'total_production': {'atmo_co2': {'value': 0.128, 'units': 'kg'},\n",
       "  'atmo_h2o': {'value': 0.222, 'units': 'kg'},\n",
       "  'h2o_wste': {'value': 0.12524999999999997, 'units': 'kg'},\n",
       "  'sold_wast': {'value': 0.0675, 'units': 'kg'},\n",
       "  'h2o_urin': {'value': 0.125, 'units': 'kg'},\n",
       "  'heat_cal': {'value': 0.7, 'units': 'cal'},\n",
       "  'atmo_o2': {'value': 5.739060121999999, 'units': 'g'},\n",
       "  'food_edbl': {'value': 0.0, 'units': 'g'},\n",
       "  'enrg_kwh': {'value': 30.00000000000005, 'units': 'kWh'},\n",
       "  'h2o_potb': {'value': 4.75, 'units': 'kg'},\n",
       "  'h2o_tret': {'value': 1.36, 'units': 'kg'}},\n",
       " 'total_consumption': {'atmo_o2': {'value': 98.4, 'units': 'g'},\n",
       "  'h2o_potb': {'value': 0.8536237500000333, 'units': 'kg'},\n",
       "  'food_edbl': {'value': 199.5, 'units': 'g'},\n",
       "  'heat_cal': {'value': 0.0, 'units': 'cal'},\n",
       "  'atmo_co2': {'value': 0.007874524353000002, 'units': 'kg'},\n",
       "  'sold_n': {'value': 0.20487643800000005, 'units': 'g'},\n",
       "  'sold_p': {'value': 0.0053223559999999994, 'units': 'g'},\n",
       "  'sold_k': {'value': 0.04011095900000003, 'units': 'g'},\n",
       "  'enrg_kwh': {'value': 3.2673245576666674, 'units': 'kWh'},\n",
       "  'h2o_tret': {'value': 4.75, 'units': 'kg'},\n",
       "  'h2o_urin': {'value': 1.36, 'units': 'kg'}},\n",
       " 'total_agent_types': {'human_agent': 2,\n",
       "  'cabbage': 10,\n",
       "  'lettuce': 10,\n",
       "  'greenhouse_medium': 1,\n",
       "  'solar_pv_array': 100,\n",
       "  'multifiltration_purifier_post_treament': 1,\n",
       "  'urine_recycling_processor_VCD': 1}}"
      ]
     },
     "execution_count": 10,
     "metadata": {},
     "output_type": "execute_result"
    }
   ],
   "source": [
    "game_runner.agent_model.get_total_agents()"
   ]
  },
  {
   "cell_type": "markdown",
   "metadata": {},
   "source": [
    "# Run the simiulation"
   ]
  },
  {
   "cell_type": "code",
   "execution_count": 11,
   "metadata": {
    "scrolled": false
   },
   "outputs": [
    {
     "name": "stdout",
     "output_type": "stream",
     "text": [
      "{'agents': {'total_agent_types': {'cabbage': 10,\n",
      "                                  'greenhouse_medium': 1,\n",
      "                                  'human_agent': 2,\n",
      "                                  'lettuce': 10,\n",
      "                                  'multifiltration_purifier_post_treament': 1,\n",
      "                                  'solar_pv_array': 100,\n",
      "                                  'urine_recycling_processor_VCD': 1},\n",
      "            'total_consumption': {'atmo_co2': {'units': 'kg',\n",
      "                                               'value': 0.007874524353},\n",
      "                                  'atmo_o2': {'units': 'g', 'value': 98.4},\n",
      "                                  'enrg_kwh': {'units': 'kWh',\n",
      "                                               'value': 3.2673245576666674},\n",
      "                                  'food_edbl': {'units': 'g', 'value': 199.5},\n",
      "                                  'h2o_potb': {'units': 'kg',\n",
      "                                               'value': 0.8536237500000332},\n",
      "                                  'h2o_tret': {'units': 'kg', 'value': 4.75},\n",
      "                                  'h2o_urin': {'units': 'kg', 'value': 1.36},\n",
      "                                  'heat_cal': {'units': 'cal', 'value': 0.0},\n",
      "                                  'sold_k': {'units': 'g',\n",
      "                                             'value': 0.040110959000000015},\n",
      "                                  'sold_n': {'units': 'g',\n",
      "                                             'value': 0.20487643800000008},\n",
      "                                  'sold_p': {'units': 'g',\n",
      "                                             'value': 0.005322356}},\n",
      "            'total_production': {'atmo_co2': {'units': 'kg', 'value': 0.128},\n",
      "                                 'atmo_h2o': {'units': 'kg', 'value': 0.222},\n",
      "                                 'atmo_o2': {'units': 'g',\n",
      "                                             'value': 5.739060121999998},\n",
      "                                 'enrg_kwh': {'units': 'kWh',\n",
      "                                              'value': 30.00000000000005},\n",
      "                                 'food_edbl': {'units': 'g', 'value': 0.0},\n",
      "                                 'h2o_potb': {'units': 'kg', 'value': 4.75},\n",
      "                                 'h2o_tret': {'units': 'kg', 'value': 1.36},\n",
      "                                 'h2o_urin': {'units': 'kg', 'value': 0.125},\n",
      "                                 'h2o_wste': {'units': 'kg',\n",
      "                                              'value': 0.12524999999999997},\n",
      "                                 'heat_cal': {'units': 'cal', 'value': 0.7},\n",
      "                                 'sold_wast': {'units': 'kg',\n",
      "                                               'value': 0.0675}}},\n",
      " 'is_terminated': True,\n",
      " 'step': 5,\n",
      " 'storages': {'total_currencies': {'atmo_ch4': {'capacity': 200,\n",
      "                                                'units': 'kg',\n",
      "                                                'value': 0},\n",
      "                                   'atmo_co2': {'capacity': 200,\n",
      "                                                'units': 'kg',\n",
      "                                                'value': 100.60062737823472},\n",
      "                                   'atmo_h2': {'capacity': 100,\n",
      "                                               'units': 'kg',\n",
      "                                               'value': 0},\n",
      "                                   'atmo_h2o': {'capacity': 200,\n",
      "                                                'units': 'kg',\n",
      "                                                'value': 101.11000000000004},\n",
      "                                   'atmo_n2': {'capacity': 400,\n",
      "                                               'units': 'kg',\n",
      "                                               'value': 0},\n",
      "                                   'atmo_o2': {'capacity': 400,\n",
      "                                               'units': 'kg',\n",
      "                                               'value': 99.53669530061035},\n",
      "                                   'enrg_kwh': {'capacity': 1000,\n",
      "                                                'units': 'kWh',\n",
      "                                                'value': 999.9467350884665},\n",
      "                                   'food_edbl': {'capacity': 1000,\n",
      "                                                 'units': 'kg',\n",
      "                                                 'value': 199.0025},\n",
      "                                   'h2o_potb': {'capacity': 800,\n",
      "                                                'units': 'kg',\n",
      "                                                'value': 119.6949042500002},\n",
      "                                   'h2o_treated': {'capacity': 200,\n",
      "                                                   'units': 'kg',\n",
      "                                                   'value': 0},\n",
      "                                   'h2o_tret': {'capacity': 500,\n",
      "                                                'units': 'kg',\n",
      "                                                'value': 91.52500000000003},\n",
      "                                   'h2o_urin': {'capacity': 400,\n",
      "                                                'units': 'kg',\n",
      "                                                'value': 96.97499999999997},\n",
      "                                   'h2o_wste': {'capacity': 500,\n",
      "                                                'units': 'kg',\n",
      "                                                'value': 100.62624999999998},\n",
      "                                   'heat_cal': {'capacity': 1000,\n",
      "                                                'units': 'cal',\n",
      "                                                'value': 1000},\n",
      "                                   'sold_k': {'capacity': 100,\n",
      "                                              'units': 'kg',\n",
      "                                              'value': 99.99979944520518},\n",
      "                                   'sold_n': {'capacity': 100,\n",
      "                                              'units': 'kg',\n",
      "                                              'value': 99.99897561781026},\n",
      "                                   'sold_p': {'capacity': 100,\n",
      "                                              'units': 'kg',\n",
      "                                              'value': 99.99997338821984},\n",
      "                                   'sold_wast': {'capacity': 100,\n",
      "                                                 'units': 'kg',\n",
      "                                                 'value': 0.3375}},\n",
      "              'total_storages': {'air_storage': 1,\n",
      "                                 'food_storage': 1,\n",
      "                                 'nutrient_storage': 1,\n",
      "                                 'power_storage': 1,\n",
      "                                 'water_storage': 2}},\n",
      " 'termination_reason': 'time',\n",
      " 'time': 21600.0}\n"
     ]
    }
   ],
   "source": [
    "num_steps = 10\n",
    "for i in range(1, num_steps + 1):\n",
    "    agent_model_state = game_runner_manager.get_step(user, i)\n",
    "#     if i % 100 == 0:\n",
    "#         print(\"Step: {}\".format(i))\n",
    "#         pp.pprint(agent_model_state)\n",
    "pp.pprint(agent_model_state)"
   ]
  },
  {
   "cell_type": "code",
   "execution_count": 12,
   "metadata": {},
   "outputs": [],
   "source": [
    "game_runner_manager.save_all(allow_repeat_save=False)"
   ]
  },
  {
   "cell_type": "code",
   "execution_count": 13,
   "metadata": {},
   "outputs": [
    {
     "data": {
      "text/plain": [
       "{'total_currencies': {'food_edbl': {'value': 199.0025,\n",
       "   'capacity': 1000,\n",
       "   'units': 'kg'},\n",
       "  'h2o_treated': {'value': 0, 'capacity': 200, 'units': 'kg'},\n",
       "  'h2o_potb': {'value': 119.6949042500002, 'capacity': 800, 'units': 'kg'},\n",
       "  'h2o_urin': {'value': 96.97499999999997, 'capacity': 400, 'units': 'kg'},\n",
       "  'h2o_wste': {'value': 100.62624999999998, 'capacity': 500, 'units': 'kg'},\n",
       "  'h2o_tret': {'value': 91.52500000000003, 'capacity': 500, 'units': 'kg'},\n",
       "  'enrg_kwh': {'value': 999.9467350884665, 'capacity': 1000, 'units': 'kWh'},\n",
       "  'heat_cal': {'value': 1000, 'capacity': 1000, 'units': 'cal'},\n",
       "  'atmo_o2': {'value': 99.53669530061035, 'capacity': 400, 'units': 'kg'},\n",
       "  'atmo_co2': {'value': 100.60062737823472, 'capacity': 200, 'units': 'kg'},\n",
       "  'atmo_n2': {'value': 0, 'capacity': 400, 'units': 'kg'},\n",
       "  'atmo_ch4': {'value': 0, 'capacity': 200, 'units': 'kg'},\n",
       "  'atmo_h2': {'value': 0, 'capacity': 100, 'units': 'kg'},\n",
       "  'atmo_h2o': {'value': 101.11000000000004, 'capacity': 200, 'units': 'kg'},\n",
       "  'sold_n': {'value': 99.99897561781026, 'capacity': 100, 'units': 'kg'},\n",
       "  'sold_p': {'value': 99.99997338821984, 'capacity': 100, 'units': 'kg'},\n",
       "  'sold_k': {'value': 99.99979944520518, 'capacity': 100, 'units': 'kg'},\n",
       "  'sold_wast': {'value': 0.3375, 'capacity': 100, 'units': 'kg'}},\n",
       " 'total_storages': {'food_storage': 1,\n",
       "  'water_storage': 2,\n",
       "  'power_storage': 1,\n",
       "  'air_storage': 1,\n",
       "  'nutrient_storage': 1}}"
      ]
     },
     "execution_count": 13,
     "metadata": {},
     "output_type": "execute_result"
    }
   ],
   "source": [
    "game_runner.agent_model.get_total_storages()"
   ]
  },
  {
   "cell_type": "code",
   "execution_count": 14,
   "metadata": {},
   "outputs": [
    {
     "data": {
      "text/plain": [
       "{'total_production': {'h2o_tret': {'value': 1.36, 'units': 'kg'},\n",
       "  'heat_cal': {'value': 0.7, 'units': 'cal'},\n",
       "  'enrg_kwh': {'value': 30.00000000000005, 'units': 'kWh'},\n",
       "  'h2o_potb': {'value': 4.75, 'units': 'kg'},\n",
       "  'atmo_o2': {'value': 5.739060121999998, 'units': 'g'},\n",
       "  'food_edbl': {'value': 0.0, 'units': 'g'},\n",
       "  'atmo_co2': {'value': 0.128, 'units': 'kg'},\n",
       "  'atmo_h2o': {'value': 0.222, 'units': 'kg'},\n",
       "  'h2o_wste': {'value': 0.12524999999999997, 'units': 'kg'},\n",
       "  'sold_wast': {'value': 0.0675, 'units': 'kg'},\n",
       "  'h2o_urin': {'value': 0.125, 'units': 'kg'}},\n",
       " 'total_consumption': {'h2o_urin': {'value': 1.36, 'units': 'kg'},\n",
       "  'enrg_kwh': {'value': 3.2673245576666674, 'units': 'kWh'},\n",
       "  'h2o_tret': {'value': 4.75, 'units': 'kg'},\n",
       "  'atmo_co2': {'value': 0.007874524353, 'units': 'kg'},\n",
       "  'h2o_potb': {'value': 0.8536237500000332, 'units': 'kg'},\n",
       "  'sold_n': {'value': 0.20487643800000008, 'units': 'g'},\n",
       "  'sold_p': {'value': 0.005322356, 'units': 'g'},\n",
       "  'sold_k': {'value': 0.040110959000000015, 'units': 'g'},\n",
       "  'atmo_o2': {'value': 98.4, 'units': 'g'},\n",
       "  'food_edbl': {'value': 199.5, 'units': 'g'},\n",
       "  'heat_cal': {'value': 0.0, 'units': 'cal'}},\n",
       " 'total_agent_types': {'urine_recycling_processor_VCD': 1,\n",
       "  'solar_pv_array': 100,\n",
       "  'multifiltration_purifier_post_treament': 1,\n",
       "  'cabbage': 10,\n",
       "  'human_agent': 2,\n",
       "  'lettuce': 10,\n",
       "  'greenhouse_medium': 1}}"
      ]
     },
     "execution_count": 14,
     "metadata": {},
     "output_type": "execute_result"
    }
   ],
   "source": [
    "game_runner.agent_model.get_total_agents()"
   ]
  },
  {
   "cell_type": "code",
   "execution_count": 15,
   "metadata": {},
   "outputs": [
    {
     "data": {
      "text/plain": [
       "{'step': 5,\n",
       " 'is_terminated': True,\n",
       " 'time': 21600.0,\n",
       " 'agents': {'total_production': {'h2o_tret': {'value': 1.36, 'units': 'kg'},\n",
       "   'heat_cal': {'value': 0.7, 'units': 'cal'},\n",
       "   'enrg_kwh': {'value': 30.00000000000005, 'units': 'kWh'},\n",
       "   'h2o_potb': {'value': 4.75, 'units': 'kg'},\n",
       "   'atmo_o2': {'value': 5.739060121999998, 'units': 'g'},\n",
       "   'food_edbl': {'value': 0.0, 'units': 'g'},\n",
       "   'atmo_co2': {'value': 0.128, 'units': 'kg'},\n",
       "   'atmo_h2o': {'value': 0.222, 'units': 'kg'},\n",
       "   'h2o_wste': {'value': 0.12524999999999997, 'units': 'kg'},\n",
       "   'sold_wast': {'value': 0.0675, 'units': 'kg'},\n",
       "   'h2o_urin': {'value': 0.125, 'units': 'kg'}},\n",
       "  'total_consumption': {'h2o_urin': {'value': 1.36, 'units': 'kg'},\n",
       "   'enrg_kwh': {'value': 3.2673245576666674, 'units': 'kWh'},\n",
       "   'h2o_tret': {'value': 4.75, 'units': 'kg'},\n",
       "   'atmo_co2': {'value': 0.007874524353, 'units': 'kg'},\n",
       "   'h2o_potb': {'value': 0.8536237500000332, 'units': 'kg'},\n",
       "   'sold_n': {'value': 0.20487643800000008, 'units': 'g'},\n",
       "   'sold_p': {'value': 0.005322356, 'units': 'g'},\n",
       "   'sold_k': {'value': 0.040110959000000015, 'units': 'g'},\n",
       "   'atmo_o2': {'value': 98.4, 'units': 'g'},\n",
       "   'food_edbl': {'value': 199.5, 'units': 'g'},\n",
       "   'heat_cal': {'value': 0.0, 'units': 'cal'}},\n",
       "  'total_agent_types': {'urine_recycling_processor_VCD': 1,\n",
       "   'solar_pv_array': 100,\n",
       "   'multifiltration_purifier_post_treament': 1,\n",
       "   'cabbage': 10,\n",
       "   'human_agent': 2,\n",
       "   'lettuce': 10,\n",
       "   'greenhouse_medium': 1}},\n",
       " 'storages': {'total_currencies': {'food_edbl': {'value': 199.0025,\n",
       "    'capacity': 1000,\n",
       "    'units': 'kg'},\n",
       "   'h2o_treated': {'value': 0, 'capacity': 200, 'units': 'kg'},\n",
       "   'h2o_potb': {'value': 119.6949042500002, 'capacity': 800, 'units': 'kg'},\n",
       "   'h2o_urin': {'value': 96.97499999999997, 'capacity': 400, 'units': 'kg'},\n",
       "   'h2o_wste': {'value': 100.62624999999998, 'capacity': 500, 'units': 'kg'},\n",
       "   'h2o_tret': {'value': 91.52500000000003, 'capacity': 500, 'units': 'kg'},\n",
       "   'enrg_kwh': {'value': 999.9467350884665, 'capacity': 1000, 'units': 'kWh'},\n",
       "   'heat_cal': {'value': 1000, 'capacity': 1000, 'units': 'cal'},\n",
       "   'atmo_o2': {'value': 99.53669530061035, 'capacity': 400, 'units': 'kg'},\n",
       "   'atmo_co2': {'value': 100.60062737823472, 'capacity': 200, 'units': 'kg'},\n",
       "   'atmo_n2': {'value': 0, 'capacity': 400, 'units': 'kg'},\n",
       "   'atmo_ch4': {'value': 0, 'capacity': 200, 'units': 'kg'},\n",
       "   'atmo_h2': {'value': 0, 'capacity': 100, 'units': 'kg'},\n",
       "   'atmo_h2o': {'value': 101.11000000000004, 'capacity': 200, 'units': 'kg'},\n",
       "   'sold_n': {'value': 99.99897561781026, 'capacity': 100, 'units': 'kg'},\n",
       "   'sold_p': {'value': 99.99997338821984, 'capacity': 100, 'units': 'kg'},\n",
       "   'sold_k': {'value': 99.99979944520518, 'capacity': 100, 'units': 'kg'},\n",
       "   'sold_wast': {'value': 0.3375, 'capacity': 100, 'units': 'kg'}},\n",
       "  'total_storages': {'food_storage': 1,\n",
       "   'water_storage': 2,\n",
       "   'power_storage': 1,\n",
       "   'air_storage': 1,\n",
       "   'nutrient_storage': 1}},\n",
       " 'termination_reason': 'time'}"
      ]
     },
     "execution_count": 15,
     "metadata": {},
     "output_type": "execute_result"
    }
   ],
   "source": [
    "game_runner.agent_model.get_model_stats()"
   ]
  },
  {
   "cell_type": "code",
   "execution_count": null,
   "metadata": {},
   "outputs": [],
   "source": []
  }
 ],
 "metadata": {
  "kernelspec": {
   "display_name": "Python 3",
   "language": "python",
   "name": "python3"
  },
  "language_info": {
   "codemirror_mode": {
    "name": "ipython",
    "version": 3
   },
   "file_extension": ".py",
   "mimetype": "text/x-python",
   "name": "python",
   "nbconvert_exporter": "python",
   "pygments_lexer": "ipython3",
   "version": "3.6.4"
  }
 },
 "nbformat": 4,
 "nbformat_minor": 2
}
