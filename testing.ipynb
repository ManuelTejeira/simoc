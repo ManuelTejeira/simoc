{
 "cells": [
  {
   "cell_type": "markdown",
   "metadata": {},
   "source": [
    "# Install additional Python libraries"
   ]
  },
  {
   "cell_type": "code",
   "execution_count": 1,
   "metadata": {},
   "outputs": [],
   "source": [
    "# !pip install quantities"
   ]
  },
  {
   "cell_type": "markdown",
   "metadata": {},
   "source": [
    "# Delete existing DB"
   ]
  },
  {
   "cell_type": "code",
   "execution_count": 2,
   "metadata": {},
   "outputs": [],
   "source": [
    "!rm simoc_server/db.sqlite"
   ]
  },
  {
   "cell_type": "markdown",
   "metadata": {},
   "source": [
    "# Import Python libraries"
   ]
  },
  {
   "cell_type": "code",
   "execution_count": 3,
   "metadata": {},
   "outputs": [],
   "source": [
    "import json\n",
    "from random import randint"
   ]
  },
  {
   "cell_type": "code",
   "execution_count": 4,
   "metadata": {},
   "outputs": [],
   "source": [
    "import pprint\n",
    "pp = pprint.PrettyPrinter()"
   ]
  },
  {
   "cell_type": "code",
   "execution_count": 5,
   "metadata": {},
   "outputs": [
    {
     "name": "stdout",
     "output_type": "stream",
     "text": [
      "Unknown DB_TYPE variable: \"None\"\n",
      "Using SQLite by default\n"
     ]
    }
   ],
   "source": [
    "from simoc_server import app, db\n",
    "from simoc_server.database.db_model import User\n",
    "from simoc_server.database.seed_data import seed\n",
    "from simoc_server.game_runner import GameRunnerManager, GameRunnerInitializationParams\n",
    "from simoc_server.agent_model.agents.core import GeneralAgent, StorageAgent\n",
    "from simoc_server.database.db_model import AgentType"
   ]
  },
  {
   "cell_type": "code",
   "execution_count": 6,
   "metadata": {},
   "outputs": [],
   "source": [
    "from simoc_server.views import convert_configuration"
   ]
  },
  {
   "cell_type": "code",
   "execution_count": 7,
   "metadata": {},
   "outputs": [],
   "source": [
    "import matplotlib.pyplot as plt\n",
    "import numpy as np\n",
    "import pandas as pd\n",
    "from scipy.stats import norm\n",
    "from sklearn.preprocessing import MinMaxScaler"
   ]
  },
  {
   "cell_type": "code",
   "execution_count": 6,
   "metadata": {},
   "outputs": [],
   "source": [
    "from simoc_server.views import convert_configuration"
   ]
  },
  {
   "cell_type": "markdown",
   "metadata": {},
   "source": [
    "# Load Agent model"
   ]
  },
  {
   "cell_type": "code",
   "execution_count": 8,

   "metadata": {
    "scrolled": false
   },
   "outputs": [],
   "source": [
    "db.drop_all()\n",
    "db.create_all()\n",
    "seed.seed('agent_desc.json')"
   ]
  },
  {
   "cell_type": "markdown",
   "metadata": {},
   "source": [
    "# Create new user"
   ]
  },
  {
   "cell_type": "code",
   "execution_count": 9,

   "metadata": {},
   "outputs": [
    {
     "name": "stdout",
     "output_type": "stream",
     "text": [
      "Creating new user\n"
     ]
    }
   ],
   "source": [
    "username = 'user1'\n",
    "password = 'user1'\n",
    "\n",
    "user = User.query.filter_by(username=username).first()\n",
    "if not user:\n",
    "    print('Creating new user')\n",
    "    user = User(username=username)\n",
    "    user.set_password(password)\n",
    "    db.session.add(user)\n",
    "    db.session.commit()"
   ]
  },
  {
   "cell_type": "markdown",
   "metadata": {},
   "source": [
    "# Initialize the ABM"
   ]
  },
  {
   "cell_type": "code",
   "execution_count": 10,

   "metadata": {
    "scrolled": false
   },
   "outputs": [],
   "source": [
    "game_config = {\"agents\": {\n",
    "    \"human_agent\": [{\"connections\": {\"air_storage\": [1], \"water_storage\": [1, 2], \"food_storage\": [1]}, \"amount\": 10}],\n",
    "    \"cabbage\": [{\"connections\": {\"air_storage\": [1], \"water_storage\": [1, 2], \"nutrient_storage\": [1],\n",
    "                                 \"power_storage\": [1], \"food_storage\": [1]}, \"amount\": 10}],\n",
    "    \"lettuce\": [{\"connections\": {\"air_storage\": [1], \"water_storage\": [1, 2], \"nutrient_storage\": [1],\n",
    "                                 \"power_storage\": [1], \"food_storage\": [1]}, \"amount\": 10}],\n",
    "    \"greenhouse_medium\": [{\"connections\": {\"power_storage\": [1]}, \"amount\": 1}],\n",
    "    \"solar_pv_array\": [{\"connections\": {\"power_storage\": [1]}, \"amount\": 100}],\n",
    "    \"multifiltration_purifier_post_treament\": [{\"connections\": {\"water_storage\": [1, 2]}, \"amount\": 1}],\n",
    "    \"urine_recycling_processor_VCD\": [{\"connections\": {\"power_storage\": [1], \"water_storage\": [1, 2]}, \"amount\": 1}],\n",
    "    \"co2_removal_SAWD\": [{\"connections\": {\"power_storage\": [1], \"air_storage\": [1]}, \"amount\": 1}]},\n",
    "\"storages\": {\n",
    "    \"air_storage\": [{\"id\": 1, \"atmo_h2o\": 100, \"atmo_o2\": 100, \"atmo_co2\": 100}],\n",
    "    \"water_storage\": [{\"id\": 1, \"h2o_potb\": 100, \"h2o_tret\": 100}, {\"id\": 2, \"h2o_wste\": 100, \"h2o_urin\": 0}],\n",
    "    \"nutrient_storage\": [{\"id\": 1, \"sold_n\": 100, \"sold_p\": 100, \"sold_k\": 100}],\n",
    "    \"power_storage\": [{\"id\": 1, \"enrg_kwh\": 1000}],\n",
    "    \"food_storage\": [{\"id\": 1, \"food_edbl\": 1000}]},\n",
    "\"termination\": {\n",
    "    \"time\": {\"value\": 2000, \"unit\": \"hour\"}},\n",
    "    \"food_leaf\": {\"value\": 10000, \"unit\": \"kg\"},\n",
    "    \"evacuation\": {}\n",
    "}"
   ]
  },
  {
   "cell_type": "code",
   "execution_count": 11,
   "metadata": {
    "scrolled": true
   },

   "outputs": [
    {
     "name": "stdout",
     "output_type": "stream",
     "text": [
      "{'game_config': {'duration': {'type': 'day', 'value': 30},\n",
      "                 'food_storage': {'amount': 1000},\n",
      "                 'greenhouse': 'greenhouse_small',\n",
      "                 'habitat': 'crew_habitat_small',\n",
      "                 'human_agent': {'amount': 1},\n",
      "                 'logging': {'columns': ['agent_id',\n",
      "                                         'agent_type',\n",
      "                                         'value',\n",
      "                                         'unit'],\n",
      "                             'filters': [('currency', ['enrg_kwh']),\n",
      "                                         ('direction', ['in'])]},\n",
      "                 'plants': [{'amount': 10, 'species': 'rice'}],\n",
      "                 'power_storage': {'amount': 1},\n",
      "                 'priorities': ['inhabitants', 'eclss', 'plants', 'storage'],\n",
      "                 'solar_arrays': {'amount': 10}}}\n"
     ]
    }
   ],
   "source": [
    "# start_data = {\"game_config\": {\"priorities\": [\"inhabitants\", \"eclss\", \"plants\", \"storage\"], 'logging': {'columns': ['agent_id', 'agent_type', 'value', 'unit'], 'filters': [('currency', ['enrg_kwh']), ('direction', ['in'])]}, 'duration': {'value': 30, 'type': 'day'}, 'human_agent': {'amount': 4}, 'habitat': 'crew_habitat_small', 'greenhouse': 'greenhouse_small', 'food_storage': {'amount': 1000}, 'solar_arrays': {'amount': 60}, 'power_storage': {'amount': 1}, 'plants': [{'species': 'rice', 'amount': 100}, {'species': 'wheat', 'amount': 30}, {'species': 'cabbage', 'amount': 4}, {'species': 'rice', 'amount': 100}, {'species': 'wheat', 'amount': 30}, {'species': 'cabbage', 'amount': 3}]}}\n",
    "# start_data = {\"game_config\": {'logging': {}, 'duration': {'value': 30, 'type': 'day'}, 'human_agent': {'amount': 4}, 'habitat': 'crew_habitat_small', 'greenhouse': 'greenhouse_small', 'food_storage': {'amount': 1000}, 'solar_arrays': {'amount': 60}, 'power_storage': {'amount': 1}, 'plants': [{'species': 'rice', 'amount': 100}, {'species': 'wheat', 'amount': 30}, {'species': 'cabbage', 'amount': 4}, {'species': 'rice', 'amount': 100}, {'species': 'wheat', 'amount': 30}, {'species': 'cabbage', 'amount': 3}]}}\n",
    "# start_data = {\"game_config\": {'logging': {'columns': ['agent_id', 'agent_type', 'value', 'unit'], 'filters': [('currency', ['enrg_kwh']), ('direction', ['in'])]}, 'duration': {'value': 30, 'type': 'day'}, 'human_agent': {'amount': 4}, 'habitat': 'crew_habitat_small', 'greenhouse': 'greenhouse_small', 'food_storage': {'amount': 1000}, 'solar_arrays': {'amount': 60}, 'power_storage': {'amount': 1}, 'plants': [{'species': 'rice', 'amount': 100}, {'species': 'wheat', 'amount': 30}, {'species': 'cabbage', 'amount': 4}, {'species': 'rice', 'amount': 100}, {'species': 'wheat', 'amount': 30}, {'species': 'cabbage', 'amount': 3}]}}\n",
    "# start_data = {\"game_config\": {'duration': {'value': 30, 'type': 'day'}, 'human_agent': {'amount': 4}, 'habitat': 'crew_habitat_small', 'greenhouse': 'greenhouse_small', 'food_storage': {'amount': 1000}, 'solar_arrays': {'amount': 60}, 'power_storage': {'amount': 1}, 'plants': [{'species': 'rice', 'amount': 100}, {'species': 'wheat', 'amount': 30}, {'species': 'cabbage', 'amount': 4}, {'species': 'rice', 'amount': 100}, {'species': 'wheat', 'amount': 30}, {'species': 'cabbage', 'amount': 3}]}}\n",
    "start_data = {\"game_config\": {\"priorities\": [\"inhabitants\", \"eclss\", \"plants\", \"storage\"], 'logging': {'columns': ['agent_id', 'agent_type', 'value', 'unit'], 'filters': [('currency', ['enrg_kwh']), ('direction', ['in'])]}, 'duration': {'value': 30, 'type': 'day'}, 'human_agent': {'amount': 1}, 'habitat': 'crew_habitat_small', 'greenhouse': 'greenhouse_small', 'food_storage': {'amount': 1000}, 'solar_arrays': {'amount': 10}, 'power_storage': {'amount': 1}, 'plants': [{'species': 'rice', 'amount': 10}]}}\n",
    "pp.pprint(start_data)"
   ]
  },
  {
   "cell_type": "code",
   "execution_count": 12,
   "metadata": {
    "scrolled": true
   },
   "outputs": [
    {
     "name": "stdout",
     "output_type": "stream",
     "text": [
      "{'agents': {'co2_reduction_sabatier': [{'amount': 1,\n",
      "                                        'connections': {'air_storage': [1],\n",
      "                                                        'power_storage': [1],\n",
      "                                                        'water_storage': [1,\n",
      "                                                                          2]}}],\n",
      "            'co2_removal_SAWD': [{'amount': 1,\n",
      "                                  'connections': {'air_storage': [1],\n",
      "                                                  'power_storage': [1]}}],\n",
      "            'crew_habitat_small': [{'amount': 1,\n",
      "                                    'connections': {'power_storage': [1]}}],\n",
      "            'greenhouse_small': [{'amount': 1,\n",
      "                                  'connections': {'power_storage': [1]}}],\n",
      "            'human_agent': [{'amount': 1,\n",
      "                             'connections': {'air_storage': [1],\n",
      "                                             'food_storage': [1],\n",
      "                                             'water_storage': [1, 2]}}],\n",
      "            'multifiltration_purifier_post_treament': [{'amount': 1,\n",
      "                                                        'connections': {'power_storage': [1],\n",
      "                                                                        'water_storage': [1,\n",
      "                                                                                          2]}}],\n",
      "            'oxygen_generation_SFWE': [{'amount': 1,\n",
      "                                        'connections': {'air_storage': [1],\n",
      "                                                        'power_storage': [1],\n",
      "                                                        'water_storage': [1,\n",
      "                                                                          2]}}],\n",
      "            'rice': [{'amount': 10,\n",
      "                      'connections': {'air_storage': [1],\n",
      "                                      'food_storage': [1],\n",
      "                                      'nutrient_storage': [1],\n",
      "                                      'power_storage': [1],\n",
      "                                      'water_storage': [1, 2]}}],\n",
      "            'solar_pv_array_mars': [{'amount': 10,\n",
      "                                     'connections': {'power_storage': [1]}}],\n",
      "            'solid_waste_aerobic_bioreactor': [{'amount': 1,\n",
      "                                                'connections': {'air_storage': [1],\n",
      "                                                                'nutrient_storage': [1],\n",
      "                                                                'power_storage': [1],\n",
      "                                                                'water_storage': [1,\n",
      "                                                                                  2]}}],\n",
      "            'urine_recycling_processor_VCD': [{'amount': 1,\n",
      "                                               'connections': {'power_storage': [1],\n",
      "                                                               'water_storage': [1,\n",
      "                                                                                 2]}}]},\n",
      " 'logging': {'columns': ['agent_id', 'agent_type', 'value', 'unit'],\n",
      "             'filters': [('currency', ['enrg_kwh']), ('direction', ['in'])]},\n",
      " 'priorities': ['inhabitants', 'eclss', 'plants', 'storage'],\n",
      " 'storages': {'air_storage': [{'atmo_ch4': 0.009531,\n",
      "                               'atmo_co2': 3.5,\n",
      "                               'atmo_h2': 0.005295,\n",
      "                               'atmo_h2o': 10,\n",
      "                               'atmo_n2': 7886,\n",
      "                               'atmo_o2': 2100,\n",
      "                               'id': 1}],\n",
      "              'food_storage': [{'food_edbl': 1000, 'id': 1}],\n",
      "              'nutrient_storage': [{'id': 1,\n",
      "                                    'sold_k': 100,\n",
      "                                    'sold_n': 100,\n",
      "                                    'sold_p': 100}],\n",
      "              'power_storage': [{'enrg_kwh': 0, 'id': 1}],\n",
      "              'water_storage': [{'h2o_potb': 5000, 'h2o_tret': 1000, 'id': 1},\n",
      "                                {'h2o_potb': 4000,\n",
      "                                 'h2o_urin': 100,\n",
      "                                 'h2o_wste': 100,\n",
      "                                 'id': 2}]},\n",
      " 'termination': [{'condition': 'evacuation'},\n",
      "                 {'condition': 'time', 'unit': 'day', 'value': 30}]}\n"
     ]
    }
   ],
   "source": [
    "game_config = convert_configuration(start_data[\"game_config\"])\n",
    "pp.pprint(game_config)"
   ]
  },
  {
   "cell_type": "code",
   "execution_count": 13,

   "metadata": {
    "scrolled": false
   },
   "outputs": [],
   "source": [
    "game_runner_manager = GameRunnerManager()\n",
    "game_runner_init_params = GameRunnerInitializationParams(game_config)\n",
    "game_runner_manager.new_game(user, game_runner_init_params)\n",
    "game_runner = game_runner_manager.get_game_runner(user)"
   ]
  },
  {
   "cell_type": "markdown",
   "metadata": {},
   "source": [
    "# Run the simiulation"
   ]
  },
  {
   "cell_type": "code",
   "execution_count": 14,
   "metadata": {},
   "outputs": [],
   "source": [
    "def run_sim(game_runner_manager, user, num_steps):\n",
    "    for i in range(1, num_steps + 1):\n",
    "        agent_model_state = game_runner_manager.get_step(user, i)\n",
    "    pp.pprint(agent_model_state)"
   ]
  },
  {
   "cell_type": "code",
   "execution_count": 15,
   "metadata": {
    "scrolled": true
   },
   "outputs": [
    {
     "name": "stdout",
     "output_type": "stream",
     "text": [
      "{'agents': {'total_agent_types': {'co2_reduction_sabatier': 1,\n",
      "                                  'co2_removal_SAWD': 1,\n",
      "                                  'crew_habitat_small': 1,\n",
      "                                  'greenhouse_small': 1,\n",
      "                                  'human_agent': 1,\n",
      "                                  'multifiltration_purifier_post_treament': 1,\n",
      "                                  'oxygen_generation_SFWE': 1,\n",
      "                                  'rice': 10,\n",
      "                                  'solar_pv_array_mars': 10,\n",
      "                                  'solid_waste_aerobic_bioreactor': 1,\n",
      "                                  'urine_recycling_processor_VCD': 1},\n",
      "            'total_consumption': {'atmo_co2': {'units': 'kg',\n",
      "                                               'value': '0.0219'},\n",
      "                                  'atmo_h2': {'units': 'kg', 'value': '0.0016'},\n",
      "                                  'atmo_o2': {'units': 'kg', 'value': '0.0496'},\n",
      "                                  'enrg_kwh': {'units': 'kWh',\n",
      "                                               'value': '9.4529'},\n",
      "                                  'food_edbl': {'units': 'kg',\n",
      "                                                'value': '0.0998'},\n",
      "                                  'h2o_potb': {'units': 'kg',\n",
      "                                               'value': '0.8427'},\n",
      "                                  'h2o_tret': {'units': 'kg',\n",
      "                                               'value': '4.7500'},\n",
      "                                  'h2o_urin': {'units': 'kg',\n",
      "                                               'value': '1.3600'},\n",
      "                                  'h2o_wste': {'units': 'kg',\n",
      "                                               'value': '1.5000'},\n",
      "                                  'sold_k': {'units': 'kg', 'value': '0.0000'},\n",
      "                                  'sold_n': {'units': 'kg', 'value': '0.0000'},\n",
      "                                  'sold_p': {'units': 'kg', 'value': '0.0000'}},\n",
      "            'total_production': {'atmo_ch4': {'units': 'kg', 'value': '0.0033'},\n",
      "                                 'atmo_co2': {'units': 'kg', 'value': '0.0655'},\n",
      "                                 'atmo_h2': {'units': 'kg', 'value': '0.0454'},\n",
      "                                 'atmo_h2o': {'units': 'kg', 'value': '0.1110'},\n",
      "                                 'atmo_o2': {'units': 'kg', 'value': '0.3782'},\n",
      "                                 'enrg_kwh': {'units': 'kWh',\n",
      "                                              'value': '53.0000'},\n",
      "                                 'food_edbl': {'units': 'kg',\n",
      "                                               'value': '0.0000'},\n",
      "                                 'h2o_potb': {'units': 'kg', 'value': '4.7500'},\n",
      "                                 'h2o_tret': {'units': 'kg', 'value': '1.3600'},\n",
      "                                 'h2o_urin': {'units': 'kg', 'value': '1.5575'},\n",
      "                                 'h2o_wste': {'units': 'kg', 'value': '0.0717'},\n",
      "                                 'sold_k': {'units': 'kg', 'value': '0.0006'},\n",
      "                                 'sold_n': {'units': 'kg', 'value': '0.0022'},\n",
      "                                 'sold_p': {'units': 'kg', 'value': '0.0003'}}},\n",
      " 'hours_per_step': 1.0,\n",
      " 'is_terminated': False,\n",
      " 'model_stats': {'air_storage_1': {'atmo_ch4_ratio': 7.681721861745578e-06,\n",
      "                                   'atmo_co2_ratio': 0.0009380941244482807,\n",
      "                                   'atmo_h2_ratio': 0,\n",
      "                                   'atmo_h2o_ratio': 0.004406536662211473,\n",
      "                                   'atmo_n2_ratio': 0.7864114265909257,\n",
      "                                   'atmo_o2_ratio': 0.20823626090055275},\n",
      "                 'food_storage_1': {'food_edbl_ratio': 1.0},\n",
      "                 'nutrient_storage_1': {'sold_k_ratio': 0.33334408741297783,\n",
      "                                        'sold_n_ratio': 0.3333088017294801,\n",
      "                                        'sold_p_ratio': 0.3333471108575422,\n",
      "                                        'sold_wast_ratio': 0},\n",
      "                 'power_storage_1': {'enrg_kwh_ratio': 0},\n",
      "                 'water_storage_1': {'h2o_potb_ratio': 0.9350654138045124,\n",
      "                                     'h2o_totl_ratio': 0,\n",
      "                                     'h2o_tret_ratio': 0.06493458619548759,\n",
      "                                     'h2o_urin_ratio': 0,\n",
      "                                     'h2o_wste_ratio': 0},\n",
      "                 'water_storage_2': {'h2o_potb_ratio': 1.0,\n",
      "                                     'h2o_totl_ratio': 0,\n",
      "                                     'h2o_tret_ratio': 0,\n",
      "                                     'h2o_urin_ratio': 0,\n",
      "                                     'h2o_wste_ratio': 0}},\n",
      " 'step': 300,\n",
      " 'step_logs': [['GeneralAgent_069eb979', 'co2_removal_SAWD', 0.0, '1.0 kWh'],\n",
      "               ['GeneralAgent_4948f867', 'rice', 0.2300870147, '1.0 kWh'],\n",
      "               ['GeneralAgent_c1b4b3fa', 'rice', 0.2300870147, '1.0 kWh'],\n",
      "               ['GeneralAgent_9ecfb079', 'rice', 0.2300870147, '1.0 kWh'],\n",
      "               ['GeneralAgent_95ee7c47', 'rice', 0.2300870147, '1.0 kWh'],\n",
      "               ['GeneralAgent_851fd129', 'rice', 0.2300870147, '1.0 kWh'],\n",
      "               ['GeneralAgent_d082bcaf', 'rice', 0.2300870147, '1.0 kWh'],\n",
      "               ['GeneralAgent_4869b637', 'rice', 0.2300870147, '1.0 kWh'],\n",
      "               ['GeneralAgent_abeae158', 'rice', 0.2300870147, '1.0 kWh'],\n",
      "               ['GeneralAgent_d394e5dd', 'rice', 0.2300870147, '1.0 kWh'],\n",
      "               ['GeneralAgent_5f6ebe44', 'rice', 0.2300870147, '1.0 kWh']],\n",
      " 'storages': [{'agent_id': 1,\n",
      "               'agent_type': 'air_storage',\n",
      "               'currencies': [{'capacity': 10000,\n",
      "                               'name': 'atmo_o2',\n",
      "                               'units': 'kg',\n",
      "                               'value': '2088.4654'},\n",
      "                              {'capacity': 10000,\n",
      "                               'name': 'atmo_co2',\n",
      "                               'units': 'kg',\n",
      "                               'value': '9.8671'},\n",
      "                              {'capacity': 10000,\n",
      "                               'name': 'atmo_n2',\n",
      "                               'units': 'kg',\n",
      "                               'value': '7886.0000'},\n",
      "                              {'capacity': 10000,\n",
      "                               'name': 'atmo_ch4',\n",
      "                               'units': 'kg',\n",
      "                               'value': '0.0770'},\n",
      "                              {'capacity': 1000,\n",
      "                               'name': 'atmo_h2',\n",
      "                               'units': 'kg',\n",
      "                               'value': '0.0000'},\n",
      "                              {'capacity': 1000,\n",
      "                               'name': 'atmo_h2o',\n",
      "                               'units': 'kg',\n",
      "                               'value': '43.3000'}]},\n",
      "              {'agent_id': 1,\n",
      "               'agent_type': 'water_storage',\n",
      "               'currencies': [{'capacity': 4000,\n",
      "                               'name': 'h2o_totl',\n",
      "                               'units': 'kg',\n",
      "                               'value': '0.0000'},\n",
      "                              {'capacity': 4000,\n",
      "                               'name': 'h2o_potb',\n",
      "                               'units': 'kg',\n",
      "                               'value': '3869.8057'},\n",
      "                              {'capacity': 4000,\n",
      "                               'name': 'h2o_urin',\n",
      "                               'units': 'kg',\n",
      "                               'value': '0.0000'},\n",
      "                              {'capacity': 4000,\n",
      "                               'name': 'h2o_wste',\n",
      "                               'units': 'kg',\n",
      "                               'value': '0.0000'},\n",
      "                              {'capacity': 4000,\n",
      "                               'name': 'h2o_tret',\n",
      "                               'units': 'kg',\n",
      "                               'value': '287.5000'}]},\n",
      "              {'agent_id': 2,\n",
      "               'agent_type': 'water_storage',\n",
      "               'currencies': [{'capacity': 4000,\n",
      "                               'name': 'h2o_totl',\n",
      "                               'units': 'kg',\n",
      "                               'value': '0.0000'},\n",
      "                              {'capacity': 4000,\n",
      "                               'name': 'h2o_potb',\n",
      "                               'units': 'kg',\n",
      "                               'value': '3869.5937'},\n",
      "                              {'capacity': 4000,\n",
      "                               'name': 'h2o_urin',\n",
      "                               'units': 'kg',\n",
      "                               'value': '0.0000'},\n",
      "                              {'capacity': 4000,\n",
      "                               'name': 'h2o_wste',\n",
      "                               'units': 'kg',\n",
      "                               'value': '0.0000'},\n",
      "                              {'capacity': 4000,\n",
      "                               'name': 'h2o_tret',\n",
      "                               'units': 'kg',\n",
      "                               'value': '0.0000'}]},\n",
      "              {'agent_id': 1,\n",
      "               'agent_type': 'nutrient_storage',\n",
      "               'currencies': [{'capacity': 1000,\n",
      "                               'name': 'sold_n',\n",
      "                               'units': 'kg',\n",
      "                               'value': '99.9882'},\n",
      "                              {'capacity': 1000,\n",
      "                               'name': 'sold_p',\n",
      "                               'units': 'kg',\n",
      "                               'value': '99.9996'},\n",
      "                              {'capacity': 1000,\n",
      "                               'name': 'sold_k',\n",
      "                               'units': 'kg',\n",
      "                               'value': '99.9987'},\n",
      "                              {'capacity': 1000,\n",
      "                               'name': 'sold_wast',\n",
      "                               'units': 'kg',\n",
      "                               'value': '0.0000'}]},\n",
      "              {'agent_id': 1,\n",
      "               'agent_type': 'power_storage',\n",
      "               'currencies': [{'capacity': 10000,\n",
      "                               'name': 'enrg_kwh',\n",
      "                               'units': 'kWh',\n",
      "                               'value': '0.0000'}]},\n",
      "              {'agent_id': 1,\n",
      "               'agent_type': 'food_storage',\n",
      "               'currencies': [{'capacity': 10000,\n",
      "                               'name': 'food_edbl',\n",
      "                               'units': 'kg',\n",
      "                               'value': '970.0750'}]}],\n",
      " 'time': 1080000.0}\n",
      "CPU times: user 58.7 s, sys: 1.59 s, total: 1min\n",
      "Wall time: 1min 2s\n"
     ]
    }
   ],
   "source": [
    "%%time\n",
    "run_sim(game_runner_manager, user, 300)"
   ]
  },
  {
   "cell_type": "code",
   "execution_count": null,
   "metadata": {},
   "outputs": [],
   "source": []
  },
  {
   "cell_type": "code",
   "execution_count": null,
   "metadata": {},
   "outputs": [],
   "source": []
  },
  {
   "cell_type": "code",
   "execution_count": 16,
   "metadata": {},
   "outputs": [],
   "source": [
    "storages = game_runner.agent_model.get_agents_by_class(agent_class=StorageAgent)"
   ]
  },
  {
   "cell_type": "code",
   "execution_count": 17,
   "metadata": {},
   "outputs": [],
   "source": [
    "agent_class = AgentType.query.get(storages[0]._agent_type_id).agent_class"
   ]
  },
  {
   "cell_type": "code",
   "execution_count": null,
   "metadata": {},
   "outputs": [],
   "source": []
  },
  {
   "cell_type": "code",
   "execution_count": null,
   "metadata": {
    "scrolled": true
   },
   "outputs": [],
   "source": []
  },
  {
   "cell_type": "code",
   "execution_count": 18,
   "metadata": {},
   "outputs": [],
   "source": [
    "def get_logs(logs, filters=[], columns=None, dtype='list'):\n",
    "    df = pd.DataFrame(logs)\n",
    "    for col, val in filters:\n",
    "        df = df.loc[df[col].isin(val)].drop(col, axis=1)\n",
    "    if columns:\n",
    "        df = df.loc[:, columns]\n",
    "    if dtype == 'list':\n",
    "        return df.values.tolist()\n",
    "    elif dtype == 'dict':\n",
    "        return df.to_dict(orient='records')\n",
    "    elif dtype == 'df':\n",
    "        return df\n",
    "\n",
    "def get_step_logs(logs, step_num, filters=[], columns=None, dtype='list'):\n",
    "    return get_logs(logs, filters=filters+[('step_num', [step_num])], columns=columns, dtype=dtype)"
   ]
  },
  {
   "cell_type": "code",
   "execution_count": 19,
   "metadata": {},
   "outputs": [
    {
     "name": "stdout",
     "output_type": "stream",
     "text": [
      "34978\n"
     ]
    }
   ],
   "source": [
    "logs = game_runner.agent_model.logs\n",
    "print(len(logs))"
   ]
  },
  {
   "cell_type": "code",
   "execution_count": 20,
   "metadata": {
    "scrolled": true
   },
   "outputs": [],
   "source": [
    "step_num = 0\n",
    "\n",
    "# filters = [('currency', ['enrg_kwh']), ('direction', ['in'])]\n",
    "filters = []\n",
    "\n",
    "# cols = ['agent_id', 'unit']\n",
    "cols = []\n",
    "\n",
    "# df = get_step_logs(logs, step_num, filters, columns=cols, dtype='df')\n",
    "df = game_runner.agent_model.get_step_logs(step_num, filters, columns=cols, dtype='df')"
   ]
  },
  {
   "cell_type": "code",
   "execution_count": 21,
   "metadata": {},
   "outputs": [
    {
     "data": {
      "text/html": [
       "<div>\n",
       "<style scoped>\n",
       "    .dataframe tbody tr th:only-of-type {\n",
       "        vertical-align: middle;\n",
       "    }\n",
       "\n",
       "    .dataframe tbody tr th {\n",
       "        vertical-align: top;\n",
       "    }\n",
       "\n",
       "    .dataframe thead th {\n",
       "        text-align: right;\n",
       "    }\n",
       "</style>\n",
       "<table border=\"1\" class=\"dataframe\">\n",
       "  <thead>\n",
       "    <tr style=\"text-align: right;\">\n",
       "      <th></th>\n",
       "      <th>agent_id</th>\n",
       "      <th>agent_type</th>\n",
       "      <th>currency</th>\n",
       "      <th>direction</th>\n",
       "      <th>storage_id</th>\n",
       "      <th>storage_type</th>\n",
       "      <th>unit</th>\n",
       "      <th>value</th>\n",
       "    </tr>\n",
       "  </thead>\n",
       "  <tbody>\n",
       "    <tr>\n",
       "      <th>0</th>\n",
       "      <td>GeneralAgent_746eed5a</td>\n",
       "      <td>human_agent</td>\n",
       "      <td>atmo_o2</td>\n",
       "      <td>in</td>\n",
       "      <td>1</td>\n",
       "      <td>air_storage</td>\n",
       "      <td>1.0 kg</td>\n",
       "      <td>0.049200</td>\n",
       "    </tr>\n",
       "    <tr>\n",
       "      <th>1</th>\n",
       "      <td>GeneralAgent_746eed5a</td>\n",
       "      <td>human_agent</td>\n",
       "      <td>h2o_potb</td>\n",
       "      <td>in</td>\n",
       "      <td>1</td>\n",
       "      <td>water_storage</td>\n",
       "      <td>1.0 kg</td>\n",
       "      <td>0.212083</td>\n",
       "    </tr>\n",
       "    <tr>\n",
       "      <th>2</th>\n",
       "      <td>GeneralAgent_746eed5a</td>\n",
       "      <td>human_agent</td>\n",
       "      <td>h2o_potb</td>\n",
       "      <td>in</td>\n",
       "      <td>2</td>\n",
       "      <td>water_storage</td>\n",
       "      <td>1.0 kg</td>\n",
       "      <td>0.212083</td>\n",
       "    </tr>\n",
       "    <tr>\n",
       "      <th>3</th>\n",
       "      <td>GeneralAgent_746eed5a</td>\n",
       "      <td>human_agent</td>\n",
       "      <td>food_edbl</td>\n",
       "      <td>in</td>\n",
       "      <td>1</td>\n",
       "      <td>food_storage</td>\n",
       "      <td>1.0 kg</td>\n",
       "      <td>0.099750</td>\n",
       "    </tr>\n",
       "    <tr>\n",
       "      <th>4</th>\n",
       "      <td>GeneralAgent_746eed5a</td>\n",
       "      <td>human_agent</td>\n",
       "      <td>atmo_co2</td>\n",
       "      <td>out</td>\n",
       "      <td>1</td>\n",
       "      <td>air_storage</td>\n",
       "      <td>1.0 kg</td>\n",
       "      <td>0.064000</td>\n",
       "    </tr>\n",
       "  </tbody>\n",
       "</table>\n",
       "</div>"
      ],
      "text/plain": [
       "                agent_id   agent_type   currency direction  storage_id  \\\n",
       "0  GeneralAgent_746eed5a  human_agent    atmo_o2        in           1   \n",
       "1  GeneralAgent_746eed5a  human_agent   h2o_potb        in           1   \n",
       "2  GeneralAgent_746eed5a  human_agent   h2o_potb        in           2   \n",
       "3  GeneralAgent_746eed5a  human_agent  food_edbl        in           1   \n",
       "4  GeneralAgent_746eed5a  human_agent   atmo_co2       out           1   \n",
       "\n",
       "    storage_type    unit     value  \n",
       "0    air_storage  1.0 kg  0.049200  \n",
       "1  water_storage  1.0 kg  0.212083  \n",
       "2  water_storage  1.0 kg  0.212083  \n",
       "3   food_storage  1.0 kg  0.099750  \n",
       "4    air_storage  1.0 kg  0.064000  "
      ]
     },
     "execution_count": 21,
     "metadata": {},
     "output_type": "execute_result"
    }
   ],
   "source": [
    "df.head()"
   ]
  },
  {
   "cell_type": "code",
   "execution_count": 22,
   "metadata": {},
   "outputs": [
    {
     "data": {
      "text/plain": [
       "Index(['agent_id', 'agent_type', 'currency', 'direction', 'storage_id',\n",
       "       'storage_type', 'unit', 'value'],\n",
       "      dtype='object')"
      ]
     },
     "execution_count": 22,
     "metadata": {},
     "output_type": "execute_result"
    }
   ],
   "source": [
    "df.columns"
   ]
  },
  {
   "cell_type": "code",
   "execution_count": 23,
   "metadata": {},
   "outputs": [
    {
     "data": {
      "text/plain": [
       "rice                                      90\n",
       "human_agent                               10\n",
       "co2_reduction_sabatier                     6\n",
       "solid_waste_aerobic_bioreactor             3\n",
       "oxygen_generation_SFWE                     2\n",
       "multifiltration_purifier_post_treament     2\n",
       "co2_removal_SAWD                           2\n",
       "urine_recycling_processor_VCD              2\n",
       "Name: agent_type, dtype: int64"
      ]
     },
     "execution_count": 23,
     "metadata": {},
     "output_type": "execute_result"
    }
   ],
   "source": [
    "df.agent_type.value_counts()"
   ]
  },
  {
   "cell_type": "code",
   "execution_count": null,
   "metadata": {},
   "outputs": [],
   "source": []
  },
  {
   "cell_type": "code",
   "execution_count": 24,
   "metadata": {
    "scrolled": true
   },
   "outputs": [],
   "source": [
    "# filters = [('currency', ['enrg_kwh']), ('direction', ['in'])]\n",
    "filters = []\n",
    "\n",
    "# cols = ['agent_id', 'unit']\n",
    "cols = []\n",
    "\n",
    "# df = get_logs(logs, filters=filters, columns=cols, dtype='df')\n",
    "df = game_runner.agent_model.get_logs(filters=filters, columns=cols, dtype='df')"
   ]
  },
  {
   "cell_type": "code",
   "execution_count": 25,
   "metadata": {},
   "outputs": [
    {
     "data": {
      "text/html": [
       "<div>\n",
       "<style scoped>\n",
       "    .dataframe tbody tr th:only-of-type {\n",
       "        vertical-align: middle;\n",
       "    }\n",
       "\n",
       "    .dataframe tbody tr th {\n",
       "        vertical-align: top;\n",
       "    }\n",
       "\n",
       "    .dataframe thead th {\n",
       "        text-align: right;\n",
       "    }\n",
       "</style>\n",
       "<table border=\"1\" class=\"dataframe\">\n",
       "  <thead>\n",
       "    <tr style=\"text-align: right;\">\n",
       "      <th></th>\n",
       "      <th>agent_id</th>\n",
       "      <th>agent_type</th>\n",
       "      <th>currency</th>\n",
       "      <th>direction</th>\n",
       "      <th>step_num</th>\n",
       "      <th>storage_id</th>\n",
       "      <th>storage_type</th>\n",
       "      <th>unit</th>\n",
       "      <th>value</th>\n",
       "    </tr>\n",
       "  </thead>\n",
       "  <tbody>\n",
       "    <tr>\n",
       "      <th>0</th>\n",
       "      <td>GeneralAgent_746eed5a</td>\n",
       "      <td>human_agent</td>\n",
       "      <td>atmo_o2</td>\n",
       "      <td>in</td>\n",
       "      <td>0</td>\n",
       "      <td>1</td>\n",
       "      <td>air_storage</td>\n",
       "      <td>1.0 kg</td>\n",
       "      <td>0.049200</td>\n",
       "    </tr>\n",
       "    <tr>\n",
       "      <th>1</th>\n",
       "      <td>GeneralAgent_746eed5a</td>\n",
       "      <td>human_agent</td>\n",
       "      <td>h2o_potb</td>\n",
       "      <td>in</td>\n",
       "      <td>0</td>\n",
       "      <td>1</td>\n",
       "      <td>water_storage</td>\n",
       "      <td>1.0 kg</td>\n",
       "      <td>0.212083</td>\n",
       "    </tr>\n",
       "    <tr>\n",
       "      <th>2</th>\n",
       "      <td>GeneralAgent_746eed5a</td>\n",
       "      <td>human_agent</td>\n",
       "      <td>h2o_potb</td>\n",
       "      <td>in</td>\n",
       "      <td>0</td>\n",
       "      <td>2</td>\n",
       "      <td>water_storage</td>\n",
       "      <td>1.0 kg</td>\n",
       "      <td>0.212083</td>\n",
       "    </tr>\n",
       "    <tr>\n",
       "      <th>3</th>\n",
       "      <td>GeneralAgent_746eed5a</td>\n",
       "      <td>human_agent</td>\n",
       "      <td>food_edbl</td>\n",
       "      <td>in</td>\n",
       "      <td>0</td>\n",
       "      <td>1</td>\n",
       "      <td>food_storage</td>\n",
       "      <td>1.0 kg</td>\n",
       "      <td>0.099750</td>\n",
       "    </tr>\n",
       "    <tr>\n",
       "      <th>4</th>\n",
       "      <td>GeneralAgent_746eed5a</td>\n",
       "      <td>human_agent</td>\n",
       "      <td>atmo_co2</td>\n",
       "      <td>out</td>\n",
       "      <td>0</td>\n",
       "      <td>1</td>\n",
       "      <td>air_storage</td>\n",
       "      <td>1.0 kg</td>\n",
       "      <td>0.064000</td>\n",
       "    </tr>\n",
       "  </tbody>\n",
       "</table>\n",
       "</div>"
      ],
      "text/plain": [
       "                agent_id   agent_type   currency direction  step_num  \\\n",
       "0  GeneralAgent_746eed5a  human_agent    atmo_o2        in         0   \n",
       "1  GeneralAgent_746eed5a  human_agent   h2o_potb        in         0   \n",
       "2  GeneralAgent_746eed5a  human_agent   h2o_potb        in         0   \n",
       "3  GeneralAgent_746eed5a  human_agent  food_edbl        in         0   \n",
       "4  GeneralAgent_746eed5a  human_agent   atmo_co2       out         0   \n",
       "\n",
       "   storage_id   storage_type    unit     value  \n",
       "0           1    air_storage  1.0 kg  0.049200  \n",
       "1           1  water_storage  1.0 kg  0.212083  \n",
       "2           2  water_storage  1.0 kg  0.212083  \n",
       "3           1   food_storage  1.0 kg  0.099750  \n",
       "4           1    air_storage  1.0 kg  0.064000  "
      ]
     },
     "execution_count": 25,
     "metadata": {},
     "output_type": "execute_result"
    }
   ],
   "source": [
    "df.head()"
   ]
  },
  {
   "cell_type": "code",
   "execution_count": 26,
   "metadata": {},
   "outputs": [],
   "source": [
    "# game_runner.agent_model.get_logs(filters=filters, columns=cols, dtype='list')[:5]"
   ]
  },
  {
   "cell_type": "code",
   "execution_count": null,
   "metadata": {},
   "outputs": [],
   "source": []
  },
  {
   "cell_type": "code",
   "execution_count": null,
   "metadata": {},
   "outputs": [],
   "source": []
  },
  {
   "cell_type": "code",
   "execution_count": 59,
   "metadata": {},
   "outputs": [],
   "source": [
    "col = ['step_num', 'value']\n",
    "agent_type = 'rice'\n",
    "currency = 'sold_k'\n",
    "agent_id = 'GeneralAgent_ab0ebd5d'\n",
    "direction = 'in'\n",
    "storage = 1\n",
    "\n",
    "# df1 = df.loc[(df.storage_id == storage) & (df.direction == direction) & (df.agent_id == agent_id) & (df.agent_type == agent_type) & (df.currency == currency), col]\n",
    "df1 = df.loc[(df.direction == direction) & (df.agent_type == agent_type) & (df.currency == currency), ]"
   ]
  },
  {
   "cell_type": "code",
   "execution_count": 60,
   "metadata": {
    "scrolled": true
   },
   "outputs": [
    {
     "data": {
      "text/plain": [
       "32    2.514760e-08\n",
       "41    2.514760e-08\n",
       "50    2.514760e-08\n",
       "59    2.514760e-08\n",
       "68    2.514760e-08\n",
       "Name: value, dtype: float64"
      ]
     },
     "execution_count": 60,
     "metadata": {},
     "output_type": "execute_result"
    }
   ],
   "source": [
    "# res = df1\n",
    "res = df1.loc[:, 'value']\n",
    "res.head()"
   ]
  },
  {
   "cell_type": "code",
   "execution_count": 61,
   "metadata": {},
   "outputs": [
    {
     "data": {
      "text/plain": [
       "(3090,)"
      ]
     },
     "execution_count": 61,
     "metadata": {},
     "output_type": "execute_result"
    }
   ],
   "source": [
    "res.shape"
   ]
  },
  {
   "cell_type": "code",
   "execution_count": 62,
   "metadata": {},
   "outputs": [
    {
     "data": {
      "text/plain": [
       "[<matplotlib.lines.Line2D at 0x125d7f4e0>]"
      ]
     },
     "execution_count": 62,
     "metadata": {},
     "output_type": "execute_result"
    },
    {
     "data": {
      "image/png": "[encoded data removed]",
      "text/plain": [
       "<Figure size 1080x432 with 1 Axes>"
      ]
     },
     "metadata": {},
     "output_type": "display_data"
    }
   ],
   "source": [
    "plt.figure(figsize=(15, 6))\n",
    "# plt.plot(res.head(1000), color='orange')\n",
    "plt.plot(res, color='orange')"
   ]
  },
  {
   "cell_type": "code",
   "execution_count": null,
   "metadata": {},
   "outputs": [],
   "source": []
  },
  {
   "cell_type": "code",
   "execution_count": null,
   "metadata": {},
   "outputs": [],
   "source": []
  },
  {
   "cell_type": "code",
   "execution_count": 31,
   "metadata": {},
   "outputs": [],
   "source": [
    "# import cProfile\n",
    "# cProfile.run('run_sim(game_runner_manager, user, 10)', filename='simoc.cprof' )"
   ]
  },
  {
   "cell_type": "code",
   "execution_count": 32,
   "metadata": {},
   "outputs": [],
   "source": [
    "# from profiling.tracing import TracingProfiler\n",
    "# profiler = TracingProfiler()\n",
    "# profiler.start()\n",
    "# run_sim(game_runner_manager, user, 10)\n",
    "# profiler.stop()"
   ]
  },
  {
   "cell_type": "code",
   "execution_count": 33,
   "metadata": {},
   "outputs": [],
   "source": [
    "# profiler.run_viewer()"
   ]
  },
  {
   "cell_type": "code",
   "execution_count": 34,
   "metadata": {},
   "outputs": [],
   "source": [
    "# profiler.dump('simoc.profiler')"
   ]
  },
  {
   "cell_type": "code",
   "execution_count": null,
   "metadata": {},
   "outputs": [],
   "source": []
  },
  {
   "cell_type": "code",
   "execution_count": null,
   "metadata": {},
   "outputs": [],
   "source": []
  },
  {
   "cell_type": "code",
   "execution_count": 35,
   "metadata": {},
   "outputs": [],
   "source": [
    "# game_runner_manager.save_all(allow_repeat_save=False)"
   ]
  },
  {
   "cell_type": "code",
   "execution_count": 36,
   "metadata": {},
   "outputs": [],
   "source": [
    "# game_runner.agent_model.get_total_storages()"
   ]
  },
  {
   "cell_type": "code",
   "execution_count": 37,
   "metadata": {},
   "outputs": [],
   "source": [
    "# game_runner.agent_model.get_total_agents()"
   ]
  },
  {
   "cell_type": "code",
   "execution_count": 38,
   "metadata": {
    "scrolled": false
   },
   "outputs": [],
   "source": [
    "# game_runner.agent_model.get_model_stats()"
   ]
  },
  {
   "cell_type": "code",
   "execution_count": null,
   "metadata": {},
   "outputs": [],
   "source": []
  },
  {
   "cell_type": "code",
   "execution_count": null,
   "metadata": {},
   "outputs": [],
   "source": []
  },
  {
   "cell_type": "code",
   "execution_count": 39,
   "metadata": {},
   "outputs": [],
   "source": [
    "def get_sigmoid_step(step_num, max_value, num_values, min_value=0, center=None, steepness=None):\n",
    "    center = center if center else int(num_values / 2)\n",
    "    steepness = steepness if steepness else 10. / float(num_values)\n",
    "    y = ((max_value - min_value) / (1. + np.exp(-steepness * (step_num - center)))) + min_value\n",
    "    return float(y)\n",
    "\n",
    "def get_log_step(step_num, max_value, num_values, min_value=0, zero_value=1e-2):\n",
    "    zero_value = zero_value if zero_value < max_value else max_value * zero_value\n",
    "    y = np.geomspace(zero_value, max_value - min_value, num_values) + min_value\n",
    "    return float(y[step_num])\n",
    "\n",
    "def get_linear_step(step_num, max_value, num_values, min_value=0):\n",
    "    y = np.linspace(min_value, max_value, num_values)\n",
    "    return float(y[step_num])\n",
    "\n",
    "def get_norm_step(step_num, max_value, num_values, min_value=0, center=None, width=None):\n",
    "    center = center if center else int(num_values / 2)\n",
    "    width = width if width else int(num_values / 5)\n",
    "    y = norm.pdf(np.arange(num_values), center, width)\n",
    "    y = MinMaxScaler((min_value, max_value)).fit_transform(y.reshape(-1, 1))\n",
    "    return float(y[step_num])"
   ]
  },
  {
   "cell_type": "code",
   "execution_count": 40,
   "metadata": {},
   "outputs": [
    {
     "data": {
      "text/plain": [
       "[<matplotlib.lines.Line2D at 0x124be06d8>]"
      ]
     },
     "execution_count": 40,
     "metadata": {},
     "output_type": "execute_result"
    },
    {
     "data": {
      "image/png": "[encoded data removed]",
      "text/plain": [
       "<Figure size 432x288 with 1 Axes>"
      ]
     },
     "metadata": {},
     "output_type": "display_data"
    }
   ],
   "source": [
    "min_value, max_value, num_values = 0, 6, 20\n",
    "\n",
    "y = []\n",
    "for i in range(num_values):\n",
    "#     y.append(get_linear_step(i, max_value, num_values, min_value))\n",
    "    y.append(get_linear_step(i, max_value, num_values))\n",
    "\n",
    "plt.plot(y, lw=2, color='orange')"
   ]
  },
  {
   "cell_type": "code",
   "execution_count": 41,
   "metadata": {},
   "outputs": [
    {
     "data": {
      "text/plain": [
       "[<matplotlib.lines.Line2D at 0x11c80ec50>]"
      ]
     },
     "execution_count": 41,
     "metadata": {},
     "output_type": "execute_result"
    },
    {
     "data": {
      "image/png": "[encoded data removed]",
      "text/plain": [
       "<Figure size 432x288 with 1 Axes>"
      ]
     },
     "metadata": {},
     "output_type": "display_data"
    }
   ],
   "source": [
    "min_value, max_value, num_values = 0, 6, 20\n",
    "center, steepness = None, 0.5\n",
    "\n",
    "y = []\n",
    "for i in range(num_values):\n",
    "#     y.append(get_sigmoid_step(i, max_value, num_values, min_value, center, steepness))\n",
    "    y.append(get_sigmoid_step(i, max_value, num_values))\n",
    "\n",
    "plt.plot(y, lw=2, color='orange')"
   ]
  },
  {
   "cell_type": "code",
   "execution_count": 42,
   "metadata": {},
   "outputs": [
    {
     "data": {
      "text/plain": [
       "[<matplotlib.lines.Line2D at 0x124e76780>]"
      ]
     },
     "execution_count": 42,
     "metadata": {},
     "output_type": "execute_result"
    },
    {
     "data": {
      "image/png": "[encoded data removed]",
      "text/plain": [
       "<Figure size 432x288 with 1 Axes>"
      ]
     },
     "metadata": {},
     "output_type": "display_data"
    }
   ],
   "source": [
    "min_value, max_value, num_values = 0, 6, 20\n",
    "\n",
    "y = []\n",
    "for i in range(num_values):\n",
    "#     y.append(get_log_step(i, max_value, num_values, min_value))\n",
    "    y.append(get_log_step(i, max_value, num_values))\n",
    "\n",
    "plt.plot(y, lw=2, color='orange')"
   ]
  },
  {
   "cell_type": "code",
   "execution_count": 43,
   "metadata": {},
   "outputs": [
    {
     "ename": "NameError",
     "evalue": "name 'get_bell_step' is not defined",
     "output_type": "error",
     "traceback": [
      "\u001b[0;31m---------------------------------------------------------------------------\u001b[0m",
      "\u001b[0;31mNameError\u001b[0m                                 Traceback (most recent call last)",
      "\u001b[0;32m<ipython-input-43-3a32f30212e2>\u001b[0m in \u001b[0;36m<module>\u001b[0;34m\u001b[0m\n\u001b[1;32m      4\u001b[0m \u001b[0;32mfor\u001b[0m \u001b[0mi\u001b[0m \u001b[0;32min\u001b[0m \u001b[0mrange\u001b[0m\u001b[0;34m(\u001b[0m\u001b[0mnum_values\u001b[0m\u001b[0;34m)\u001b[0m\u001b[0;34m:\u001b[0m\u001b[0;34m\u001b[0m\u001b[0m\n\u001b[1;32m      5\u001b[0m \u001b[0;31m#     y.append(get_bell_step(i, max_value, num_values, min_value))\u001b[0m\u001b[0;34m\u001b[0m\u001b[0;34m\u001b[0m\u001b[0m\n\u001b[0;32m----> 6\u001b[0;31m     \u001b[0my\u001b[0m\u001b[0;34m.\u001b[0m\u001b[0mappend\u001b[0m\u001b[0;34m(\u001b[0m\u001b[0mget_bell_step\u001b[0m\u001b[0;34m(\u001b[0m\u001b[0mi\u001b[0m\u001b[0;34m,\u001b[0m \u001b[0mmax_value\u001b[0m\u001b[0;34m,\u001b[0m \u001b[0mnum_values\u001b[0m\u001b[0;34m)\u001b[0m\u001b[0;34m)\u001b[0m\u001b[0;34m\u001b[0m\u001b[0m\n\u001b[0m\u001b[1;32m      7\u001b[0m \u001b[0;34m\u001b[0m\u001b[0m\n\u001b[1;32m      8\u001b[0m \u001b[0mplt\u001b[0m\u001b[0;34m.\u001b[0m\u001b[0mplot\u001b[0m\u001b[0;34m(\u001b[0m\u001b[0my\u001b[0m\u001b[0;34m,\u001b[0m \u001b[0mlw\u001b[0m\u001b[0;34m=\u001b[0m\u001b[0;36m2\u001b[0m\u001b[0;34m,\u001b[0m \u001b[0mcolor\u001b[0m\u001b[0;34m=\u001b[0m\u001b[0;34m'orange'\u001b[0m\u001b[0;34m)\u001b[0m\u001b[0;34m\u001b[0m\u001b[0m\n",
      "\u001b[0;31mNameError\u001b[0m: name 'get_bell_step' is not defined"
     ]
    }
   ],
   "source": [
    "min_value, max_value, num_values = 0, 6, 24 * 60\n",
    "\n",
    "y = []\n",
    "for i in range(num_values):\n",
    "#     y.append(get_bell_step(i, max_value, num_values, min_value))\n",
    "    y.append(get_bell_step(i, max_value, num_values))\n",
    "\n",
    "plt.plot(y, lw=2, color='orange')"
   ]
  },
  {
   "cell_type": "code",
   "execution_count": null,
   "metadata": {},
   "outputs": [],
   "source": []
  },
  {
   "cell_type": "code",
   "execution_count": null,
   "metadata": {},
   "outputs": [],
   "source": []
  }
 ],
 "metadata": {
  "kernelspec": {
   "display_name": "Python 3",
   "language": "python",
   "name": "python3"
  },
  "language_info": {
   "codemirror_mode": {
    "name": "ipython",
    "version": 3
   },
   "file_extension": ".py",
   "mimetype": "text/x-python",
   "name": "python",
   "nbconvert_exporter": "python",
   "pygments_lexer": "ipython3",
   "version": "3.6.4"
  }
 },
 "nbformat": 4,
 "nbformat_minor": 2
}
