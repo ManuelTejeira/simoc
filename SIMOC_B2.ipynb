{
 "cells": [
  {
   "cell_type": "markdown",
   "id": "4dc5de9b",
   "metadata": {},
   "source": [
    "## SIMOC B2 Planning\n",
    "\n",
    "This file contains the working versions of the data_files to be used in SIMOC-B2, and a basic test of functionality.\n",
    "\n",
    "Data files include:\n",
    "* Parameters for agents and currencies (mirroring the current): `agent_desc`, `agent_conn`, `currency_desc`, `agent_events`, and `agent_variation`\n",
    "* Preset game configurations (new): `mission_1a`, `mission_1b`, `mission_2`"
   ]
  },
  {
   "cell_type": "code",
   "execution_count": 13,
   "id": "379b674c",
   "metadata": {},
   "outputs": [
    {
     "name": "stdout",
     "output_type": "stream",
     "text": [
      "current_agents=['human_agent', 'rice', 'wheat', 'sweet_potato', 'soybean', 'peanut', 'dry_bean']\n",
      "missing_agents=['predators', 'b2_co2_removal', 'b2_o2_resupply', 'sorghum', 'vegetables', 'corn', 'orchard', 'b2_greenhouse', 'b2_crew_quarters', 'b2_biomes']\n"
     ]
    }
   ],
   "source": [
    "import json\n",
    "\n",
    "\"\"\"\n",
    "agent_desc\n",
    "==========\n",
    "Complete agent list for the first release of SIMOC-B2. \n",
    "\n",
    "Some of these we already have agents defined for, \n",
    "but whether or not we can reuse/modify the current is TBD.\n",
    "\"\"\"\n",
    "b2_agent_desc = {\n",
    "    'inhabitants': {\n",
    "        'human_agent': {},\n",
    "        'predators': {},\n",
    "    },\n",
    "    'eclss': {\n",
    "        'b2_co2_removal': {},\n",
    "        'b2_o2_resupply': {},\n",
    "    },\n",
    "    'plants': {        \n",
    "        'rice': {},\n",
    "        'wheat': {},\n",
    "        'sorghum': {},\n",
    "        'sweet_potato': {},\n",
    "        'vegetables': {},\n",
    "        'soybean': {},\n",
    "        'peanut': {},\n",
    "        'corn': {},\n",
    "        'dry_bean': {},\n",
    "        'orchard': {},\n",
    "    },\n",
    "    'structures': {\n",
    "        'b2_greenhouse': {},\n",
    "        'b2_crew_quarters': {},\n",
    "        'b2_biomes': {},\n",
    "    },\n",
    "}\n",
    "\n",
    "# Print the agents we currently have, and those that are missing\n",
    "current_agents = []\n",
    "missing_agents = []\n",
    "with open('data_files/agent_desc.json') as f:\n",
    "    agent_desc = json.load(f)\n",
    "    for category, agents in b2_agent_desc.items():\n",
    "        if category not in agent_desc.keys():\n",
    "            missing_agents += list(agents.keys())\n",
    "        for agent, _ in agents.items():\n",
    "            if agent not in agent_desc[category].keys():\n",
    "                missing_agents.append(agent)\n",
    "            else:\n",
    "                current_agents.append(agent)\n",
    "print(f'{current_agents=}')\n",
    "print(f'{missing_agents=}')"
   ]
  }
 ],
 "metadata": {
  "kernelspec": {
   "display_name": "Python 3 (ipykernel)",
   "language": "python",
   "name": "python3"
  },
  "language_info": {
   "codemirror_mode": {
    "name": "ipython",
    "version": 3
   },
   "file_extension": ".py",
   "mimetype": "text/x-python",
   "name": "python",
   "nbconvert_exporter": "python",
   "pygments_lexer": "ipython3",
   "version": "3.9.10"
  }
 },
 "nbformat": 4,
 "nbformat_minor": 5
}
