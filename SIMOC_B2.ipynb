{
 "cells": [
  {
   "cell_type": "markdown",
   "id": "4dc5de9b",
   "metadata": {},
   "source": [
    "### SIMOC B2 Planning\n",
    "\n",
    "This file contains the working versions of the data_files to be used in SIMOC-B2, and a basic test of functionality."
   ]
  },
  {
   "cell_type": "markdown",
   "id": "1bec825b",
   "metadata": {},
   "source": [
    "# 1. SIMOC-B2 Data Files"
   ]
  },
  {
   "cell_type": "markdown",
   "id": "a27c6a3c",
   "metadata": {},
   "source": [
    "### Base SIMOC Agents"
   ]
  },
  {
   "cell_type": "code",
   "execution_count": 28,
   "id": "ef748f55",
   "metadata": {},
   "outputs": [
    {
     "name": "stdout",
     "output_type": "stream",
     "text": [
      "----inhabitants---- \n",
      "human_agent\n",
      "----eclss---- \n",
      "solid_waste_aerobic_bioreactor, urine_recycling_processor_VCD, multifiltration_purifier_post_treatment, oxygen_generation_SFWE, co2_reduction_sabatier, co2_removal_SAWD, co2_makeup_valve, particulate_removal_TCCS, dehumidifier, ch4_removal_agent\n",
      "----plants---- \n",
      "rice, wheat, cabbage, chard, celery, lettuce, spinach, dry_bean, peanut, soybean, strawberry, tomato, green_onion, onion, pea, pepper, snap_bean, radish, red_beet, carrot, sweet_potato, white_potato\n",
      "----isru---- \n",
      "----structures---- \n",
      "crew_habitat_sam, crew_habitat_small, crew_habitat_medium, crew_habitat_large, greenhouse_sam, greenhouse_small, greenhouse_medium, greenhouse_large, airlock, atmosphere_equalizer\n",
      "----fabrication---- \n",
      "----power_generation---- \n",
      "solar_pv_array_mars, solar_pv_array_moon, wind_turbine, radioisotope_generator\n",
      "----mobility---- \n",
      "----communication---- \n",
      "radio, lab_equipment\n",
      "----storage---- \n",
      "air_storage, water_storage, nutrient_storage, ration_storage, food_storage, power_storage, co2_storage\n"
     ]
    }
   ],
   "source": [
    "import numpy as np\n",
    "import pandas as pd\n",
    "import functools, math, statistics, collections, itertools\n",
    "import json\n",
    "\n",
    "# Print all the agents we currently have with their category\n",
    "current_agents = []\n",
    "agent_desc = None\n",
    "with open('data_files/agent_desc.json') as f:\n",
    "    agent_desc = json.load(f)\n",
    "    for category, agents in agent_desc.items():\n",
    "        print(f'----{category}----', \n",
    "              f'\\n{\", \".join(agents)}' if agents else '')"
   ]
  },
  {
   "cell_type": "markdown",
   "id": "faaf5e9b",
   "metadata": {},
   "source": [
    "### agent_desc\n",
    "\n",
    "Documentation: https://simoc.space/docs/user_guide/api/data-objects.html#agent-description \n",
    "\n",
    "Compile a new agent_desc specifically for simoc.\n",
    "- All agents expected in v1\n",
    "- Where possible, use the most similar SIMOC agent\n",
    "- Other places, define barebones new agents with directionally-correct data"
   ]
  },
  {
   "cell_type": "code",
   "execution_count": 12,
   "id": "379b674c",
   "metadata": {},
   "outputs": [],
   "source": [
    "import copy\n",
    "\n",
    "# Copy existing agents as placeholders where relevant\n",
    "def _(_class, _agent):\n",
    "    \"\"\"Helper func to return default agent_desc data\"\"\"\n",
    "    return copy.deepcopy(agent_desc[_class][_agent])\n",
    "b2_agent_desc = {\n",
    "    'inhabitants': {\n",
    "        'human_agent': _('inhabitants', 'human_agent'),\n",
    "    },\n",
    "    'eclss': {\n",
    "        'co2_removal': _('eclss', 'co2_removal_SAWD'),\n",
    "        'o2_makeup_valve': {},  # Add manually below       \n",
    "    },\n",
    "    'plants': {        \n",
    "        'rice': _('plants', 'rice'),\n",
    "        'wheat': _('plants', 'wheat'),\n",
    "#         'sorghum': _('plants', 'rice'),  # Placeholder\n",
    "        'sweet_potato': _('plants', 'sweet_potato'),\n",
    "#         'vegetables': _('plants', 'carrot'),  # Placeholder\n",
    "        'soybean': _('plants', 'soybean'),\n",
    "        'peanut': _('plants', 'peanut'),\n",
    "#         'corn': _('plants', 'rice'),  # Placeholder\n",
    "        'dry_bean': _('plants', 'dry_bean'),\n",
    "#         'orchard': _('plants', 'strawberry'),  # Placeholder\n",
    "    },\n",
    "    'structures': {\n",
    "        'b2_greenhouse': _('structures', 'greenhouse_large'), \n",
    "        'b2_crew_habitat': _('structures', 'crew_habitat_large'),\n",
    "        'b2_biomes': _('structures', 'crew_habitat_large'),  # so equalizer recognized as 'habitat'\n",
    "        'atm_eq_gh_crew': _('structures', 'atmosphere_equalizer'),\n",
    "        'atm_eq_gh_biomes': _('structures', 'atmosphere_equalizer'),\n",
    "        'soil': {},  # Add manually below\n",
    "        'concrete': {},  # Add manually below\n",
    "    },\n",
    "    'storage': {\n",
    "        'water_storage': _('storage', 'water_storage'),\n",
    "        'food_storage': _('storage', 'food_storage'),\n",
    "        'nutrient_storage': _('storage', 'nutrient_storage'),       \n",
    "        'o2_storage': {},  # Add manually below       \n",
    "    }\n",
    "}\n",
    "\n",
    "# Remove all kwh exchanges (v1 of SIMOC-B2 does not include electricity)\n",
    "to_remove = []  # Make a list of tuples of paths to all kwh exchanges\n",
    "for agent_class, agents in b2_agent_desc.items():\n",
    "    for agent, agent_data in agents.items():\n",
    "        if 'data' not in agent_data:\n",
    "            continue\n",
    "        for direction in ('input', 'output'):\n",
    "            for i, exchange in enumerate(agent_data['data'][direction]):\n",
    "                if exchange['type'] == 'kwh':\n",
    "                    to_remove.append((agent_class, agent, direction, i))\n",
    "for (agent_class, agent, direction, i) in to_remove:  # Delete one-by-one\n",
    "    # There would be max one kwh exchange per direction, so this is safe\n",
    "    del b2_agent_desc[agent_class][agent]['data'][direction][i]\n",
    "\n",
    "# Soil\n",
    "b2_agent_desc['structures']['soil'] = {\n",
    "    'description': '1 m^3 of respirating organic soil.',\n",
    "    'data': {\n",
    "        \"input\": [{\n",
    "            \"type\": \"o2\",\n",
    "            \"value\": 0.037083,\n",
    "            \"flow_rate\": {\"unit\": \"kg\", \"time\": \"hour\"},\n",
    "        }],\n",
    "        \"output\": [{\n",
    "            \"type\": \"co2\",\n",
    "            \"value\": 0.045,\n",
    "            \"flow_rate\": {\"unit\": \"kg\", \"time\": \"hour\"},\n",
    "        }],\n",
    "        \"characteristics\": [\n",
    "            {\"type\": \"volume\", \"value\": 1, \"unit\": \"m^3\"}]}}\n",
    "\n",
    "# Concrete\n",
    "b2_agent_desc['structures']['concrete'] = {\n",
    "    'description': '1 m^3 of calcifying concrete of a specified age',\n",
    "    'data': {\n",
    "        \"input\": [{\n",
    "            \"type\": \"co2\",\n",
    "            \"value\": 0.05,\n",
    "            \"flow_rate\": {\"unit\": \"kg\", \"time\": \"hour\"},\n",
    "            \"growth\": {\n",
    "                \"lifetime\": {\n",
    "                    \"type\": \"linear\",\n",
    "                }\n",
    "            }\n",
    "        }],\n",
    "        \"output\": [],\n",
    "        \"characteristics\": [\n",
    "            {\"type\": \"volume\", \"value\": 1, \"unit\": \"m^3\"},\n",
    "            {\"type\": \"age_at_start\", \"value\": 0, \"unit\": \"hour\"}]}}\n",
    "\n",
    "# O2 Resupply System\n",
    "b2_agent_desc['eclss']['o2_makeup_valve'] = {\n",
    "    'description': 'Release o2 into atmosphere when it drops below 20%',\n",
    "    \"data\": {\n",
    "        \"input\": [{\n",
    "            \"type\": \"o2\",\n",
    "            \"value\": 0.085,\n",
    "            \"required\": \"mandatory\",\n",
    "            \"flow_rate\": {\"unit\": \"kg\", \"time\": \"hour\"},\n",
    "            \"criteria\": {\n",
    "                \"name\": \"o2_ratio_out\",\n",
    "                \"limit\": \"<\",\n",
    "                \"value\": 0.2,\n",
    "                \"buffer\": 8}\n",
    "        }],\n",
    "        \"output\": [{\n",
    "            \"type\": \"o2\",\n",
    "            \"value\": 0.085,\n",
    "            \"required\": \"mandatory\",\n",
    "            \"requires\": [\"o2\"],\n",
    "            \"flow_rate\": {\"unit\": \"kg\", \"time\": \"hour\"},\n",
    "        }],    \n",
    "        \"characteristics\": []}}\n",
    "b2_agent_desc['storage']['o2_storage'] = {\n",
    "    \"description\": \"Store o2 resupply, released via makeup valve\",\n",
    "    \"data\": {\n",
    "        \"input\": [],\n",
    "        \"output\": [],\n",
    "        \"characteristics\": [{\n",
    "            \"type\": \"capacity_o2\",\n",
    "            \"value\": 10000,\n",
    "            \"unit\": \"kg\"}]}}\n",
    "del b2_agent_desc['eclss']['co2_removal']['data']['output'][0]\n",
    "\n",
    "# Add food_storage capacity for all plants\n",
    "chars = b2_agent_desc['storage']['food_storage']['data']['characteristics']\n",
    "chars = [c for c in chars if not c['type'].startswith('capacity')]\n",
    "for plant in b2_agent_desc['plants']:\n",
    "    chars.append({\n",
    "        'type': f'capacity_{plant}',\n",
    "        'value': 10_000,\n",
    "        'unit': 'kg'})\n",
    "b2_agent_desc['storage']['food_storage']['data']['characteristics'] = chars"
   ]
  },
  {
   "cell_type": "markdown",
   "id": "508f9c05",
   "metadata": {},
   "source": [
    "### currency_desc"
   ]
  },
  {
   "cell_type": "code",
   "execution_count": 13,
   "id": "99e38b4e",
   "metadata": {},
   "outputs": [
    {
     "name": "stdout",
     "output_type": "stream",
     "text": [
      "Missing: set()\n"
     ]
    }
   ],
   "source": [
    "import json\n",
    "from collections import defaultdict\n",
    "\n",
    "# Load the default currency_desc\n",
    "currency_desc = None\n",
    "with open('data_files/currency_desc.json') as f:\n",
    "    currency_desc = json.load(f)\n",
    "\n",
    "# Make a set of the currencies used by b2 agents\n",
    "required_currencies = set()\n",
    "for agent_class, agents in b2_agent_desc.items():\n",
    "    for agent, agent_data in agents.items():\n",
    "        if 'data' not in agent_data:\n",
    "            continue\n",
    "        for direction in ('input', 'output'):\n",
    "            for exchange in agent_data['data'][direction]:\n",
    "                if exchange['type'] in currency_desc:\n",
    "                    continue  # Ignore currency class exchanges\n",
    "                required_currencies.add(exchange['type'])\n",
    "    \n",
    "# Maually add a few\n",
    "required_currencies.update(('n2', 'h2', 'ch4', 'treated', 'waste'))\n",
    "\n",
    "# Copy relevant currencies from default currency_desc\n",
    "b2_currency_desc = defaultdict(dict)\n",
    "for curr_class, currencies in currency_desc.items():\n",
    "    for curr, cdata in currencies.items():\n",
    "        if curr in required_currencies:\n",
    "            b2_currency_desc[curr_class][curr] = cdata\n",
    "b2_currency_desc = dict(b2_currency_desc)\n",
    "\n",
    "# Find the missing currencies\n",
    "found_currencies = set()\n",
    "for currencies in b2_currency_desc.values():\n",
    "    found_currencies.update(c for c in currencies)\n",
    "\n",
    "print(f'Missing: {required_currencies.difference(found_currencies)}')"
   ]
  },
  {
   "cell_type": "markdown",
   "id": "2aee6a37",
   "metadata": {},
   "source": [
    "### agent_conn"
   ]
  },
  {
   "cell_type": "code",
   "execution_count": 14,
   "id": "01447b13",
   "metadata": {},
   "outputs": [],
   "source": [
    "b2_agent_conn = [\n",
    "    # Humans\n",
    "    {'from': 'b2_crew_habitat.o2', 'to': 'human_agent.o2'},\n",
    "    {'from': 'water_storage.potable', 'to': 'human_agent.potable'},\n",
    "    {'from': 'food_storage.food', 'to': 'human_agent.food'},\n",
    "    {'from': 'human_agent.co2', 'to': 'b2_crew_habitat.co2'},\n",
    "    {'from': 'human_agent.h2o', 'to': 'b2_crew_habitat.h2o'},\n",
    "    {'from': 'human_agent.urine', 'to': 'water_storage.urine'},\n",
    "    {'from': 'human_agent.feces', 'to': 'water_storage.feces'},\n",
    "    \n",
    "    # ECLSS\n",
    "    {'from': 'b2_greenhouse.co2', 'to': 'co2_removal.co2'},\n",
    "    {'from': 'o2_storage.o2', 'to': 'o2_makeup_valve.o2'},\n",
    "    {'from': 'o2_makeup_valve.o2', 'to': 'b2_greenhouse.o2'},\n",
    "]\n",
    "\n",
    "# Plants\n",
    "for plant in b2_agent_desc['plants']:\n",
    "    # Plants\n",
    "    b2_agent_conn += [\n",
    "      {\"from\": \"b2_greenhouse.co2\", \"to\": f\"{plant}.co2\"},\n",
    "      {\"from\": \"water_storage.potable\", \"to\": f\"{plant}.potable\"},\n",
    "      {\"from\": \"nutrient_storage.fertilizer\", \"to\": f\"{plant}.fertilizer\"},\n",
    "      {\"from\": f\"{plant}.biomass\", \"to\": f\"{plant}.biomass\"},\n",
    "      {\"from\": f\"{plant}.inedible_biomass\", \"to\": \"nutrient_storage.inedible_biomass\"},\n",
    "      {\"from\": f\"{plant}.o2\", \"to\": \"b2_greenhouse.o2\"},\n",
    "      {\"from\": f\"{plant}.h2o\", \"to\": \"b2_greenhouse.h2o\"},\n",
    "      {\"from\": f\"{plant}.{plant}\", \"to\": f\"food_storage.{plant}\"},\n",
    "    ]\n",
    "\n",
    "# Structures\n",
    "for equalizer, connection in zip(('atm_eq_gh_crew', 'atm_eq_gh_biomes'),\n",
    "                                  ('b2_crew_habitat', 'b2_biomes')):\n",
    "    b2_agent_conn += [\n",
    "        {'from': 'b2_greenhouse.atmosphere', 'to': f'{equalizer}.atmosphere'},\n",
    "        {'from': f'{connection}.atmosphere', 'to': f'{equalizer}.atmosphere'},\n",
    "        {'from': f'{equalizer}.atmosphere', 'to': 'b2_greenhouse.atmosphere'},\n",
    "        {'from': f'{equalizer}.atmosphere', 'to': f'{connection}.atmosphere'},\n",
    "    ]\n",
    "b2_agent_conn += [\n",
    "    {'from': 'b2_greenhouse.co2', 'to': 'concrete.co2'},\n",
    "    {'from': 'concrete.o2', 'to': 'b2_greenhouse.o2'},\n",
    "    {'from': 'b2_greenhouse.o2', 'to': 'soil.o2'},\n",
    "    {'from': 'soil.co2', 'to': 'b2_greenhouse.co2'},\n",
    "]"
   ]
  },
  {
   "cell_type": "markdown",
   "id": "04130d2c",
   "metadata": {},
   "source": [
    "### Base config\n",
    "Documentation: https://simoc.space/docs/user_guide/api/data-objects.html#config"
   ]
  },
  {
   "cell_type": "code",
   "execution_count": 15,
   "id": "a1c26d54",
   "metadata": {},
   "outputs": [],
   "source": [
    "from agent_model.util import calc_air_storage, calc_water_storage\n",
    "\n",
    "def volume(target):\n",
    "    \"\"\"Helper function to return volume from agent_desc for agent\"\"\"\n",
    "    for agent_class, agents in b2_agent_desc.items():\n",
    "        for agent, agent_data in agents.items():\n",
    "            if agent == target:\n",
    "                for char in agent_data['data']['characteristics']:\n",
    "                    if char['type'] == 'volume':\n",
    "                        return char['value']\n",
    "    from IPython import embed; embed()\n",
    "                \n",
    "b2_config = {\n",
    "    # Default fields\n",
    "    'priorities': ['structures', 'storage', 'inhabitants', 'eclss', 'plants'],\n",
    "    'seed': 12345,\n",
    "    'global_entropy': 0,\n",
    "    'location': 'earth',\n",
    "    'minutes_per_step': 60,\n",
    "    'single_agent': 1,\n",
    "\n",
    "    # Adjustable Fields\n",
    "    'termination': [{'condition': 'time', 'value': 365, 'unit': 'day',}],\n",
    "    'agents': {\n",
    "        \n",
    "        # Inhabitants\n",
    "        'human_agent': {'amount': 1},\n",
    "        'soil': {'amount': 1},\n",
    "        \n",
    "        # ECLSS\n",
    "        'co2_removal': {'amount': 1},\n",
    "        'o2_makeup_valve': {'amount': 1},\n",
    "        \n",
    "        # Plants\n",
    "        'rice': {'amount': 80},\n",
    "        'wheat': {'amount': 80},\n",
    "#         'sorghum': {'amount': 80},\n",
    "        'sweet_potato': {'amount': 80},\n",
    "#         'vegetables': {'amount': 80},\n",
    "        'soybean': {'amount': 80},\n",
    "        'peanut': {'amount': 80},\n",
    "#         'corn': {'amount': 80},\n",
    "        'dry_bean': {'amount': 80},\n",
    "#         'orchard': {'amount': 80},\n",
    "        \n",
    "        # Structures\n",
    "        'b2_greenhouse': calc_air_storage(volume('b2_greenhouse')),\n",
    "        'b2_crew_habitat': calc_air_storage(volume('b2_crew_habitat')),\n",
    "        'b2_biomes': calc_air_storage(volume('b2_biomes')),\n",
    "        'atm_eq_gh_crew': {'amount': 1},\n",
    "        'atm_eq_gh_biomes': {'amount': 1},\n",
    "        'concrete': {'amount': 1},\n",
    "        \n",
    "        # Storage\n",
    "        'water_storage': calc_water_storage(volume('water_storage')),\n",
    "        'nutrient_storage': {'amount': 1, \"fertilizer\": 10_000},\n",
    "        'food_storage': {plant: 50 for plant in b2_agent_desc['plants']},\n",
    "        'o2_storage': {'o2': 2_000},\n",
    "    }\n",
    "}"
   ]
  },
  {
   "cell_type": "markdown",
   "id": "fe608917",
   "metadata": {},
   "source": [
    "### Run in SIMOC"
   ]
  },
  {
   "cell_type": "code",
   "execution_count": 16,
   "id": "af91790e",
   "metadata": {},
   "outputs": [],
   "source": [
    "import matplotlib.pyplot as plt\n",
    "\n",
    "# A helper function to plot all elements in a group.\n",
    "def plot_group(group, exclude=[], i=None, j=None):\n",
    "    plt.figure(figsize=(12,6))\n",
    "    length = len(next(iter(group.values())))\n",
    "    i = i if i else 0\n",
    "    j = j if j else length-1\n",
    "    steps = [i for i in range(j-i)]\n",
    "    for currency, values in group.items():\n",
    "        if sum(values) == 0 or currency in exclude:\n",
    "            continue\n",
    "        plt.plot(steps, values[i:j], label=currency)\n",
    "    plt.legend()\n",
    "    plt.show()\n",
    "    \n",
    "def plot_currency(data, currency, exclude=[], i=None, j=None):\n",
    "    \"\"\"Plot all agents who use a particular currency\"\"\"\n",
    "    \n",
    "    # Iterate through data and extract all records\n",
    "    flows = {}\n",
    "    length = None\n",
    "    for agent_name, agent_data in data.items():\n",
    "        if 'flow_records' not in agent_data:\n",
    "            continue\n",
    "        for currency_name, currency_data in agent_data['flow_records'].items():\n",
    "            if currency_name != currency:\n",
    "                continue\n",
    "            flow_records = {}\n",
    "            if not length:\n",
    "                length = len(currency_data)\n",
    "            for n, step in enumerate(currency_data):\n",
    "                # Steps can include records for multiple currencies, \n",
    "                # or multiple records for the same currency\n",
    "                at_least_one = False\n",
    "                for record in step:\n",
    "                    if agent_name not in flows:\n",
    "                        flows[agent_name] = [] + [0] * n\n",
    "                    if not at_least_one:\n",
    "                        at_least_one = True\n",
    "                        flows[agent_name].append(-record['amount'])\n",
    "                    else:\n",
    "                        flows[agent_name][-1] -= record['amount']\n",
    "                if not at_least_one and agent_name in flows:\n",
    "                    flows[agent_name].append(0)\n",
    "    \n",
    "    if not length:\n",
    "        print(\"No flow records for\", currency)\n",
    "        return\n",
    "    \n",
    "    # Plot data\n",
    "    plt.figure(figsize=(12,6))\n",
    "    i = i if i else 0\n",
    "    j = j if j else length\n",
    "    steps = [x for x in range(j-i)]\n",
    "    for agent_name, agent_data in flows.items():\n",
    "        if agent_name in exclude:\n",
    "            continue\n",
    "        pad_zeros = len(steps) - len(agent_data)\n",
    "        if pad_zeros > 0:\n",
    "            agent_data += [0] * pad_zeros\n",
    "        plt.plot(steps, agent_data[i:j], label=agent_name)\n",
    "    plt.legend(loc='lower right')\n",
    "    plt.show()"
   ]
  },
  {
   "cell_type": "code",
   "execution_count": 17,
   "id": "f0ec86f4",
   "metadata": {
    "scrolled": false
   },
   "outputs": [
    {
     "data": {
      "image/png": "[encoded data removed]",
      "text/plain": [
       "<Figure size 864x432 with 1 Axes>"
      ]
     },
     "metadata": {
      "needs_background": "light"
     },
     "output_type": "display_data"
    }
   ],
   "source": [
    "from agent_model import AgentModel\n",
    "import matplotlib.pyplot as plt\n",
    "\n",
    "simoc = AgentModel.from_config(\n",
    "    b2_config, \n",
    "    data_collection=True,\n",
    "    currency_desc=b2_currency_desc,\n",
    "    agent_desc=b2_agent_desc,\n",
    "    agent_conn=b2_agent_conn,\n",
    "    agent_variation=None,\n",
    "    agent_events=None,\n",
    "    merge=False\n",
    ")\n",
    "\n",
    "simoc.step_to(n_steps=300)\n",
    "data = simoc.get_data(debug=True)\n",
    "plot_currency(data, 'co2')"
   ]
  },
  {
   "cell_type": "markdown",
   "id": "f4af4081",
   "metadata": {},
   "source": [
    "# 2. Validation Data\n",
    "- List all inputs and expected outputs with their original reference.\n",
    "- Write tests to evaluate the model against all those outputs\n",
    "- Build a loss function for outputs to make it trainable"
   ]
  },
  {
   "cell_type": "code",
   "execution_count": 18,
   "id": "c2838d6d",
   "metadata": {},
   "outputs": [],
   "source": [
    "# Dates / General\n",
    "mission_1a_start_date = '1991-09-26'\n",
    "mission_1b_start_date = '1993-01-12'  # Day 475, pure O2 added\n",
    "mission_1_end_date = '1993-09-25'\n",
    "mission_1_crew_size = 8\n",
    "\n",
    "mission_2_start_date = '1994-03-06'\n",
    "mission_2_end_date = '1994-09-06'\n",
    "mission_2_end_date_original = '1995-01-06'\n",
    "mission_2_crew_size = 7"
   ]
  },
  {
   "cell_type": "code",
   "execution_count": 123,
   "id": "be1d5ce6",
   "metadata": {},
   "outputs": [
    {
     "data": {
      "text/plain": [
       "Text(0, 0.5, '')"
      ]
     },
     "execution_count": 123,
     "metadata": {},
     "output_type": "execute_result"
    },
    {
     "data": {
      "image/png": "[encoded data removed]",
      "text/plain": [
       "<Figure size 360x360 with 1 Axes>"
      ]
     },
     "metadata": {},
     "output_type": "display_data"
    }
   ],
   "source": [
    "# Marino et. al. The Agricuultural biome of Biosphere 2: Structure, compostion and function\n",
    "# Page 202: Design and description\n",
    "iab_soil_volume = 2_000  # m2\n",
    "data = [\n",
    "    # Plot, area, crop\n",
    "    (1, 69, 'Rice/Azalia/Tilapia'),\n",
    "    (2, 56, 'Wheat'),\n",
    "    (3, 55, 'Sorghum'),\n",
    "    (4, 45, 'Peanut/Corn'),\n",
    "    (5, 40, 'Beans'),\n",
    "    (6, 52, 'Sweet Potato'),\n",
    "    (7, 54, 'Sweet Potato'),\n",
    "    (8, 50, 'Beans'),\n",
    "    (9, 60, 'Vegetables'),\n",
    "    (10, 89, 'Rice/Azalia/Tilapia'),\n",
    "    (11, 81, 'Soybeans'),\n",
    "    (12, 88, 'Corn'),\n",
    "    (13, 94, 'Wheat'),\n",
    "    (14, 81, 'Vegetables'),\n",
    "    (15, 78, 'Rice'),\n",
    "    (16, 83, 'Upland Rice/Corn'),\n",
    "    (17, 102, 'Soybean/Sorghum'),\n",
    "    (18, 92, 'Peanut/Corn')]\n",
    "\n",
    "# p214: \"By the last quarter of Mission 1, approximately 65% of the \n",
    "# agricultural area was planted in only three crops: beet, sweet potato \n",
    "# and lab-lab bean.\"\n",
    "mission_2_staple_ratio = 0.65\n",
    "\n",
    "# Merge plots of same crop for the chart\n",
    "unique_plants = set([d[2] for d in data])\n",
    "total_areas = {p:0 for p in unique_plants}\n",
    "for plot, area, crop in data:\n",
    "    total_areas[crop] += area\n",
    "iab = pd.DataFrame(list(total_areas.values()), \n",
    "                   index=list(total_areas.keys()), \n",
    "                   columns=['area'])\n",
    "ax = iab['area'].plot.pie(figsize=(5, 5))\n",
    "ax.set_title('Intensive Agriculture Biome (IAB) Layout, Mission 2')\n",
    "\n",
    "ax.set_ylabel('')"
   ]
  },
  {
   "cell_type": "code",
   "execution_count": 124,
   "id": "798a118f",
   "metadata": {},
   "outputs": [
    {
     "data": {
      "text/plain": [
       "Text(0.5, 1.0, 'Selected Plant Productivity, day 0-600')"
      ]
     },
     "execution_count": 124,
     "metadata": {},
     "output_type": "execute_result"
    },
    {
     "data": {
      "image/png": "[encoded data removed]",
      "text/plain": [
       "<Figure size 432x288 with 1 Axes>"
      ]
     },
     "metadata": {
      "needs_background": "light"
     },
     "output_type": "display_data"
    }
   ],
   "source": [
    "# Marino et. al. The Agricuultural biome of Biosphere 2: Structure, compostion and function\n",
    "# Page 220: Comparisons of plant productivity for selected IAB and CELSS crops\n",
    "cols = ['mission', 'wheat', 'rice', 'corn', 'sorghum']\n",
    "data = [('1a', 0.0017, 0.0023, 0, 0.0017),\n",
    "       ('1b', .0012, 0.0016, 0, 0.0016),\n",
    "       ('2', 0.003, 0.006, 0.0039, 0.0038)]\n",
    "\n",
    "production_rate = pd.DataFrame(data, columns=cols)\n",
    "ax = production_rate.plot.bar(x='mission')\n",
    "ax.set_ylabel('Production rate (kg/m2-day)')\n",
    "ax.set_title('Selected Plant Productivity, day 0-600')"
   ]
  },
  {
   "cell_type": "code",
   "execution_count": 22,
   "id": "56ecc9da",
   "metadata": {},
   "outputs": [
    {
     "data": {
      "text/plain": [
       "label\n",
       "co2                AxesSubplot(0.125,0.2;0.775x0.68)\n",
       "co2_in_scrubber    AxesSubplot(0.125,0.2;0.775x0.68)\n",
       "o2                 AxesSubplot(0.125,0.2;0.775x0.68)\n",
       "Name: moles, dtype: object"
      ]
     },
     "execution_count": 22,
     "metadata": {},
     "output_type": "execute_result"
    },
    {
     "data": {
      "image/png": "[encoded data removed]",
      "text/plain": [
       "<Figure size 432x288 with 1 Axes>"
      ]
     },
     "metadata": {
      "needs_background": "light"
     },
     "output_type": "display_data"
    }
   ],
   "source": [
    "# Severignhaus et al. Atmospheric Budget for Biosphere 2,  Sept. 26, 1991 - June 7, 1993\n",
    "# Daily o2 and co2 data, estimated from graphic (p1)\n",
    "data_files_path = 'simoc_server/test/b2_data_files/'\n",
    "fnames = [('o2', 'severinghaus_o2_datapoints.csv'), \n",
    "          ('co2', 'severinghaus_co2_datapoints.csv'),\n",
    "          ('co2_in_scrubber', 'severinghaus_co2_offset_datapoints.csv')]\n",
    "moles = pd.DataFrame([])\n",
    "for var, fname in fnames:\n",
    "    df = pd.read_csv(data_files_path + fname, header=None)\n",
    "    df.columns = ['julian', 'moles']\n",
    "    df['label'] = var\n",
    "    \n",
    "    df['timestamp'] = pd.to_datetime(mission_1a_start_date)  # Create timestamp column\n",
    "    time_delta = pd.to_timedelta(df['julian'], unit='D')  # julian -> timedelta\n",
    "    df['timestamp'] += time_delta  # Add timedelta to timestamp\n",
    "    moles = pd.concat([moles, df], axis=0)  # Add to all records\n",
    "    \n",
    "    \n",
    "moles.set_index('timestamp').groupby('label').moles.plot(\n",
    "    legend=True, title='mole fraction')"
   ]
  },
  {
   "cell_type": "code",
   "execution_count": 125,
   "id": "c7a5afbf",
   "metadata": {},
   "outputs": [
    {
     "data": {
      "text/plain": [
       "<Figure size 432x288 with 0 Axes>"
      ]
     },
     "metadata": {},
     "output_type": "display_data"
    },
    {
     "data": {
      "image/png": "[encoded data removed]",
      "text/plain": [
       "<Figure size 864x288 with 2 Axes>"
      ]
     },
     "metadata": {
      "needs_background": "light"
     },
     "output_type": "display_data"
    }
   ],
   "source": [
    "# Severignhaus et al. Atmospheric Budget for Biosphere 2,  Sept. 26, 1991 - June 7, 1993\n",
    "# Table 1: Known inputs and outputs\n",
    "cols = ['description', 'o2_kmoles', 'o2_uncertainty', 'co2_kmoles', 'co2_uncertainty']\n",
    "data = [('Air added on day 75', 126, 4, 0, 0),\n",
    "        ('Air dumped on day 474', -31, 2, -1, 1),\n",
    "        ('Pure O2 added on days 475-494', 441, 8, 0, 0),\n",
    "        ('Total CO2 taken up by scrubber', 0, 0, -98, 10),\n",
    "        ('Estimated net leakage', 2, 24, -2, 1),\n",
    "        ('Soil Respiration', -708, 27, 662, 40),\n",
    "        ('Concrete Calcification', 0, 0, -550, 38),]\n",
    "table_1 = pd.DataFrame(data, columns=cols)\n",
    "table_1.head()\n",
    "\n",
    "plt.subplots_adjust(wspace=10)\n",
    "fig, ax = plt.subplots(1, 2, figsize=(12, 4))\n",
    "fig.tight_layout()\n",
    "y_pos = range(table_1.shape[0])\n",
    "for i, currency in enumerate(('o2', 'co2')):\n",
    "    ax[i].vlines(0, 0, 6, colors='lightgray')\n",
    "    ax[i].barh(y_pos, \n",
    "               table_1[f'{currency}_kmoles'], \n",
    "               xerr=table_1[f'{currency}_uncertainty'], \n",
    "               align='center')\n",
    "    if i == 0:\n",
    "        ax[i].set_yticks(y_pos, labels=table_1['description'])\n",
    "    ax[i].invert_yaxis()  # labels read top-to-bottom\n",
    "    ax[i].set_xlabel('Input / Output (kmoles)')\n",
    "    ax[i].set_title(f'{currency} budget, day 0-600')"
   ]
  },
  {
   "cell_type": "markdown",
   "id": "171d61c9",
   "metadata": {},
   "source": [
    "# 3. B2 presets\n",
    "\n",
    "The starting agents and quantities for:\n",
    "1. Mission 1a: The initial mission without o2 resupply\n",
    "2. Mission 1b: The initial mission beginning at the time o2 resupply is added\n",
    "3. Mission 2: The second mission (after a several-month break)"
   ]
  },
  {
   "cell_type": "code",
   "execution_count": null,
   "id": "a63b33e2",
   "metadata": {},
   "outputs": [],
   "source": [
    "# Everything except 'agents'\n",
    "default_config = {\n",
    "    'termination': [{\n",
    "        'condition': 'time',\n",
    "        'value': 365,\n",
    "        'unit': 'day',\n",
    "    }],\n",
    "    'priorities': [\n",
    "        'structures', 'storage', 'inhabitants', 'eclss', 'plants'\n",
    "    ],\n",
    "    'seed': 12345,\n",
    "    'global_entropy': 0,\n",
    "    'location': 'earth',\n",
    "    'minutes_per_step': 60,\n",
    "    'single_agent': 1,\n",
    "}\n",
    "\n",
    "\n",
    "# The original mission:\n",
    "# - Humans: amount, weight, rates of metabolism / respiration\n",
    "# - Structures: volume & composition of atmosphere\n",
    "# - Plants: which species (limit to those listed above), amount (area)\n",
    "# - Pests: any data related to the affect of pests\n",
    "config_mission_1a = {\n",
    "    **default_config,\n",
    "    'agents': {\n",
    "        'human_agent': {\n",
    "            'amount': 1,\n",
    "        }\n",
    "    },\n",
    "}\n",
    "\n",
    "# Figure 3 shows the comparison of yields between mission 1 and 2,\n",
    "# Mission 1\n",
    "# Rice 2.4 MT/ha\n",
    "# Wheat 1.8 MT/ha\n",
    "# Corn 0 MT/ha\n",
    "# Sorghum 2.1 MT/ha\n",
    "# Soybean 2.5 MT/ha\n",
    "\n",
    "# The original mission from the time o2 is added\n",
    "# - What day was it added? Duration?\n",
    "# - Starting atmosphere, currencies, agents should match mission_1a at that time\n",
    "# - Reconfigured greenhouse, much simplified. Amount, species\n",
    "\n",
    "\n",
    "\n",
    "# - O2 in from storage (mimic the CO2 resupply valve)\n",
    "config_mission_1b = {\n",
    "    **default_config,\n",
    "    'agents': {\n",
    "        'human_agent': {\n",
    "            'amount': 1,\n",
    "        }\n",
    "    },\n",
    "}\n",
    "\n",
    "# The second mission, things went much better\n",
    "# - How long after the start of mission_1a?\n",
    "# - How is garden reconfigured\n",
    "\n",
    "# Per Figure 1 in Marino et. al, this configuration is 1994\n",
    "# Rice / Azolla / Tilapia 69+89 m^2 -- Plots 1,10\n",
    "# Wheat 56+94 m ^2                  -- Plots 2,13\n",
    "# Sorghum 55 m^2                    -- Plot 3\n",
    "# Peanut / Corn 45 m ^2             -- Plot 4\n",
    "# Beans 40+90 m^2                   -- Plots 5,8\n",
    "# Sweet Potato 52+54 m^2            -- Plots 6,7\n",
    "# \"Vegetables\" 60+81 m^2            -- Plots 9,14 \n",
    "# Soybeans 81 m^2                   -- Plot 11\n",
    "# Corn 88 m^2                       -- Plot 12\n",
    "# Rice 78 m^2                       -- Plot 15\n",
    "# Upland Rice / Corn 83 m^2         -- Plot 16\n",
    "# Sorghum / Soybean 102 m^2         -- Plot 17\n",
    "# Peanut / Corn 82 m^2              -- Plot 18\n",
    "\n",
    "# Table 1 shows that mission 2 eliminates:\n",
    "#  kale, kohlrabi,  peas,  plantains, winter squash, tumeric, loquat, coconut,\n",
    "# cacao, grape, pineapple, apple, grape, kumquat, acerola, Bay Tree,\n",
    "\n",
    "# Mission 2 adds:\n",
    "# mustard leaf, garlic, okra, sponge gourd, pumpkin, bottle gourd, zucchini, oregano,\n",
    "# Coriander, Parsley, Rosemary, Fennel, Ginger, and Tapioca, rice beans, kidney beans,\n",
    "# navy beans, lima beans, \n",
    "\n",
    "# Table 1 also shows a variety of plants that were maintained in both missions without\n",
    "# elaborating on quantities due to being in the orchard or balconies\n",
    "\n",
    "# Figure 3 shows the comparison of yields between mission 1 and 2,\n",
    "# Mission 2\n",
    "# Rice 7.4 MT/ha\n",
    "# Wheat 3.5 MT/ha\n",
    "# Corn 4 MT/ha\n",
    "# Sorghum 4.5 MT/ha\n",
    "# Soybean 2 MT/ha\n",
    " \n",
    "\n",
    "# - Predators: any information about which predators and their impact\n",
    "# - How much additional time spent weeding?\n",
    "config_mission_2 = {\n",
    "    **default_config,\n",
    "    'agents': {\n",
    "        'human_agent': {\n",
    "            'amount': 1,\n",
    "        }\n",
    "    },\n",
    "}"
   ]
  },
  {
   "cell_type": "code",
   "execution_count": null,
   "id": "0181dfb1",
   "metadata": {},
   "outputs": [],
   "source": []
  }
 ],
 "metadata": {
  "kernelspec": {
   "display_name": "Python 3 (ipykernel)",
   "language": "python",
   "name": "python3"
  },
  "language_info": {
   "codemirror_mode": {
    "name": "ipython",
    "version": 3
   },
   "file_extension": ".py",
   "mimetype": "text/x-python",
   "name": "python",
   "nbconvert_exporter": "python",
   "pygments_lexer": "ipython3",
   "version": "3.9.10"
  },
  "vscode": {
   "interpreter": {
    "hash": "18df8ef59d13b0a4928ab1d0b586162daaca6dc39ef78161b8b2d419dc14d64d"
   }
  }
 },
 "nbformat": 4,
 "nbformat_minor": 5
}
